{
 "cells": [
  {
   "cell_type": "markdown",
   "metadata": {
    "id": "gtKllKL-EFgx"
   },
   "source": [
    "## Homework 1a: Introduction to PyTorch\n",
    "\n",
    "Welcome to CS 288.  The purpose of this first assignment is to make sure that you are familiar with all the tools you need to complete the programming assignments for the course.  We will walk you through the process of building a model with PyTorch in Colab.  Most of it will be structured as a tutorial, but we will ask you to fill in code and submit at the end. \n",
    "\n",
    "### Colab\n",
    "\n",
    "Our assignments will be given to you as Jupyter notebooks, and we intend for you to run them using Google Colab.\n",
    "Colab is an online editor that also provides free access to a GPU.\n",
    "To get started, make a copy of the assignment by clicking `File->Save a copy in drive...`.  You will need to be logged into a Google account, such as your @berkeley.edu account.\n",
    "\n",
    "To access a GPU, go to `Edit->Notebook settings` and in the `Hardware accelerator` dropdown choose `GPU`. \n",
    "As soon as you run a code cell, you will be connected to a cloud instance with a GPU.\n",
    "Try running the code cell below to check that a GPU is connected (select the cell then either click the play button at the top left or press `Ctrl+Enter` or `Shift+Enter`)."
   ]
  },
  {
   "cell_type": "code",
   "execution_count": 1,
   "metadata": {
    "colab": {
     "base_uri": "https://localhost:8080/"
    },
    "id": "82H_i6foD8A_",
    "outputId": "d107aeda-6410-4b8e-9055-6765ef667eb0"
   },
   "outputs": [
    {
     "name": "stdout",
     "output_type": "stream",
     "text": [
      "Found GPU\n"
     ]
    }
   ],
   "source": [
    "import torch\n",
    "\n",
    "if torch.cuda.is_available():\n",
    "    print('Found GPU')\n",
    "else:\n",
    "    print('Did not find GPU')"
   ]
  },
  {
   "cell_type": "markdown",
   "metadata": {
    "id": "_GJMaS91RICk"
   },
   "source": [
    "When you run a code cell, Colab executes it on a temporary cloud instance.  Every time you open the notebook, you will be assigned a different machine.  All compute state and files saved on the previous machine will be lost.  Therefore, you may need to re-download datasets or rerun code after a reset. If you save output files that you don't want to lose, you should download them to your personal computer before moving on to something else.  You can download files by hitting the > arrow at the top left of the page under the menus to expand the sidebar, selecting `Files`, right clicking the file you want, and clicking `Download`.  Alternatively, you can mount your Google drive to the temporary cloud instance's local filesystem using the following code snippet and save files under the specified directory (note that you will have to provide permission every time you run this).\n"
   ]
  },
  {
   "cell_type": "markdown",
   "metadata": {
    "id": "sFp3VopnW3lZ"
   },
   "source": [
    "Many of the assignments will require training a model for some period of time, often on the order of 20-30 minutes.  There are some important limitations to Colab that you should be aware of when running code for this amount of time.  If you close the window or put your computer to sleep, Colab will disconnect you from the compute machine and your code will stop running.   There are also timeouts for inactivity (somewhere on the order of 30 minutes), so if you want to leave code running, be sure to check back periodically.  After a timeout, your compute machine will be disconnected and the files on it will be lost.\n",
    "\n",
    "A few other notes about using Colab:\n",
    "* The `Runtime` menu has many different run options, such as `Run all` or `Run after` so you don't have to run each code block individually.\n",
    "* Some people have run into CUDA device assert errors that did not originate from their code.  Restarting the runtime should fix this (unless there actually is a problem with your code). If your code is causing CUDA device assert errors, then debugging on the CPU may be easier.\n",
    "\n",
    "If at some point you want to run longer jobs or connect to multiple GPUs, there are coupons for Google Compute Cloud available for students in the course. You could deploy your own cloud instance and run JupyterHub to recreate a similar environment to Colab. However, the course staff cannot offer technical support for this kind of configuration; you're on your own to set it up."
   ]
  },
  {
   "cell_type": "markdown",
   "metadata": {
    "id": "SlDcpSk3VW5l"
   },
   "source": [
    "### Part-of-Speech Tagging\n",
    "\n",
    "You'll be trying to predict the most common [part of speech](https://web.stanford.edu/~jurafsky/slp3/8.pdf) for a word from its characters.  This project will focus on word types rather than tokens and not use any context (https://en.wikipedia.org/wiki/Type%E2%80%93token_distinction). This task is different from (and simpler than) a standard part-of-speech tagging task, which predicts part-of-speech tags for tokens in their sentential context.\n",
    "\n",
    "Many words can have multiple different parts of speech, but in this project we will associate each word only with its most common part of speech in the [Brown Corpus](https://www1.essex.ac.uk/linguistics/external/clmt/w3c/corpus_ling/content/corpora/list/private/brown/brown.html), which has been manually labeled with part-of-speech tags.  \n",
    "\n",
    "Words are lowercased and filtered for length and frequency. Punctuation and numbers are removed. Any real NLP application would have to deal with the actual contents of text instead of filtering in this way, but we're just warming up.\n",
    "\n",
    "Below, we provide you with code to load the dataset. Please don't change the cell below, or you may confuse our autograder."
   ]
  },
  {
   "cell_type": "code",
   "execution_count": 2,
   "metadata": {},
   "outputs": [
    {
     "name": "stdout",
     "output_type": "stream",
     "text": [
      "Requirement already satisfied: nltk in c:\\users\\yangh\\anaconda3\\envs\\gluon\\lib\\site-packages (3.6.7)\n",
      "Requirement already satisfied: click in c:\\users\\yangh\\anaconda3\\envs\\gluon\\lib\\site-packages (from nltk) (8.0.3)\n",
      "Requirement already satisfied: joblib in c:\\users\\yangh\\anaconda3\\envs\\gluon\\lib\\site-packages (from nltk) (1.1.0)\n",
      "Requirement already satisfied: tqdm in c:\\users\\yangh\\anaconda3\\envs\\gluon\\lib\\site-packages (from nltk) (4.62.3)\n",
      "Requirement already satisfied: regex>=2021.8.3 in c:\\users\\yangh\\anaconda3\\envs\\gluon\\lib\\site-packages (from nltk) (2022.1.18)\n",
      "Requirement already satisfied: colorama in c:\\users\\yangh\\anaconda3\\envs\\gluon\\lib\\site-packages (from click->nltk) (0.4.4)\n",
      "Requirement already satisfied: importlib-metadata in c:\\users\\yangh\\anaconda3\\envs\\gluon\\lib\\site-packages (from click->nltk) (4.6.4)\n",
      "Requirement already satisfied: typing-extensions>=3.6.4 in c:\\users\\yangh\\anaconda3\\envs\\gluon\\lib\\site-packages (from importlib-metadata->click->nltk) (3.10.0.0)\n",
      "Requirement already satisfied: zipp>=0.5 in c:\\users\\yangh\\anaconda3\\envs\\gluon\\lib\\site-packages (from importlib-metadata->click->nltk) (3.5.0)\n"
     ]
    }
   ],
   "source": [
    "!pip install nltk"
   ]
  },
  {
   "cell_type": "code",
   "execution_count": 3,
   "metadata": {
    "colab": {
     "base_uri": "https://localhost:8080/"
    },
    "id": "9T1ijH6-WlSp",
    "outputId": "f495e705-8b26-454d-ecd6-928fa7af51c7"
   },
   "outputs": [
    {
     "name": "stderr",
     "output_type": "stream",
     "text": [
      "[nltk_data] Downloading package brown to\n",
      "[nltk_data]     C:\\Users\\yangh\\AppData\\Roaming\\nltk_data...\n",
      "[nltk_data]   Package brown is already up-to-date!\n",
      "[nltk_data] Downloading package universal_tagset to\n",
      "[nltk_data]     C:\\Users\\yangh\\AppData\\Roaming\\nltk_data...\n",
      "[nltk_data]   Package universal_tagset is already up-to-date!\n"
     ]
    },
    {
     "name": "stdout",
     "output_type": "stream",
     "text": [
      "Tagged tokens example:  [('The', 'DET'), ('Fulton', 'NOUN'), ('County', 'NOUN'), ('Grand', 'ADJ'), ('Jury', 'NOUN')]\n",
      "Total # of word tokens: 1161192\n",
      "Tagged types example:  [('a', 'DET'), ('aaron', 'NOUN'), ('ab', 'NOUN'), ('abandon', 'VERB'), ('abandoned', 'VERB')]\n",
      "Total # of word types: 18954\n",
      "Tag options: ['ADJ', 'ADP', 'ADV', 'CONJ', 'DET', 'NOUN', 'NUM', 'PRON', 'PRT', 'VERB', 'X']\n"
     ]
    }
   ],
   "source": [
    "import nltk\n",
    "import random\n",
    "\n",
    "from nltk.corpus import brown\n",
    "from collections import defaultdict, Counter\n",
    "\n",
    "nltk.download('brown')\n",
    "nltk.download('universal_tagset')\n",
    "\n",
    "brown_tokens = brown.tagged_words(tagset='universal')\n",
    "print('Tagged tokens example: ', brown_tokens[:5])\n",
    "print('Total # of word tokens:', len(brown_tokens))\n",
    "\n",
    "max_word_len = 20\n",
    "\n",
    "def most_common(s):\n",
    "    \"Return the most common element in a sequence.\"\n",
    "    return Counter(s).most_common(1)[0][0]\n",
    "\n",
    "def most_common_tags(tagged_words, min_count=3, max_len=max_word_len):\n",
    "    \"Return a dictionary of the most common tag for each word, filtering a bit.\"\n",
    "    counts = defaultdict(list)\n",
    "    for w, t in tagged_words:\n",
    "        counts[w.lower()].append(t)\n",
    "    return {w: most_common(tags) for w, tags in counts.items() if \n",
    "            w.isalpha() and len(w) <= max_len and len(tags) >= min_count}\n",
    "\n",
    "brown_types = most_common_tags(brown_tokens)\n",
    "print('Tagged types example: ', sorted(brown_types.items())[:5])\n",
    "print('Total # of word types:', len(brown_types))\n",
    "\n",
    "def split(items, test_size):\n",
    "    \"Randomly split into train, validation, and test sets with a fixed seed.\"\n",
    "    random.Random(288).shuffle(items)\n",
    "    once, twice = test_size, 2 * test_size\n",
    "    return items[:-twice], items[-twice:-once], items[-once:]\n",
    "\n",
    "val_test_size = 1000\n",
    "all_data_raw = split(sorted(brown_types.items()), val_test_size)\n",
    "train_data_raw, validation_data_raw, test_data_raw = all_data_raw\n",
    "all_tags = sorted(set(brown_types.values()))\n",
    "print('Tag options:', all_tags)"
   ]
  },
  {
   "cell_type": "markdown",
   "metadata": {
    "id": "nIx-VMZT7zSn"
   },
   "source": [
    "Note that this \"universal\" tagset is considerably simpler than the [Penn Treebank tagset](https://www.ling.upenn.edu/courses/Fall_2003/ling001/penn_treebank_pos.html) we have seen in class. You're welcome to insert additional cells and explore the data. Our autograders don't rely on any particular structure of the notebook."
   ]
  },
  {
   "cell_type": "code",
   "execution_count": 4,
   "metadata": {
    "colab": {
     "base_uri": "https://localhost:8080/"
    },
    "id": "XVJkfwD37w1G",
    "outputId": "5c95aebc-8a33-459f-b2dd-28c9bdab926d"
   },
   "outputs": [
    {
     "data": {
      "text/plain": [
       "(16954, 1000)"
      ]
     },
     "execution_count": 4,
     "metadata": {},
     "output_type": "execute_result"
    }
   ],
   "source": [
    "# Explore the data here as you see fit.\n",
    "len(train_data_raw),len(test_data_raw)"
   ]
  },
  {
   "cell_type": "markdown",
   "metadata": {
    "id": "jiZ4q4aqVRVF"
   },
   "source": [
    "First, let's run a baseline that predicts `NOUN` for every word. A predictor function takes a list of tagged words and returns a list of predicted tags. We've also provided some helper functions here to evaluate model outputs.  You don't need to fill in any code in this cell.\n",
    "\n"
   ]
  },
  {
   "cell_type": "code",
   "execution_count": 5,
   "metadata": {
    "colab": {
     "base_uri": "https://localhost:8080/"
    },
    "id": "FvoPZ609WBpN",
    "outputId": "af374967-4352-4fed-966a-2c633def3b75"
   },
   "outputs": [
    {
     "name": "stdout",
     "output_type": "stream",
     "text": [
      "noun baseline validation accuracy: 55.1\n",
      "Sample predictions: [('salem', 'NOUN'), ('unsympathetic', 'NOUN'), ('downwind', 'NOUN'), ('exodus', 'NOUN'), ('avoiding', 'NOUN'), ('informal', 'NOUN'), ('padded', 'NOUN'), ('tantalizing', 'NOUN'), ('farce', 'NOUN'), ('berger', 'NOUN')]\n"
     ]
    }
   ],
   "source": [
    "def noun_predictor(raw_data):\n",
    "    \"A predictor that always predicts NOUN.\"\n",
    "    predictions = []\n",
    "    for word, _ in raw_data:\n",
    "        predictions.append('NOUN')\n",
    "    return predictions\n",
    "\n",
    "def accuracy(predictions, targets):\n",
    "    \"\"\"Return the accuracy percentage of a list of predictions.\n",
    "    \n",
    "    predictions has only the predicted tags\n",
    "    targets has tuples of (word, tag)\n",
    "    \"\"\"\n",
    "    assert len(predictions) == len(targets)\n",
    "    n_correct = 0\n",
    "    for predicted_tag, (word, gold_tag) in zip(predictions, targets):\n",
    "        if predicted_tag == gold_tag:\n",
    "            n_correct += 1\n",
    "\n",
    "    return n_correct / len(targets) * 100.0\n",
    "\n",
    "def evaluate(predictor, raw_data):\n",
    "    return accuracy(predictor(raw_data), raw_data)\n",
    "\n",
    "def print_sample_predictions(predictor, raw_data, k=10):\n",
    "    \"Print the first k predictions.\"\n",
    "    d = raw_data[:k]\n",
    "    print('Sample predictions:', \n",
    "          [(word, guess) for (word, _), guess in zip(d, predictor(d))])\n",
    "\n",
    "print('noun baseline validation accuracy:', \n",
    "      evaluate(noun_predictor, validation_data_raw))\n",
    "print_sample_predictions(noun_predictor, validation_data_raw)"
   ]
  },
  {
   "cell_type": "markdown",
   "metadata": {
    "id": "jIxSaG7pavpS"
   },
   "source": [
    "### Building a PyTorch Classifier\n",
    "\n",
    "We will be using the deep learning framework PyTorch for all our projects.\n",
    "If you haven't used PyTorch at all before, we recommend you check out the tutorials on the PyTorch website: https://pytorch.org/tutorials/beginner/deep_learning_60min_blitz.html.  Throughout this project and the others in this course, you will need to reference the documentation at https://pytorch.org/docs/stable/index.html.  We'll be using PyTorch version 1.10, which comes pre-installed with Colab.  In this project, we'll walk you through the process of defining and training your neural network model, but future projects will have less guidance.\n",
    "\n",
    "Below, we've provided a baseline network as a PyTorch Module that will learn a single parameter per part-of-speech tag. This model has the capacity to learn that `'NOUN'` is the most common tag and predict that. It can't do better. Use this network as you are developing your training and prediction code, then replace it with your actual network later. "
   ]
  },
  {
   "cell_type": "code",
   "execution_count": 6,
   "metadata": {
    "colab": {
     "base_uri": "https://localhost:8080/"
    },
    "id": "3N8wiRpoiZzG",
    "outputId": "03b89d86-b97e-4098-e29d-076c719d09ce"
   },
   "outputs": [
    {
     "name": "stdout",
     "output_type": "stream",
     "text": [
      "PyTorch version: 1.9.0+cu102\n"
     ]
    }
   ],
   "source": [
    "import torch\n",
    "from torch import nn\n",
    "import torch.nn.functional as F\n",
    "\n",
    "class BaselineNetwork(nn.Module):\n",
    "    def __init__(self, n_outputs):\n",
    "        super().__init__()\n",
    "\n",
    "        # learn a vector of size n_outputs, initialized with all zeros\n",
    "        self.param = nn.Parameter(torch.zeros(n_outputs)) \n",
    "\n",
    "    def forward(self, chars, mask):\n",
    "        # return the same outputs (self.param) for each example in a batch\n",
    "        return self.param.expand(chars.size(0), -1)\n",
    "\n",
    "print(\"PyTorch version: {}\".format(torch.__version__))"
   ]
  },
  {
   "cell_type": "markdown",
   "metadata": {
    "id": "UnJJfdiR8l_L"
   },
   "source": [
    "To train or evaluate a neural model, we'll need to transform the raw data from strings into tensors.  We've provided the following function to perform the transformation for you. Each word is prepended with the `^` character and appended with `$` so that these boundary characters are available to the network."
   ]
  },
  {
   "cell_type": "code",
   "execution_count": 7,
   "metadata": {
    "colab": {
     "base_uri": "https://localhost:8080/"
    },
    "id": "f62L4sTrUEn3",
    "outputId": "c92e4981-d433-47a7-8c40-c32d0e54225d"
   },
   "outputs": [
    {
     "name": "stdout",
     "output_type": "stream",
     "text": [
      "Sample datapoint after preprocessing: (tensor([ 94, 115,  97, 108, 101, 109,  36,   0,   0,   0,   0,   0,   0,   0,\n",
      "          0,   0,   0,   0,   0,   0,   0,   0]), tensor([1., 1., 1., 1., 1., 1., 1., 0., 0., 0., 0., 0., 0., 0., 0., 0., 0., 0.,\n",
      "        0., 0., 0., 0.]), tensor(5))\n",
      "Raw datapoint: ('salem', 'NOUN')\n"
     ]
    }
   ],
   "source": [
    "def make_matrices(data_raw):\n",
    "    \"\"\"Convert a list of (word, tag) pairs into tensors with appropriate padding.\n",
    "    \n",
    "    character_matrix holds character codes for each word, \n",
    "      indexed as [word_index, character_index]\n",
    "    character_mask masks valid characters (1 for valid, 0 invalid), \n",
    "      indexed similarly so that all inputs can have a constant length\n",
    "    pos_labels holds part-of-speech values for each word as integer indices\n",
    "    \"\"\"\n",
    "    max_len = max_word_len + 2  # leave room for word start/end symbols\n",
    "    character_matrix = torch.zeros(len(data_raw), max_len, dtype=torch.int64) \n",
    "    character_mask = torch.zeros(len(data_raw), max_len, dtype=torch.float32)\n",
    "    pos_labels = torch.zeros(len(data_raw), dtype=torch.int64)\n",
    "    for word_i, (word, pos) in enumerate(data_raw):\n",
    "        for char_i, c in enumerate('^' + word + '$'):\n",
    "            character_matrix[word_i, char_i] = ord(c)\n",
    "            character_mask[word_i, char_i] = 1\n",
    "        pos_labels[word_i] = all_tags.index(pos)\n",
    "    return torch.utils.data.TensorDataset(character_matrix, character_mask, pos_labels)\n",
    "\n",
    "validation_data = make_matrices(validation_data_raw)\n",
    "\n",
    "print('Sample datapoint after preprocessing:', validation_data[0])\n",
    "print('Raw datapoint:', validation_data_raw[0])"
   ]
  },
  {
   "cell_type": "markdown",
   "metadata": {
    "id": "EK-FPqtw826J"
   },
   "source": [
    "The output of a `BaselineNetwork` is a matrix of dimension (batch_size, num_pos_labels) containing logits, or unnormalized log probabilities. To get probabilities from this matrix, you would run `F.softmax(x, dim=1)`, which exponentiates the logits and then normalizes each row to sum to 1.  The cell below generates an output distribution for the first example of the validation set, which is uniform because the network param was initialized to zero.\n",
    "\n",
    "In PyTorch, it is common to return pre-activation values from modules (e.g. the values before running the final softmax or sigmoid operation).  PyTorch has loss functions that combine the softmax/sigmoid operation into the loss operation for more numerical stability.  Be sure you know what type of values a network returns, as this will affect your training and prediction code."
   ]
  },
  {
   "cell_type": "code",
   "execution_count": 8,
   "metadata": {
    "colab": {
     "base_uri": "https://localhost:8080/"
    },
    "id": "Rtr9xZXVB1Qc",
    "outputId": "dc754adb-94d8-4901-e6d3-8876b8b57665"
   },
   "outputs": [
    {
     "data": {
      "text/plain": [
       "[('ADJ', 0.09090909361839294),\n",
       " ('ADP', 0.09090909361839294),\n",
       " ('ADV', 0.09090909361839294),\n",
       " ('CONJ', 0.09090909361839294),\n",
       " ('DET', 0.09090909361839294),\n",
       " ('NOUN', 0.09090909361839294),\n",
       " ('NUM', 0.09090909361839294),\n",
       " ('PRON', 0.09090909361839294),\n",
       " ('PRT', 0.09090909361839294),\n",
       " ('VERB', 0.09090909361839294),\n",
       " ('X', 0.09090909361839294)]"
      ]
     },
     "execution_count": 8,
     "metadata": {},
     "output_type": "execute_result"
    }
   ],
   "source": [
    "# Create a network and copy its parameters to the GPU.\n",
    "untrained_baseline = BaselineNetwork(len(all_tags)).cuda()\n",
    "untrained_baseline.eval()\n",
    "\n",
    "# Select the first validation example.\n",
    "example = validation_data[0]\n",
    "chars, mask, _ = example\n",
    "\n",
    "# Networks only process batches. Create a batch of size one.\n",
    "chars_batch, mask_batch = chars.unsqueeze(0), mask.unsqueeze(0)\n",
    "\n",
    "# Copy batch to the GPU.\n",
    "chars_batch, mask_batch = chars_batch.cuda(), mask_batch.cuda()\n",
    "\n",
    "# Run the untrained network.\n",
    "logits = untrained_baseline(chars_batch, mask_batch)\n",
    "\n",
    "# Convert to a distribution.\n",
    "output_distribution = F.softmax(logits, dim=1).squeeze().tolist()\n",
    "\n",
    "# Inspect the distribution, which should be uniform.\n",
    "list(zip(all_tags, output_distribution))"
   ]
  },
  {
   "cell_type": "markdown",
   "metadata": {
    "id": "7ubdajTtCwzt"
   },
   "source": [
    "Finally, time to write some code!\n",
    "\n",
    "In the cell below, define a predictor for a network by following the instructions in the comments. The predictor takes a list of words (strings) and returns a list of part-of-speech tags (also strings).\n",
    "\n",
    "For this assignment, we've provided more fine-grained instructions as comments in the code template.  You are free to explore methods and architectures other than the ones we specified in the comments, but we highly recommend starting with them, as they will help you reach the required accuracies and give lots of best practices to use in later projects."
   ]
  },
  {
   "cell_type": "code",
   "execution_count": 9,
   "metadata": {
    "id": "cLiYgMUfYPpk"
   },
   "outputs": [],
   "source": [
    "batch_size = 64"
   ]
  },
  {
   "cell_type": "code",
   "execution_count": 10,
   "metadata": {
    "colab": {
     "base_uri": "https://localhost:8080/"
    },
    "id": "zlWQk-dcp9BD",
    "outputId": "8d6a89f9-1acf-40e3-9a26-e01196b07d5c"
   },
   "outputs": [
    {
     "name": "stdout",
     "output_type": "stream",
     "text": [
      "Sample predictions: [('salem', 'ADJ'), ('unsympathetic', 'ADJ'), ('downwind', 'ADJ'), ('exodus', 'ADJ'), ('avoiding', 'ADJ'), ('informal', 'ADJ'), ('padded', 'ADJ'), ('tantalizing', 'ADJ'), ('farce', 'ADJ'), ('berger', 'ADJ')]\n"
     ]
    }
   ],
   "source": [
    "def predict_using(network):\n",
    "    def predictor(raw_data):\n",
    "        \"\"\"Return a list of part-of-speech tags as strings, one for each word.\n",
    "\n",
    "        raw_data - a list of (word, tag) pairs.\n",
    "        \"\"\"\n",
    "\n",
    "        with torch.no_grad(): # turns off automatic differentiation, which isn't required but helps save memory\n",
    "\n",
    "            # YOUR CODE HERE\n",
    "            # * put `network` into evaluation mode (turning off dropout) using `.eval()`\n",
    "            #   then back into train mode at the end of the function with `.train()`\n",
    "            #   this is easy to forget and could lead to lower accuracy without warning\n",
    "            #   see https://pytorch.org/docs/stable/_modules/torch/nn/modules/module.html#Module.train for more info\n",
    "            # * use `make_matrices` to get a preprocessed dataset from `raw_data`\n",
    "            # * make a DataLoader to iterate over the preprocessed dataset from `make_matrices`, but don't use shuffling or your outputs will be in the wrong order\n",
    "            # * iterate with the data loader (there will be a pos_labels vector, but don't use it - we want to be able to use our model on new inputs where we don't know the answer)\n",
    "            #  * run `network` to get outputs\n",
    "            #  * get the id of the predicted part of speeches with an argmax operation\n",
    "            #  * convert the predictions to strings using `all_tags`\n",
    "            # * return your predictions\n",
    "\n",
    "            # BEGIN SOLUTION\n",
    "            network.eval()\n",
    "            new_dataset = make_matrices(raw_data)\n",
    "            train_dataloader = torch.utils.data.DataLoader(new_dataset, batch_size = batch_size, shuffle=False)\n",
    "            pred_list = []\n",
    "            for word_batch, mask_batch, _ in train_dataloader:\n",
    "              logits=network(word_batch, mask_batch)\n",
    "              output_distribution = F.softmax(logits, dim=1).squeeze()\n",
    "              \n",
    "              pred_label_index = torch.argmax(output_distribution, dim = 1)\n",
    "              \n",
    "              pred_list.extend([all_tags[x] for x in pred_label_index])\n",
    "            \n",
    "            network.train()\n",
    "            return pred_list\n",
    "            # END SOLUTION\n",
    "    \n",
    "    return predictor\n",
    "\n",
    "# The predictions of an untrained model should be arbitrary.\n",
    "print_sample_predictions(predict_using(untrained_baseline), validation_data_raw)"
   ]
  },
  {
   "cell_type": "code",
   "execution_count": null,
   "metadata": {
    "id": "QP8krd4FYOXa"
   },
   "outputs": [],
   "source": []
  },
  {
   "cell_type": "markdown",
   "metadata": {
    "id": "C_9jzlbFB1hw"
   },
   "source": [
    "\n",
    "Fill in the training function for the neural network below. This function should train any network.  \n",
    "\n",
    "Then, you'll have all the parts needed to train and evaluate the baseline network.  You should get the same accuracy as the all-noun baseline.  Make sure your train function prints validation scores so that you see score outputs here."
   ]
  },
  {
   "cell_type": "code",
   "execution_count": 11,
   "metadata": {
    "colab": {
     "base_uri": "https://localhost:8080/",
     "height": 479,
     "referenced_widgets": [
      "a04bab62540f47fcbc158cea0b58ed4f",
      "50eff476daf14b55bd4d5f34d18e909d",
      "c09488590f834dcfa75faaed552c542a",
      "d0ade8668964456883e93cdf2fdd6c51",
      "547b9f8051814b50ae3d87610bf29cc4",
      "acc1d1e91e314c5eb845144dc661cd79",
      "7459243bafb74e76aeb9144f1de31f92",
      "5fa8955039f7428ebc7250273a223f66",
      "b79c3e822d114979b0d7b9f5e7de791f",
      "0b2f35bf8e1d4009bb1489a9bbac8e7a",
      "ed69bc057bea42f1bb4edb23112d8f73",
      "614220f257974e76a7bb4f945492d5ba",
      "758a7aff75a542bcab1b506f2529cb86",
      "adf3b96d2f5940468908a7a6c669dd45",
      "d78e88e8965e41839fd669f44cc15e91",
      "d6e5cb3898f14c6fb51d6bf9ff7af18d",
      "4c18b8ced12144838e01030950c97bda",
      "bbf9010190254741b1907e4ee7ea32a5",
      "39c1d1b8f4da4095a62cd800acee8a64",
      "9772357316df4493a534cd418dbdb815",
      "4913e252002748788522f6b246873cec",
      "83144f6f20494e09a5087b66c7c8555f"
     ]
    },
    "id": "w7ce8kZd-5pj",
    "outputId": "0e30594b-ae80-45a0-c8e3-bc28b892e871"
   },
   "outputs": [
    {
     "name": "stdout",
     "output_type": "stream",
     "text": [
      "Epoch 0\n"
     ]
    },
    {
     "name": "stderr",
     "output_type": "stream",
     "text": [
      "c:\\Users\\yangh\\Anaconda3\\envs\\gluon\\lib\\site-packages\\ipykernel_launcher.py:25: TqdmDeprecationWarning: This function will be removed in tqdm==5.0.0\n",
      "Please use `tqdm.notebook.tqdm` instead of `tqdm.tqdm_notebook`\n"
     ]
    },
    {
     "data": {
      "application/vnd.jupyter.widget-view+json": {
       "model_id": "b0d8e9f1938e4010acb9d400862ce0d3",
       "version_major": 2,
       "version_minor": 0
      },
      "text/plain": [
       "  0%|          | 0/530 [00:00<?, ?it/s]"
      ]
     },
     "metadata": {},
     "output_type": "display_data"
    },
    {
     "name": "stdout",
     "output_type": "stream",
     "text": [
      "Validation score: 55.1\n",
      "Epoch 1\n"
     ]
    },
    {
     "data": {
      "application/vnd.jupyter.widget-view+json": {
       "model_id": "5d7351bdc0f143b3b36bd90dc609ee56",
       "version_major": 2,
       "version_minor": 0
      },
      "text/plain": [
       "  0%|          | 0/530 [00:00<?, ?it/s]"
      ]
     },
     "metadata": {},
     "output_type": "display_data"
    },
    {
     "name": "stdout",
     "output_type": "stream",
     "text": [
      "Validation score: 55.1\n",
      "Sample predictions: [('salem', 'NOUN'), ('unsympathetic', 'NOUN'), ('downwind', 'NOUN'), ('exodus', 'NOUN'), ('avoiding', 'NOUN'), ('informal', 'NOUN'), ('padded', 'NOUN'), ('tantalizing', 'NOUN'), ('farce', 'NOUN'), ('berger', 'NOUN')]\n"
     ]
    }
   ],
   "source": [
    "import tqdm\n",
    "\n",
    "def train(network, n_epochs=25):\n",
    "    # YOUR CODE HERE\n",
    "    # * use `make_matrices` to get a preprocessed dataset from `train_data_raw`\n",
    "    # * make a DataLoader from torch.utils.data to iterate over your dataset\n",
    "    #   it can handle batching and shuffling of the data, you just need to pass it the `batch_size` and `shuffle` parameters\n",
    "    # * move `network` to GPU using `.cuda()`\n",
    "    # * make an optimizer from torch.optim with your network parameters\n",
    "    #   `Adam` with its default hyperparameters often works pretty well without any tuning\n",
    "    #   later you can explore other optimizers, as well as learning rate schedules\n",
    "\n",
    "    # BEGIN SOLUTION\n",
    "    data_loader = torch.utils.data.DataLoader(make_matrices(train_data_raw), batch_size = batch_size, shuffle= False)\n",
    "    network.cuda()\n",
    "    optimizer = torch.optim.Adam(list(network.parameters()))\n",
    "    # END SOLUTION\n",
    "    \n",
    "    predictor = predict_using(network)\n",
    "    best_score = 0\n",
    "    check_point = network\n",
    "    PATH = \"model1a\"\n",
    "    for epoch in range(n_epochs):\n",
    "        print('Epoch', epoch)\n",
    "        for batch in tqdm.tqdm_notebook(data_loader, leave=False):\n",
    "            chars_batch, mask_batch, pos_batch = batch\n",
    "            assert network.training, 'make sure your network is in train mode with `.train()`'\n",
    "\n",
    "            # YOUR CODE HERE\n",
    "            # * call zero_grad on your optimizer\n",
    "            #   warning: this is easy to forget and you won't get an error if you do - you might just get lower accuracies\n",
    "            # * move the batch inputs to GPU\n",
    "            # * run your network\n",
    "            # * compute a loss; you can use `F.cross_entropy`, which combines a softmax operation with\n",
    "            #   a cross-entropy loss operation for multi-class classification\n",
    "            # * call `.backward()` on your loss and `.step()` on your optimizer\n",
    "\n",
    "            # BEGIN SOLUTION\n",
    "            optimizer.zero_grad()\n",
    "            chars_batch, mask_batch, pos_batch = chars_batch.cuda(), mask_batch.cuda(), pos_batch.cuda()\n",
    "            logits = network(chars_batch, mask_batch)\n",
    "            loss = F.cross_entropy(logits, pos_batch)\n",
    "            loss.backward()\n",
    "            optimizer.step()\n",
    "            # END SOLUTION\n",
    "\n",
    "        validation_score = evaluate(predictor, validation_data_raw)\n",
    "        print('Validation score:', validation_score)\n",
    "\n",
    "        # YOUR CODE HERE\n",
    "        # * if the validation score is better than your previous best score, save the model\n",
    "        #   use `network.state_dict()` and `torch.save` (https://pytorch.org/docs/stable/notes/serialization.html)\n",
    "        #   this gives us a form of early stopping in case the model starts overfitting\n",
    "\n",
    "        # BEGIN SOLUTION\n",
    "        if validation_score > best_score:\n",
    "            check_point = torch.save(network.state_dict(), PATH)\n",
    "            best_score = validation_score\n",
    "        # END SOLUTION\n",
    "\n",
    "    # YOUR CODE HERE\n",
    "    # * load the best model from the file where you saved it using `torch.load` and `network.load_state_dict`\n",
    "    #   and return it\n",
    "\n",
    "    # BEGIN SOLUTION\n",
    "    network.load_state_dict(torch.load(PATH))\n",
    "    return network\n",
    "    # END SOLUTION\n",
    "\n",
    "trained_baseline_network = train(BaselineNetwork(len(all_tags)), 2)\n",
    "print_sample_predictions(predict_using(trained_baseline_network), \n",
    "                         validation_data_raw)"
   ]
  },
  {
   "cell_type": "markdown",
   "metadata": {
    "id": "zfDfOpTj41mj"
   },
   "source": [
    "It's time to actually define a non-trivial neural network.  We'll start with a pretty simple model that takes embeddings of the characters of a word, pools them, and runs a feedforward network.  Fill in your code for `PoolingNetwork` below.  A correct implementation should get a validation score over 66%."
   ]
  },
  {
   "cell_type": "code",
   "execution_count": 12,
   "metadata": {
    "id": "nbJgzzO8SOJ_"
   },
   "outputs": [
    {
     "name": "stdout",
     "output_type": "stream",
     "text": [
      "Epoch 0\n"
     ]
    },
    {
     "name": "stderr",
     "output_type": "stream",
     "text": [
      "c:\\Users\\yangh\\Anaconda3\\envs\\gluon\\lib\\site-packages\\ipykernel_launcher.py:25: TqdmDeprecationWarning: This function will be removed in tqdm==5.0.0\n",
      "Please use `tqdm.notebook.tqdm` instead of `tqdm.tqdm_notebook`\n"
     ]
    },
    {
     "data": {
      "application/vnd.jupyter.widget-view+json": {
       "model_id": "9320bddff3aa4f489c4ef7b7e658a36c",
       "version_major": 2,
       "version_minor": 0
      },
      "text/plain": [
       "  0%|          | 0/530 [00:00<?, ?it/s]"
      ]
     },
     "metadata": {},
     "output_type": "display_data"
    },
    {
     "name": "stdout",
     "output_type": "stream",
     "text": [
      "Validation score: 55.2\n",
      "Epoch 1\n"
     ]
    },
    {
     "data": {
      "application/vnd.jupyter.widget-view+json": {
       "model_id": "8d3fa5c1195d4f72a37e2999375f75de",
       "version_major": 2,
       "version_minor": 0
      },
      "text/plain": [
       "  0%|          | 0/530 [00:00<?, ?it/s]"
      ]
     },
     "metadata": {},
     "output_type": "display_data"
    },
    {
     "name": "stdout",
     "output_type": "stream",
     "text": [
      "Validation score: 62.4\n",
      "Epoch 2\n"
     ]
    },
    {
     "data": {
      "application/vnd.jupyter.widget-view+json": {
       "model_id": "74dec59cd4194040bde593f39457f569",
       "version_major": 2,
       "version_minor": 0
      },
      "text/plain": [
       "  0%|          | 0/530 [00:00<?, ?it/s]"
      ]
     },
     "metadata": {},
     "output_type": "display_data"
    },
    {
     "name": "stdout",
     "output_type": "stream",
     "text": [
      "Validation score: 66.7\n",
      "Epoch 3\n"
     ]
    },
    {
     "data": {
      "application/vnd.jupyter.widget-view+json": {
       "model_id": "b58d39b532114540b78694615191a271",
       "version_major": 2,
       "version_minor": 0
      },
      "text/plain": [
       "  0%|          | 0/530 [00:00<?, ?it/s]"
      ]
     },
     "metadata": {},
     "output_type": "display_data"
    },
    {
     "name": "stdout",
     "output_type": "stream",
     "text": [
      "Validation score: 67.7\n",
      "Epoch 4\n"
     ]
    },
    {
     "data": {
      "application/vnd.jupyter.widget-view+json": {
       "model_id": "d997e362786341c58bc3c701d40fb159",
       "version_major": 2,
       "version_minor": 0
      },
      "text/plain": [
       "  0%|          | 0/530 [00:00<?, ?it/s]"
      ]
     },
     "metadata": {},
     "output_type": "display_data"
    },
    {
     "name": "stdout",
     "output_type": "stream",
     "text": [
      "Validation score: 68.5\n",
      "Epoch 5\n"
     ]
    },
    {
     "data": {
      "application/vnd.jupyter.widget-view+json": {
       "model_id": "4ef9cfdcf36c49dabaa8c41d5d4bcdfe",
       "version_major": 2,
       "version_minor": 0
      },
      "text/plain": [
       "  0%|          | 0/530 [00:00<?, ?it/s]"
      ]
     },
     "metadata": {},
     "output_type": "display_data"
    },
    {
     "name": "stdout",
     "output_type": "stream",
     "text": [
      "Validation score: 68.5\n",
      "Epoch 6\n"
     ]
    },
    {
     "data": {
      "application/vnd.jupyter.widget-view+json": {
       "model_id": "638effe01f7e48358d556bdc5cc9cc81",
       "version_major": 2,
       "version_minor": 0
      },
      "text/plain": [
       "  0%|          | 0/530 [00:00<?, ?it/s]"
      ]
     },
     "metadata": {},
     "output_type": "display_data"
    },
    {
     "name": "stdout",
     "output_type": "stream",
     "text": [
      "Validation score: 68.60000000000001\n",
      "Epoch 7\n"
     ]
    },
    {
     "data": {
      "application/vnd.jupyter.widget-view+json": {
       "model_id": "29be49f757394b3f95893aa2e46ce17d",
       "version_major": 2,
       "version_minor": 0
      },
      "text/plain": [
       "  0%|          | 0/530 [00:00<?, ?it/s]"
      ]
     },
     "metadata": {},
     "output_type": "display_data"
    },
    {
     "name": "stdout",
     "output_type": "stream",
     "text": [
      "Validation score: 68.4\n",
      "Epoch 8\n"
     ]
    },
    {
     "data": {
      "application/vnd.jupyter.widget-view+json": {
       "model_id": "8d12f408029244e88940ee829752b8b5",
       "version_major": 2,
       "version_minor": 0
      },
      "text/plain": [
       "  0%|          | 0/530 [00:00<?, ?it/s]"
      ]
     },
     "metadata": {},
     "output_type": "display_data"
    },
    {
     "name": "stdout",
     "output_type": "stream",
     "text": [
      "Validation score: 68.30000000000001\n",
      "Epoch 9\n"
     ]
    },
    {
     "data": {
      "application/vnd.jupyter.widget-view+json": {
       "model_id": "681c9595324440b6a0a7265b1c0a361d",
       "version_major": 2,
       "version_minor": 0
      },
      "text/plain": [
       "  0%|          | 0/530 [00:00<?, ?it/s]"
      ]
     },
     "metadata": {},
     "output_type": "display_data"
    },
    {
     "name": "stdout",
     "output_type": "stream",
     "text": [
      "Validation score: 68.4\n",
      "Epoch 10\n"
     ]
    },
    {
     "data": {
      "application/vnd.jupyter.widget-view+json": {
       "model_id": "9ff477616a444136a43300e68a10172b",
       "version_major": 2,
       "version_minor": 0
      },
      "text/plain": [
       "  0%|          | 0/530 [00:00<?, ?it/s]"
      ]
     },
     "metadata": {},
     "output_type": "display_data"
    },
    {
     "name": "stdout",
     "output_type": "stream",
     "text": [
      "Validation score: 68.30000000000001\n",
      "Epoch 11\n"
     ]
    },
    {
     "data": {
      "application/vnd.jupyter.widget-view+json": {
       "model_id": "911b03cedfb44fd39946eea8d6eb032e",
       "version_major": 2,
       "version_minor": 0
      },
      "text/plain": [
       "  0%|          | 0/530 [00:00<?, ?it/s]"
      ]
     },
     "metadata": {},
     "output_type": "display_data"
    },
    {
     "name": "stdout",
     "output_type": "stream",
     "text": [
      "Validation score: 68.60000000000001\n",
      "Epoch 12\n"
     ]
    },
    {
     "data": {
      "application/vnd.jupyter.widget-view+json": {
       "model_id": "55c8287fa77e4da3b07b59bd3735e3b2",
       "version_major": 2,
       "version_minor": 0
      },
      "text/plain": [
       "  0%|          | 0/530 [00:00<?, ?it/s]"
      ]
     },
     "metadata": {},
     "output_type": "display_data"
    },
    {
     "name": "stdout",
     "output_type": "stream",
     "text": [
      "Validation score: 68.8\n",
      "Epoch 13\n"
     ]
    },
    {
     "data": {
      "application/vnd.jupyter.widget-view+json": {
       "model_id": "85b3f51f98174a118eb80fe35f311a57",
       "version_major": 2,
       "version_minor": 0
      },
      "text/plain": [
       "  0%|          | 0/530 [00:00<?, ?it/s]"
      ]
     },
     "metadata": {},
     "output_type": "display_data"
    },
    {
     "name": "stdout",
     "output_type": "stream",
     "text": [
      "Validation score: 68.7\n",
      "Epoch 14\n"
     ]
    },
    {
     "data": {
      "application/vnd.jupyter.widget-view+json": {
       "model_id": "a98045bb14574eca82729b46b7c80105",
       "version_major": 2,
       "version_minor": 0
      },
      "text/plain": [
       "  0%|          | 0/530 [00:00<?, ?it/s]"
      ]
     },
     "metadata": {},
     "output_type": "display_data"
    },
    {
     "name": "stdout",
     "output_type": "stream",
     "text": [
      "Validation score: 69.0\n",
      "Epoch 15\n"
     ]
    },
    {
     "data": {
      "application/vnd.jupyter.widget-view+json": {
       "model_id": "01a96d94f6d24ea69751ecc9ec5682bd",
       "version_major": 2,
       "version_minor": 0
      },
      "text/plain": [
       "  0%|          | 0/530 [00:00<?, ?it/s]"
      ]
     },
     "metadata": {},
     "output_type": "display_data"
    },
    {
     "name": "stdout",
     "output_type": "stream",
     "text": [
      "Validation score: 69.19999999999999\n",
      "Epoch 16\n"
     ]
    },
    {
     "data": {
      "application/vnd.jupyter.widget-view+json": {
       "model_id": "d38bc47f46e046579bba7ad69facd995",
       "version_major": 2,
       "version_minor": 0
      },
      "text/plain": [
       "  0%|          | 0/530 [00:00<?, ?it/s]"
      ]
     },
     "metadata": {},
     "output_type": "display_data"
    },
    {
     "name": "stdout",
     "output_type": "stream",
     "text": [
      "Validation score: 69.5\n",
      "Epoch 17\n"
     ]
    },
    {
     "data": {
      "application/vnd.jupyter.widget-view+json": {
       "model_id": "a2be91843fa94dd4b22bbdb9e6e1605b",
       "version_major": 2,
       "version_minor": 0
      },
      "text/plain": [
       "  0%|          | 0/530 [00:00<?, ?it/s]"
      ]
     },
     "metadata": {},
     "output_type": "display_data"
    },
    {
     "name": "stdout",
     "output_type": "stream",
     "text": [
      "Validation score: 69.8\n",
      "Epoch 18\n"
     ]
    },
    {
     "data": {
      "application/vnd.jupyter.widget-view+json": {
       "model_id": "598b3a38caa54f9fbf9929f7ed7db4f9",
       "version_major": 2,
       "version_minor": 0
      },
      "text/plain": [
       "  0%|          | 0/530 [00:00<?, ?it/s]"
      ]
     },
     "metadata": {},
     "output_type": "display_data"
    },
    {
     "name": "stdout",
     "output_type": "stream",
     "text": [
      "Validation score: 69.89999999999999\n",
      "Epoch 19\n"
     ]
    },
    {
     "data": {
      "application/vnd.jupyter.widget-view+json": {
       "model_id": "6f320cdc20cc40fbac1cd2eaf9049876",
       "version_major": 2,
       "version_minor": 0
      },
      "text/plain": [
       "  0%|          | 0/530 [00:00<?, ?it/s]"
      ]
     },
     "metadata": {},
     "output_type": "display_data"
    },
    {
     "name": "stdout",
     "output_type": "stream",
     "text": [
      "Validation score: 69.8\n",
      "Epoch 20\n"
     ]
    },
    {
     "data": {
      "application/vnd.jupyter.widget-view+json": {
       "model_id": "6276f4b7d0c7460487f5cf3c647480dc",
       "version_major": 2,
       "version_minor": 0
      },
      "text/plain": [
       "  0%|          | 0/530 [00:00<?, ?it/s]"
      ]
     },
     "metadata": {},
     "output_type": "display_data"
    },
    {
     "name": "stdout",
     "output_type": "stream",
     "text": [
      "Validation score: 70.1\n",
      "Epoch 21\n"
     ]
    },
    {
     "data": {
      "application/vnd.jupyter.widget-view+json": {
       "model_id": "852bf050fd084c9db459a9337078ef0f",
       "version_major": 2,
       "version_minor": 0
      },
      "text/plain": [
       "  0%|          | 0/530 [00:00<?, ?it/s]"
      ]
     },
     "metadata": {},
     "output_type": "display_data"
    },
    {
     "name": "stdout",
     "output_type": "stream",
     "text": [
      "Validation score: 69.89999999999999\n",
      "Epoch 22\n"
     ]
    },
    {
     "data": {
      "application/vnd.jupyter.widget-view+json": {
       "model_id": "1080911ab8594894bfeded63dc1f5fd6",
       "version_major": 2,
       "version_minor": 0
      },
      "text/plain": [
       "  0%|          | 0/530 [00:00<?, ?it/s]"
      ]
     },
     "metadata": {},
     "output_type": "display_data"
    },
    {
     "name": "stdout",
     "output_type": "stream",
     "text": [
      "Validation score: 69.8\n",
      "Epoch 23\n"
     ]
    },
    {
     "data": {
      "application/vnd.jupyter.widget-view+json": {
       "model_id": "99df96ab93ba418c9f17adaef0c60984",
       "version_major": 2,
       "version_minor": 0
      },
      "text/plain": [
       "  0%|          | 0/530 [00:00<?, ?it/s]"
      ]
     },
     "metadata": {},
     "output_type": "display_data"
    },
    {
     "name": "stdout",
     "output_type": "stream",
     "text": [
      "Validation score: 70.1\n",
      "Epoch 24\n"
     ]
    },
    {
     "data": {
      "application/vnd.jupyter.widget-view+json": {
       "model_id": "a6c8a77016a742f485c65bf4f4f564de",
       "version_major": 2,
       "version_minor": 0
      },
      "text/plain": [
       "  0%|          | 0/530 [00:00<?, ?it/s]"
      ]
     },
     "metadata": {},
     "output_type": "display_data"
    },
    {
     "name": "stdout",
     "output_type": "stream",
     "text": [
      "Validation score: 70.1\n"
     ]
    }
   ],
   "source": [
    "class PoolingNetwork(nn.Module):\n",
    "    def __init__(self, n_outputs): # pass whatever arguments you need\n",
    "        super().__init__() # you will get an error if you don't call the parent class __init__\n",
    "\n",
    "        # YOUR CODE HERE\n",
    "        # create Modules from torch.nn (imported as nn)\n",
    "        # here you will need nn.Embedding and two nn.Linear\n",
    "        # you may find it easier to start with the `forward` method and as you need components come back to place them here\n",
    "\n",
    "        # BEGIN SOLUTION\n",
    "        emb_dim = 3\n",
    "\n",
    "        self.embedding = nn.Embedding(1000, emb_dim)\n",
    "        self.linear1 = nn.Linear(22, 15)\n",
    "        self.linear2 = nn.Linear(15, 11)\n",
    "        self.dropout = nn.Dropout()\n",
    "        # END SOLUTION\n",
    "\n",
    "    def forward(self, chars, mask): # the main method that runs this module\n",
    "        # for this network, `chars` should be an int64 tensor of character ids with size (batch, n_chars)\n",
    "        #   note that sometimes PyTorch puts sequence dimensions before the batch, so you will need to make sure you know which you are using\n",
    "        # `mask` is a float32 tensor of size (batch, n_chars) that is 1.0 if the character at that position in `chars` is valid (else 0.0)\n",
    "        # the function returns a float32 tensor of size (batch, n_pos)\n",
    "        \n",
    "        # we recommend that you return pre-activation values from modules (e.g. the values before running softmax or sigmoid)\n",
    "        # pytorch has loss functions that combine the softmax/sigmoid operation into the loss operation for more numerical stability\n",
    "\n",
    "        # YOUR CODE HERE\n",
    "        # Your code should do the following:\n",
    "        # 1) get character embeddings\n",
    "        # 2) multiply embeddings by `mask` (you will need to use `view` or `unsqueeze` to make the broadcasting work correctly;\n",
    "        #    see https://pytorch.org/docs/stable/notes/broadcasting.html)\n",
    "        # 3) pool over the characters of each word with the Tensor `mean` function\n",
    "        # 4) run a linear layer\n",
    "        # 5) apply an activation (ReLU is a decent default choice; look in torch.nn.functional, which is imported as F)\n",
    "        # 6) run dropout; you can either make a nn.Dropout module in __init__ or use F.dropout, but if you use F.dropout, be sure to pass training=self.training to\n",
    "        #    make sure dropout gets turned off during evaluation\n",
    "        # 7) run your second linear layer and return the output\n",
    "\n",
    "        # BEGIN SOLUTION\n",
    "        chars = chars.cuda()\n",
    "        mask = mask.cuda()\n",
    "        #print(chars.size())\n",
    "        embed = self.embedding(chars)\n",
    "        #print(chars.dtype)\n",
    "        #print(embed.size(), mask.unsqueeze(1).size())\n",
    "        multiplied  = embed * mask.unsqueeze(2)\n",
    "        #print(multiplied.size())\n",
    "        pooled = multiplied.mean(dim=2)\n",
    "        #print(pooled.size())\n",
    "        after_l1 = self.linear1(pooled)\n",
    "        activated = F.relu(after_l1)\n",
    "        dropped = self.dropout(activated)\n",
    "        after_l2 = self.linear2(dropped)\n",
    "        return after_l2\n",
    "        # END SOLUTION\n",
    "\n",
    "trained_pooling_network = train(PoolingNetwork(len(all_tags)))\n",
    "pooling_predictor = predict_using(trained_pooling_network)"
   ]
  },
  {
   "cell_type": "markdown",
   "metadata": {
    "id": "E9iRzg47SUbD"
   },
   "source": [
    "And look at some outputs."
   ]
  },
  {
   "cell_type": "code",
   "execution_count": 13,
   "metadata": {
    "id": "fv00vHSlSSbe"
   },
   "outputs": [
    {
     "name": "stdout",
     "output_type": "stream",
     "text": [
      "Sample predictions: [('salem', 'NOUN'), ('unsympathetic', 'NOUN'), ('downwind', 'VERB'), ('exodus', 'NOUN'), ('avoiding', 'VERB'), ('informal', 'NOUN'), ('padded', 'VERB'), ('tantalizing', 'VERB'), ('farce', 'NOUN'), ('berger', 'NOUN')]\n"
     ]
    }
   ],
   "source": [
    "print_sample_predictions(pooling_predictor, validation_data_raw)"
   ]
  },
  {
   "cell_type": "markdown",
   "metadata": {
    "id": "I-NnQ1Q4q-6U"
   },
   "source": [
    "For this next part, we'll give you a little more freedom to experiment.  Think about what types of information could be useful for predicting parts of speech.  Think about what the pooling model is missing.  Implement an improved model that reaches a validation score above 80%.\n",
    "\n",
    "One way to reach the required accuracy is to operate over character n-grams before pooling.\n",
    "There are several ways to implement this, but if you need help, you can use the following steps between the creation of embeddings and the mask/pool operations to process bigrams:\n",
    "1. create two slices of the embedding tensor, one with the first character cut off and one with the last cut off\n",
    "2. concatenate the two sliced tensors along the embedding dimension with `torch.cat`\n",
    "3. run a linear layer with activation on the concatenated embeddings\n",
    "4. cut off the first character of the mask tensor"
   ]
  },
  {
   "cell_type": "code",
   "execution_count": 14,
   "metadata": {
    "id": "-hT0Fj_de2j5"
   },
   "outputs": [
    {
     "name": "stdout",
     "output_type": "stream",
     "text": [
      "Epoch 0\n"
     ]
    },
    {
     "name": "stderr",
     "output_type": "stream",
     "text": [
      "c:\\Users\\yangh\\Anaconda3\\envs\\gluon\\lib\\site-packages\\ipykernel_launcher.py:25: TqdmDeprecationWarning: This function will be removed in tqdm==5.0.0\n",
      "Please use `tqdm.notebook.tqdm` instead of `tqdm.tqdm_notebook`\n"
     ]
    },
    {
     "data": {
      "application/vnd.jupyter.widget-view+json": {
       "model_id": "4c748b42ae02486b826d1e8d76182fa3",
       "version_major": 2,
       "version_minor": 0
      },
      "text/plain": [
       "  0%|          | 0/530 [00:00<?, ?it/s]"
      ]
     },
     "metadata": {},
     "output_type": "display_data"
    },
    {
     "name": "stdout",
     "output_type": "stream",
     "text": [
      "Validation score: 69.8\n",
      "Epoch 1\n"
     ]
    },
    {
     "data": {
      "application/vnd.jupyter.widget-view+json": {
       "model_id": "33ebcaa8ec714126aecc4b02b4b331ba",
       "version_major": 2,
       "version_minor": 0
      },
      "text/plain": [
       "  0%|          | 0/530 [00:00<?, ?it/s]"
      ]
     },
     "metadata": {},
     "output_type": "display_data"
    },
    {
     "name": "stdout",
     "output_type": "stream",
     "text": [
      "Validation score: 71.39999999999999\n",
      "Epoch 2\n"
     ]
    },
    {
     "data": {
      "application/vnd.jupyter.widget-view+json": {
       "model_id": "cd1ad09519004063b0006d4773e4dd2e",
       "version_major": 2,
       "version_minor": 0
      },
      "text/plain": [
       "  0%|          | 0/530 [00:00<?, ?it/s]"
      ]
     },
     "metadata": {},
     "output_type": "display_data"
    },
    {
     "name": "stdout",
     "output_type": "stream",
     "text": [
      "Validation score: 75.9\n",
      "Epoch 3\n"
     ]
    },
    {
     "data": {
      "application/vnd.jupyter.widget-view+json": {
       "model_id": "73254b99bd624111a9e5ac04c99d39bf",
       "version_major": 2,
       "version_minor": 0
      },
      "text/plain": [
       "  0%|          | 0/530 [00:00<?, ?it/s]"
      ]
     },
     "metadata": {},
     "output_type": "display_data"
    },
    {
     "name": "stdout",
     "output_type": "stream",
     "text": [
      "Validation score: 77.7\n",
      "Epoch 4\n"
     ]
    },
    {
     "data": {
      "application/vnd.jupyter.widget-view+json": {
       "model_id": "5df7352ff07e484b8ace5224716831fd",
       "version_major": 2,
       "version_minor": 0
      },
      "text/plain": [
       "  0%|          | 0/530 [00:00<?, ?it/s]"
      ]
     },
     "metadata": {},
     "output_type": "display_data"
    },
    {
     "name": "stdout",
     "output_type": "stream",
     "text": [
      "Validation score: 78.5\n",
      "Epoch 5\n"
     ]
    },
    {
     "data": {
      "application/vnd.jupyter.widget-view+json": {
       "model_id": "e4f780d10c554a2f98ece78a865b3bf0",
       "version_major": 2,
       "version_minor": 0
      },
      "text/plain": [
       "  0%|          | 0/530 [00:00<?, ?it/s]"
      ]
     },
     "metadata": {},
     "output_type": "display_data"
    },
    {
     "name": "stdout",
     "output_type": "stream",
     "text": [
      "Validation score: 78.7\n",
      "Epoch 6\n"
     ]
    },
    {
     "data": {
      "application/vnd.jupyter.widget-view+json": {
       "model_id": "b2753a8e910a4e39b47031b90fc6860d",
       "version_major": 2,
       "version_minor": 0
      },
      "text/plain": [
       "  0%|          | 0/530 [00:00<?, ?it/s]"
      ]
     },
     "metadata": {},
     "output_type": "display_data"
    },
    {
     "name": "stdout",
     "output_type": "stream",
     "text": [
      "Validation score: 79.60000000000001\n",
      "Epoch 7\n"
     ]
    },
    {
     "data": {
      "application/vnd.jupyter.widget-view+json": {
       "model_id": "2cc6a842ed214254b00d29e79aedfef4",
       "version_major": 2,
       "version_minor": 0
      },
      "text/plain": [
       "  0%|          | 0/530 [00:00<?, ?it/s]"
      ]
     },
     "metadata": {},
     "output_type": "display_data"
    },
    {
     "name": "stdout",
     "output_type": "stream",
     "text": [
      "Validation score: 79.10000000000001\n",
      "Epoch 8\n"
     ]
    },
    {
     "data": {
      "application/vnd.jupyter.widget-view+json": {
       "model_id": "588ff33fb74b4dd092720311f4857ab9",
       "version_major": 2,
       "version_minor": 0
      },
      "text/plain": [
       "  0%|          | 0/530 [00:00<?, ?it/s]"
      ]
     },
     "metadata": {},
     "output_type": "display_data"
    },
    {
     "name": "stdout",
     "output_type": "stream",
     "text": [
      "Validation score: 79.60000000000001\n",
      "Epoch 9\n"
     ]
    },
    {
     "data": {
      "application/vnd.jupyter.widget-view+json": {
       "model_id": "c4caec8090824b8e9e4752fa01a6de5d",
       "version_major": 2,
       "version_minor": 0
      },
      "text/plain": [
       "  0%|          | 0/530 [00:00<?, ?it/s]"
      ]
     },
     "metadata": {},
     "output_type": "display_data"
    },
    {
     "name": "stdout",
     "output_type": "stream",
     "text": [
      "Validation score: 78.8\n",
      "Epoch 10\n"
     ]
    },
    {
     "data": {
      "application/vnd.jupyter.widget-view+json": {
       "model_id": "8e2e37f908164453ba8e40b891b6a2e2",
       "version_major": 2,
       "version_minor": 0
      },
      "text/plain": [
       "  0%|          | 0/530 [00:00<?, ?it/s]"
      ]
     },
     "metadata": {},
     "output_type": "display_data"
    },
    {
     "name": "stdout",
     "output_type": "stream",
     "text": [
      "Validation score: 78.8\n",
      "Epoch 11\n"
     ]
    },
    {
     "data": {
      "application/vnd.jupyter.widget-view+json": {
       "model_id": "818d8ab0e7254c7abcbf851e255a8f79",
       "version_major": 2,
       "version_minor": 0
      },
      "text/plain": [
       "  0%|          | 0/530 [00:00<?, ?it/s]"
      ]
     },
     "metadata": {},
     "output_type": "display_data"
    },
    {
     "name": "stdout",
     "output_type": "stream",
     "text": [
      "Validation score: 79.5\n",
      "Epoch 12\n"
     ]
    },
    {
     "data": {
      "application/vnd.jupyter.widget-view+json": {
       "model_id": "66893ed6cef74899889fc5fce15b3713",
       "version_major": 2,
       "version_minor": 0
      },
      "text/plain": [
       "  0%|          | 0/530 [00:00<?, ?it/s]"
      ]
     },
     "metadata": {},
     "output_type": "display_data"
    },
    {
     "name": "stdout",
     "output_type": "stream",
     "text": [
      "Validation score: 79.7\n",
      "Epoch 13\n"
     ]
    },
    {
     "data": {
      "application/vnd.jupyter.widget-view+json": {
       "model_id": "16302d7c36cd4815af03fe55e31578d5",
       "version_major": 2,
       "version_minor": 0
      },
      "text/plain": [
       "  0%|          | 0/530 [00:00<?, ?it/s]"
      ]
     },
     "metadata": {},
     "output_type": "display_data"
    },
    {
     "name": "stdout",
     "output_type": "stream",
     "text": [
      "Validation score: 78.8\n",
      "Epoch 14\n"
     ]
    },
    {
     "data": {
      "application/vnd.jupyter.widget-view+json": {
       "model_id": "c68ab667e1b84c2085c58a251bf02982",
       "version_major": 2,
       "version_minor": 0
      },
      "text/plain": [
       "  0%|          | 0/530 [00:00<?, ?it/s]"
      ]
     },
     "metadata": {},
     "output_type": "display_data"
    },
    {
     "name": "stdout",
     "output_type": "stream",
     "text": [
      "Validation score: 79.7\n",
      "Epoch 15\n"
     ]
    },
    {
     "data": {
      "application/vnd.jupyter.widget-view+json": {
       "model_id": "b24ab20b0e024be38b380a759424a833",
       "version_major": 2,
       "version_minor": 0
      },
      "text/plain": [
       "  0%|          | 0/530 [00:00<?, ?it/s]"
      ]
     },
     "metadata": {},
     "output_type": "display_data"
    },
    {
     "name": "stdout",
     "output_type": "stream",
     "text": [
      "Validation score: 79.3\n",
      "Epoch 16\n"
     ]
    },
    {
     "data": {
      "application/vnd.jupyter.widget-view+json": {
       "model_id": "febef624aaeb488aa805d5151b53ff31",
       "version_major": 2,
       "version_minor": 0
      },
      "text/plain": [
       "  0%|          | 0/530 [00:00<?, ?it/s]"
      ]
     },
     "metadata": {},
     "output_type": "display_data"
    },
    {
     "name": "stdout",
     "output_type": "stream",
     "text": [
      "Validation score: 79.3\n",
      "Epoch 17\n"
     ]
    },
    {
     "data": {
      "application/vnd.jupyter.widget-view+json": {
       "model_id": "38e74a776f124a538161060c8dae8e92",
       "version_major": 2,
       "version_minor": 0
      },
      "text/plain": [
       "  0%|          | 0/530 [00:00<?, ?it/s]"
      ]
     },
     "metadata": {},
     "output_type": "display_data"
    },
    {
     "name": "stdout",
     "output_type": "stream",
     "text": [
      "Validation score: 79.4\n",
      "Epoch 18\n"
     ]
    },
    {
     "data": {
      "application/vnd.jupyter.widget-view+json": {
       "model_id": "5201b532914e4917bd419c8bb4721a9b",
       "version_major": 2,
       "version_minor": 0
      },
      "text/plain": [
       "  0%|          | 0/530 [00:00<?, ?it/s]"
      ]
     },
     "metadata": {},
     "output_type": "display_data"
    },
    {
     "name": "stdout",
     "output_type": "stream",
     "text": [
      "Validation score: 79.4\n",
      "Epoch 19\n"
     ]
    },
    {
     "data": {
      "application/vnd.jupyter.widget-view+json": {
       "model_id": "25d502bc4e4a4e9fa9e0399fdd2287a5",
       "version_major": 2,
       "version_minor": 0
      },
      "text/plain": [
       "  0%|          | 0/530 [00:00<?, ?it/s]"
      ]
     },
     "metadata": {},
     "output_type": "display_data"
    },
    {
     "name": "stdout",
     "output_type": "stream",
     "text": [
      "Validation score: 79.7\n",
      "Epoch 20\n"
     ]
    },
    {
     "data": {
      "application/vnd.jupyter.widget-view+json": {
       "model_id": "aba0be0994cf45a18e80ace216ec9db2",
       "version_major": 2,
       "version_minor": 0
      },
      "text/plain": [
       "  0%|          | 0/530 [00:00<?, ?it/s]"
      ]
     },
     "metadata": {},
     "output_type": "display_data"
    },
    {
     "name": "stdout",
     "output_type": "stream",
     "text": [
      "Validation score: 80.0\n",
      "Epoch 21\n"
     ]
    },
    {
     "data": {
      "application/vnd.jupyter.widget-view+json": {
       "model_id": "a0ef91de13ea410da163a9535e78c6c1",
       "version_major": 2,
       "version_minor": 0
      },
      "text/plain": [
       "  0%|          | 0/530 [00:00<?, ?it/s]"
      ]
     },
     "metadata": {},
     "output_type": "display_data"
    },
    {
     "name": "stdout",
     "output_type": "stream",
     "text": [
      "Validation score: 80.30000000000001\n",
      "Epoch 22\n"
     ]
    },
    {
     "data": {
      "application/vnd.jupyter.widget-view+json": {
       "model_id": "736c96f1f7834f8586e3b49518fb436d",
       "version_major": 2,
       "version_minor": 0
      },
      "text/plain": [
       "  0%|          | 0/530 [00:00<?, ?it/s]"
      ]
     },
     "metadata": {},
     "output_type": "display_data"
    },
    {
     "name": "stdout",
     "output_type": "stream",
     "text": [
      "Validation score: 79.4\n",
      "Epoch 23\n"
     ]
    },
    {
     "data": {
      "application/vnd.jupyter.widget-view+json": {
       "model_id": "187e1d26e6a849b9982c0f645944e8c3",
       "version_major": 2,
       "version_minor": 0
      },
      "text/plain": [
       "  0%|          | 0/530 [00:00<?, ?it/s]"
      ]
     },
     "metadata": {},
     "output_type": "display_data"
    },
    {
     "name": "stdout",
     "output_type": "stream",
     "text": [
      "Validation score: 79.60000000000001\n",
      "Epoch 24\n"
     ]
    },
    {
     "data": {
      "application/vnd.jupyter.widget-view+json": {
       "model_id": "acceebaf43984b28bf85b3329f83202d",
       "version_major": 2,
       "version_minor": 0
      },
      "text/plain": [
       "  0%|          | 0/530 [00:00<?, ?it/s]"
      ]
     },
     "metadata": {},
     "output_type": "display_data"
    },
    {
     "name": "stdout",
     "output_type": "stream",
     "text": [
      "Validation score: 79.3\n"
     ]
    }
   ],
   "source": [
    "class ImprovedNetwork(nn.Module):\n",
    "    def __init__(self, n_outputs): # pass whatever arguments you need\n",
    "        super().__init__()\n",
    "\n",
    "        # YOUR CODE HERE\n",
    "        # create Modules from torch.nn (imported as nn)\n",
    "\n",
    "        # BEGIN SOLUTION\n",
    "        emb_dim = 128\n",
    "\n",
    "        self.embedding = nn.Embedding(512, emb_dim)\n",
    "        self.model = nn.Sequential(\n",
    "            nn.Linear(21, 512),\n",
    "            nn.ReLU(),\n",
    "            nn.Dropout(0.48),\n",
    "            nn.Linear(512, 256),\n",
    "            nn.ReLU(),\n",
    "            #nn.Dropout(0.35),\n",
    "            nn.Linear(256, 128),\n",
    "            nn.ReLU(),\n",
    "            nn.Linear(128, 32),\n",
    "            nn.ReLU(),\n",
    "            nn.Linear(32, 11)\n",
    "        )\n",
    "        self.embed_model = nn.Sequential(\n",
    "            nn.Linear(emb_dim*2, 128),\n",
    "            nn.ReLU(),\n",
    "            \n",
    "        )\n",
    "        \n",
    "        # END SOLUTION\n",
    "\n",
    "    def forward(self, chars, mask):\n",
    "        # for this network, `chars` should be an int64 tensor of character ids with size (batch, n_chars)\n",
    "        # `mask` is a float32 tensor of size (batch, n_chars) that is 1.0 if the character at that position in `chars` is valid (else 0.0)\n",
    "        # the function returns a float32 tensor of size (batch, n_pos)\n",
    "\n",
    "        # YOUR CODE HERE\n",
    "\n",
    "        # BEGIN SOLUTION\n",
    "        chars = chars.cuda()\n",
    "        mask = mask.cuda()\n",
    "        #print(chars.size())\n",
    "        embed = self.embedding(chars)\n",
    "        #print(chars.dtype)\n",
    "        first_cutted = embed[0:, 1:, 0:]\n",
    "        last_cutted =  embed[0:, :-1, 0:]\n",
    "        concated = torch.cat((first_cutted, last_cutted), dim = 2)\n",
    "        #print(concated.size())\n",
    "        #print(embed.size(), mask.unsqueeze(1).size(), first_cutted.size(), last_cutted.size())\n",
    "        \n",
    "        after_relu = self.embed_model(concated)\n",
    "        multiplied  = after_relu * mask[0:,1:].unsqueeze(2)\n",
    "        #print(multiplied.size())\n",
    "        pooled = multiplied.mean(dim=2)\n",
    "        #print(pooled.size())\n",
    "        result = self.model(pooled)\n",
    "        return result\n",
    "        # END SOLUTION\n",
    "\n",
    "trained_improved_network = train(ImprovedNetwork(len(all_tags)))\n",
    "improved_predictor = predict_using(trained_improved_network)"
   ]
  },
  {
   "cell_type": "markdown",
   "metadata": {
    "id": "vaTxzvNgxtDR"
   },
   "source": [
    "We can also get a feel for what our model learned by providing some of our own inputs that aren't real words (yet)."
   ]
  },
  {
   "cell_type": "code",
   "execution_count": 15,
   "metadata": {
    "id": "AFMX_RBKT1oN"
   },
   "outputs": [
    {
     "name": "stdout",
     "output_type": "stream",
     "text": [
      "Sample predictions: [('salem', 'NOUN'), ('unsympathetic', 'ADJ'), ('downwind', 'VERB'), ('exodus', 'NOUN'), ('avoiding', 'VERB'), ('informal', 'ADJ'), ('padded', 'VERB'), ('tantalizing', 'VERB'), ('farce', 'NOUN'), ('berger', 'NOUN')]\n",
      "Sample predictions: [('kleining', 'VERB'), ('deneroful', 'ADJ')]\n"
     ]
    }
   ],
   "source": [
    "print_sample_predictions(improved_predictor, validation_data_raw)\n",
    "\n",
    "print_sample_predictions(improved_predictor, [['kleining','X'], ['deneroful','X']])"
   ]
  },
  {
   "cell_type": "markdown",
   "metadata": {
    "id": "XrsWMTREe9EY"
   },
   "source": [
    "Finally, you need to run your model on the test set and save the outputs.  You'll turn in your predictions for us to grade."
   ]
  },
  {
   "cell_type": "code",
   "execution_count": 16,
   "metadata": {
    "id": "uRxZb1LBfVmf"
   },
   "outputs": [
    {
     "name": "stdout",
     "output_type": "stream",
     "text": [
      "test score pooling: 72.8\n",
      "test score improved: 81.3\n"
     ]
    }
   ],
   "source": [
    "def save_predictions(predictions, filename):\n",
    "    \"\"\"Save predictions to a file.\n",
    "    \n",
    "    predictions is a list of strings.\n",
    "    \"\"\"\n",
    "    with open(filename, 'w') as f:\n",
    "        for pred in predictions:\n",
    "            f.write(pred)\n",
    "            f.write('\\n')\n",
    "\n",
    "print('test score pooling:', evaluate(pooling_predictor, test_data_raw))\n",
    "print('test score improved:', evaluate(improved_predictor, test_data_raw))\n",
    "\n",
    "test_predictions = pooling_predictor(test_data_raw)\n",
    "save_predictions(test_predictions, 'predicted_test_outputs_pooling.txt')\n",
    "test_predictions = improved_predictor(test_data_raw)\n",
    "save_predictions(test_predictions, 'predicted_test_outputs_improved.txt')\n",
    "\n",
    "# Check that your test set looks like we expect it to\n",
    "import hashlib\n",
    "m = hashlib.md5()\n",
    "m.update(str(test_data_raw).encode('utf-8'))\n",
    "assert m.digest() == b'*N\\xf6\\xbe\\xed\\xde\\xe8q)\\xb9GG\\xa6\\x15UI'"
   ]
  },
  {
   "cell_type": "markdown",
   "metadata": {
    "id": "uO7Ku-YUSc0D"
   },
   "source": [
    "### Gradescope\n",
    "\n",
    "To download this notebook, go to `File->Download .ipynb`.  Please rename the file to match the name in our file list.  You can download other outputs, like `predicted_test_output_improved.txt` by clicking the > arrow near the top left and finding it under `Files`.\n",
    "\n",
    "When submitting your ipython notebooks, make sure everything runs correctly if the cells are executed in order starting from a fresh session.  Note that just because a cell runs in your current session doesn't mean it doesn't rely on code that you have already changed or deleted.  If the code doesn't take too long to run, we recommend re-running everything with `Runtime->Restart and run all...`."
   ]
  },
  {
   "cell_type": "markdown",
   "metadata": {},
   "source": []
  }
 ],
 "metadata": {
  "accelerator": "GPU",
  "colab": {
   "collapsed_sections": [],
   "name": "Copy of hw1a.ipynb",
   "provenance": []
  },
  "kernelspec": {
   "display_name": "Python 3",
   "language": "python",
   "name": "python3"
  },
  "language_info": {
   "codemirror_mode": {
    "name": "ipython",
    "version": 3
   },
   "file_extension": ".py",
   "mimetype": "text/x-python",
   "name": "python",
   "nbconvert_exporter": "python",
   "pygments_lexer": "ipython3",
   "version": "3.6.13"
  },
  "widgets": {
   "application/vnd.jupyter.widget-state+json": {
    "0b2f35bf8e1d4009bb1489a9bbac8e7a": {
     "model_module": "@jupyter-widgets/controls",
     "model_module_version": "1.5.0",
     "model_name": "DescriptionStyleModel",
     "state": {
      "_model_module": "@jupyter-widgets/controls",
      "_model_module_version": "1.5.0",
      "_model_name": "DescriptionStyleModel",
      "_view_count": null,
      "_view_module": "@jupyter-widgets/base",
      "_view_module_version": "1.2.0",
      "_view_name": "StyleView",
      "description_width": ""
     }
    },
    "39c1d1b8f4da4095a62cd800acee8a64": {
     "model_module": "@jupyter-widgets/controls",
     "model_module_version": "1.5.0",
     "model_name": "ProgressStyleModel",
     "state": {
      "_model_module": "@jupyter-widgets/controls",
      "_model_module_version": "1.5.0",
      "_model_name": "ProgressStyleModel",
      "_view_count": null,
      "_view_module": "@jupyter-widgets/base",
      "_view_module_version": "1.2.0",
      "_view_name": "StyleView",
      "bar_color": null,
      "description_width": ""
     }
    },
    "4913e252002748788522f6b246873cec": {
     "model_module": "@jupyter-widgets/controls",
     "model_module_version": "1.5.0",
     "model_name": "DescriptionStyleModel",
     "state": {
      "_model_module": "@jupyter-widgets/controls",
      "_model_module_version": "1.5.0",
      "_model_name": "DescriptionStyleModel",
      "_view_count": null,
      "_view_module": "@jupyter-widgets/base",
      "_view_module_version": "1.2.0",
      "_view_name": "StyleView",
      "description_width": ""
     }
    },
    "4c18b8ced12144838e01030950c97bda": {
     "model_module": "@jupyter-widgets/controls",
     "model_module_version": "1.5.0",
     "model_name": "DescriptionStyleModel",
     "state": {
      "_model_module": "@jupyter-widgets/controls",
      "_model_module_version": "1.5.0",
      "_model_name": "DescriptionStyleModel",
      "_view_count": null,
      "_view_module": "@jupyter-widgets/base",
      "_view_module_version": "1.2.0",
      "_view_name": "StyleView",
      "description_width": ""
     }
    },
    "50eff476daf14b55bd4d5f34d18e909d": {
     "model_module": "@jupyter-widgets/base",
     "model_module_version": "1.2.0",
     "model_name": "LayoutModel",
     "state": {
      "_model_module": "@jupyter-widgets/base",
      "_model_module_version": "1.2.0",
      "_model_name": "LayoutModel",
      "_view_count": null,
      "_view_module": "@jupyter-widgets/base",
      "_view_module_version": "1.2.0",
      "_view_name": "LayoutView",
      "align_content": null,
      "align_items": null,
      "align_self": null,
      "border": null,
      "bottom": null,
      "display": null,
      "flex": null,
      "flex_flow": null,
      "grid_area": null,
      "grid_auto_columns": null,
      "grid_auto_flow": null,
      "grid_auto_rows": null,
      "grid_column": null,
      "grid_gap": null,
      "grid_row": null,
      "grid_template_areas": null,
      "grid_template_columns": null,
      "grid_template_rows": null,
      "height": null,
      "justify_content": null,
      "justify_items": null,
      "left": null,
      "margin": null,
      "max_height": null,
      "max_width": null,
      "min_height": null,
      "min_width": null,
      "object_fit": null,
      "object_position": null,
      "order": null,
      "overflow": null,
      "overflow_x": null,
      "overflow_y": null,
      "padding": null,
      "right": null,
      "top": null,
      "visibility": null,
      "width": null
     }
    },
    "547b9f8051814b50ae3d87610bf29cc4": {
     "model_module": "@jupyter-widgets/controls",
     "model_module_version": "1.5.0",
     "model_name": "HTMLModel",
     "state": {
      "_dom_classes": [],
      "_model_module": "@jupyter-widgets/controls",
      "_model_module_version": "1.5.0",
      "_model_name": "HTMLModel",
      "_view_count": null,
      "_view_module": "@jupyter-widgets/controls",
      "_view_module_version": "1.5.0",
      "_view_name": "HTMLView",
      "description": "",
      "description_tooltip": null,
      "layout": "IPY_MODEL_ed69bc057bea42f1bb4edb23112d8f73",
      "placeholder": "​",
      "style": "IPY_MODEL_0b2f35bf8e1d4009bb1489a9bbac8e7a",
      "value": " 214/265 [00:00&lt;00:00, 764.79it/s]"
     }
    },
    "5fa8955039f7428ebc7250273a223f66": {
     "model_module": "@jupyter-widgets/controls",
     "model_module_version": "1.5.0",
     "model_name": "ProgressStyleModel",
     "state": {
      "_model_module": "@jupyter-widgets/controls",
      "_model_module_version": "1.5.0",
      "_model_name": "ProgressStyleModel",
      "_view_count": null,
      "_view_module": "@jupyter-widgets/base",
      "_view_module_version": "1.2.0",
      "_view_name": "StyleView",
      "bar_color": null,
      "description_width": ""
     }
    },
    "614220f257974e76a7bb4f945492d5ba": {
     "model_module": "@jupyter-widgets/controls",
     "model_module_version": "1.5.0",
     "model_name": "HBoxModel",
     "state": {
      "_dom_classes": [],
      "_model_module": "@jupyter-widgets/controls",
      "_model_module_version": "1.5.0",
      "_model_name": "HBoxModel",
      "_view_count": null,
      "_view_module": "@jupyter-widgets/controls",
      "_view_module_version": "1.5.0",
      "_view_name": "HBoxView",
      "box_style": "",
      "children": [
       "IPY_MODEL_adf3b96d2f5940468908a7a6c669dd45",
       "IPY_MODEL_d78e88e8965e41839fd669f44cc15e91",
       "IPY_MODEL_d6e5cb3898f14c6fb51d6bf9ff7af18d"
      ],
      "layout": "IPY_MODEL_758a7aff75a542bcab1b506f2529cb86"
     }
    },
    "7459243bafb74e76aeb9144f1de31f92": {
     "model_module": "@jupyter-widgets/base",
     "model_module_version": "1.2.0",
     "model_name": "LayoutModel",
     "state": {
      "_model_module": "@jupyter-widgets/base",
      "_model_module_version": "1.2.0",
      "_model_name": "LayoutModel",
      "_view_count": null,
      "_view_module": "@jupyter-widgets/base",
      "_view_module_version": "1.2.0",
      "_view_name": "LayoutView",
      "align_content": null,
      "align_items": null,
      "align_self": null,
      "border": null,
      "bottom": null,
      "display": null,
      "flex": null,
      "flex_flow": null,
      "grid_area": null,
      "grid_auto_columns": null,
      "grid_auto_flow": null,
      "grid_auto_rows": null,
      "grid_column": null,
      "grid_gap": null,
      "grid_row": null,
      "grid_template_areas": null,
      "grid_template_columns": null,
      "grid_template_rows": null,
      "height": null,
      "justify_content": null,
      "justify_items": null,
      "left": null,
      "margin": null,
      "max_height": null,
      "max_width": null,
      "min_height": null,
      "min_width": null,
      "object_fit": null,
      "object_position": null,
      "order": null,
      "overflow": null,
      "overflow_x": null,
      "overflow_y": null,
      "padding": null,
      "right": null,
      "top": null,
      "visibility": null,
      "width": null
     }
    },
    "758a7aff75a542bcab1b506f2529cb86": {
     "model_module": "@jupyter-widgets/base",
     "model_module_version": "1.2.0",
     "model_name": "LayoutModel",
     "state": {
      "_model_module": "@jupyter-widgets/base",
      "_model_module_version": "1.2.0",
      "_model_name": "LayoutModel",
      "_view_count": null,
      "_view_module": "@jupyter-widgets/base",
      "_view_module_version": "1.2.0",
      "_view_name": "LayoutView",
      "align_content": null,
      "align_items": null,
      "align_self": null,
      "border": null,
      "bottom": null,
      "display": null,
      "flex": null,
      "flex_flow": null,
      "grid_area": null,
      "grid_auto_columns": null,
      "grid_auto_flow": null,
      "grid_auto_rows": null,
      "grid_column": null,
      "grid_gap": null,
      "grid_row": null,
      "grid_template_areas": null,
      "grid_template_columns": null,
      "grid_template_rows": null,
      "height": null,
      "justify_content": null,
      "justify_items": null,
      "left": null,
      "margin": null,
      "max_height": null,
      "max_width": null,
      "min_height": null,
      "min_width": null,
      "object_fit": null,
      "object_position": null,
      "order": null,
      "overflow": null,
      "overflow_x": null,
      "overflow_y": null,
      "padding": null,
      "right": null,
      "top": null,
      "visibility": null,
      "width": null
     }
    },
    "83144f6f20494e09a5087b66c7c8555f": {
     "model_module": "@jupyter-widgets/base",
     "model_module_version": "1.2.0",
     "model_name": "LayoutModel",
     "state": {
      "_model_module": "@jupyter-widgets/base",
      "_model_module_version": "1.2.0",
      "_model_name": "LayoutModel",
      "_view_count": null,
      "_view_module": "@jupyter-widgets/base",
      "_view_module_version": "1.2.0",
      "_view_name": "LayoutView",
      "align_content": null,
      "align_items": null,
      "align_self": null,
      "border": null,
      "bottom": null,
      "display": null,
      "flex": null,
      "flex_flow": null,
      "grid_area": null,
      "grid_auto_columns": null,
      "grid_auto_flow": null,
      "grid_auto_rows": null,
      "grid_column": null,
      "grid_gap": null,
      "grid_row": null,
      "grid_template_areas": null,
      "grid_template_columns": null,
      "grid_template_rows": null,
      "height": null,
      "justify_content": null,
      "justify_items": null,
      "left": null,
      "margin": null,
      "max_height": null,
      "max_width": null,
      "min_height": null,
      "min_width": null,
      "object_fit": null,
      "object_position": null,
      "order": null,
      "overflow": null,
      "overflow_x": null,
      "overflow_y": null,
      "padding": null,
      "right": null,
      "top": null,
      "visibility": null,
      "width": null
     }
    },
    "9772357316df4493a534cd418dbdb815": {
     "model_module": "@jupyter-widgets/base",
     "model_module_version": "1.2.0",
     "model_name": "LayoutModel",
     "state": {
      "_model_module": "@jupyter-widgets/base",
      "_model_module_version": "1.2.0",
      "_model_name": "LayoutModel",
      "_view_count": null,
      "_view_module": "@jupyter-widgets/base",
      "_view_module_version": "1.2.0",
      "_view_name": "LayoutView",
      "align_content": null,
      "align_items": null,
      "align_self": null,
      "border": null,
      "bottom": null,
      "display": null,
      "flex": null,
      "flex_flow": null,
      "grid_area": null,
      "grid_auto_columns": null,
      "grid_auto_flow": null,
      "grid_auto_rows": null,
      "grid_column": null,
      "grid_gap": null,
      "grid_row": null,
      "grid_template_areas": null,
      "grid_template_columns": null,
      "grid_template_rows": null,
      "height": null,
      "justify_content": null,
      "justify_items": null,
      "left": null,
      "margin": null,
      "max_height": null,
      "max_width": null,
      "min_height": null,
      "min_width": null,
      "object_fit": null,
      "object_position": null,
      "order": null,
      "overflow": null,
      "overflow_x": null,
      "overflow_y": null,
      "padding": null,
      "right": null,
      "top": null,
      "visibility": null,
      "width": null
     }
    },
    "a04bab62540f47fcbc158cea0b58ed4f": {
     "model_module": "@jupyter-widgets/controls",
     "model_module_version": "1.5.0",
     "model_name": "HBoxModel",
     "state": {
      "_dom_classes": [],
      "_model_module": "@jupyter-widgets/controls",
      "_model_module_version": "1.5.0",
      "_model_name": "HBoxModel",
      "_view_count": null,
      "_view_module": "@jupyter-widgets/controls",
      "_view_module_version": "1.5.0",
      "_view_name": "HBoxView",
      "box_style": "",
      "children": [
       "IPY_MODEL_c09488590f834dcfa75faaed552c542a",
       "IPY_MODEL_d0ade8668964456883e93cdf2fdd6c51",
       "IPY_MODEL_547b9f8051814b50ae3d87610bf29cc4"
      ],
      "layout": "IPY_MODEL_50eff476daf14b55bd4d5f34d18e909d"
     }
    },
    "acc1d1e91e314c5eb845144dc661cd79": {
     "model_module": "@jupyter-widgets/controls",
     "model_module_version": "1.5.0",
     "model_name": "DescriptionStyleModel",
     "state": {
      "_model_module": "@jupyter-widgets/controls",
      "_model_module_version": "1.5.0",
      "_model_name": "DescriptionStyleModel",
      "_view_count": null,
      "_view_module": "@jupyter-widgets/base",
      "_view_module_version": "1.2.0",
      "_view_name": "StyleView",
      "description_width": ""
     }
    },
    "adf3b96d2f5940468908a7a6c669dd45": {
     "model_module": "@jupyter-widgets/controls",
     "model_module_version": "1.5.0",
     "model_name": "HTMLModel",
     "state": {
      "_dom_classes": [],
      "_model_module": "@jupyter-widgets/controls",
      "_model_module_version": "1.5.0",
      "_model_name": "HTMLModel",
      "_view_count": null,
      "_view_module": "@jupyter-widgets/controls",
      "_view_module_version": "1.5.0",
      "_view_name": "HTMLView",
      "description": "",
      "description_tooltip": null,
      "layout": "IPY_MODEL_bbf9010190254741b1907e4ee7ea32a5",
      "placeholder": "​",
      "style": "IPY_MODEL_4c18b8ced12144838e01030950c97bda",
      "value": " 87%"
     }
    },
    "b79c3e822d114979b0d7b9f5e7de791f": {
     "model_module": "@jupyter-widgets/base",
     "model_module_version": "1.2.0",
     "model_name": "LayoutModel",
     "state": {
      "_model_module": "@jupyter-widgets/base",
      "_model_module_version": "1.2.0",
      "_model_name": "LayoutModel",
      "_view_count": null,
      "_view_module": "@jupyter-widgets/base",
      "_view_module_version": "1.2.0",
      "_view_name": "LayoutView",
      "align_content": null,
      "align_items": null,
      "align_self": null,
      "border": null,
      "bottom": null,
      "display": null,
      "flex": null,
      "flex_flow": null,
      "grid_area": null,
      "grid_auto_columns": null,
      "grid_auto_flow": null,
      "grid_auto_rows": null,
      "grid_column": null,
      "grid_gap": null,
      "grid_row": null,
      "grid_template_areas": null,
      "grid_template_columns": null,
      "grid_template_rows": null,
      "height": null,
      "justify_content": null,
      "justify_items": null,
      "left": null,
      "margin": null,
      "max_height": null,
      "max_width": null,
      "min_height": null,
      "min_width": null,
      "object_fit": null,
      "object_position": null,
      "order": null,
      "overflow": null,
      "overflow_x": null,
      "overflow_y": null,
      "padding": null,
      "right": null,
      "top": null,
      "visibility": null,
      "width": null
     }
    },
    "bbf9010190254741b1907e4ee7ea32a5": {
     "model_module": "@jupyter-widgets/base",
     "model_module_version": "1.2.0",
     "model_name": "LayoutModel",
     "state": {
      "_model_module": "@jupyter-widgets/base",
      "_model_module_version": "1.2.0",
      "_model_name": "LayoutModel",
      "_view_count": null,
      "_view_module": "@jupyter-widgets/base",
      "_view_module_version": "1.2.0",
      "_view_name": "LayoutView",
      "align_content": null,
      "align_items": null,
      "align_self": null,
      "border": null,
      "bottom": null,
      "display": null,
      "flex": null,
      "flex_flow": null,
      "grid_area": null,
      "grid_auto_columns": null,
      "grid_auto_flow": null,
      "grid_auto_rows": null,
      "grid_column": null,
      "grid_gap": null,
      "grid_row": null,
      "grid_template_areas": null,
      "grid_template_columns": null,
      "grid_template_rows": null,
      "height": null,
      "justify_content": null,
      "justify_items": null,
      "left": null,
      "margin": null,
      "max_height": null,
      "max_width": null,
      "min_height": null,
      "min_width": null,
      "object_fit": null,
      "object_position": null,
      "order": null,
      "overflow": null,
      "overflow_x": null,
      "overflow_y": null,
      "padding": null,
      "right": null,
      "top": null,
      "visibility": null,
      "width": null
     }
    },
    "c09488590f834dcfa75faaed552c542a": {
     "model_module": "@jupyter-widgets/controls",
     "model_module_version": "1.5.0",
     "model_name": "HTMLModel",
     "state": {
      "_dom_classes": [],
      "_model_module": "@jupyter-widgets/controls",
      "_model_module_version": "1.5.0",
      "_model_name": "HTMLModel",
      "_view_count": null,
      "_view_module": "@jupyter-widgets/controls",
      "_view_module_version": "1.5.0",
      "_view_name": "HTMLView",
      "description": "",
      "description_tooltip": null,
      "layout": "IPY_MODEL_7459243bafb74e76aeb9144f1de31f92",
      "placeholder": "​",
      "style": "IPY_MODEL_acc1d1e91e314c5eb845144dc661cd79",
      "value": " 81%"
     }
    },
    "d0ade8668964456883e93cdf2fdd6c51": {
     "model_module": "@jupyter-widgets/controls",
     "model_module_version": "1.5.0",
     "model_name": "FloatProgressModel",
     "state": {
      "_dom_classes": [],
      "_model_module": "@jupyter-widgets/controls",
      "_model_module_version": "1.5.0",
      "_model_name": "FloatProgressModel",
      "_view_count": null,
      "_view_module": "@jupyter-widgets/controls",
      "_view_module_version": "1.5.0",
      "_view_name": "ProgressView",
      "bar_style": "",
      "description": "",
      "description_tooltip": null,
      "layout": "IPY_MODEL_b79c3e822d114979b0d7b9f5e7de791f",
      "max": 265,
      "min": 0,
      "orientation": "horizontal",
      "style": "IPY_MODEL_5fa8955039f7428ebc7250273a223f66",
      "value": 265
     }
    },
    "d6e5cb3898f14c6fb51d6bf9ff7af18d": {
     "model_module": "@jupyter-widgets/controls",
     "model_module_version": "1.5.0",
     "model_name": "HTMLModel",
     "state": {
      "_dom_classes": [],
      "_model_module": "@jupyter-widgets/controls",
      "_model_module_version": "1.5.0",
      "_model_name": "HTMLModel",
      "_view_count": null,
      "_view_module": "@jupyter-widgets/controls",
      "_view_module_version": "1.5.0",
      "_view_name": "HTMLView",
      "description": "",
      "description_tooltip": null,
      "layout": "IPY_MODEL_83144f6f20494e09a5087b66c7c8555f",
      "placeholder": "​",
      "style": "IPY_MODEL_4913e252002748788522f6b246873cec",
      "value": " 230/265 [00:00&lt;00:00, 808.31it/s]"
     }
    },
    "d78e88e8965e41839fd669f44cc15e91": {
     "model_module": "@jupyter-widgets/controls",
     "model_module_version": "1.5.0",
     "model_name": "FloatProgressModel",
     "state": {
      "_dom_classes": [],
      "_model_module": "@jupyter-widgets/controls",
      "_model_module_version": "1.5.0",
      "_model_name": "FloatProgressModel",
      "_view_count": null,
      "_view_module": "@jupyter-widgets/controls",
      "_view_module_version": "1.5.0",
      "_view_name": "ProgressView",
      "bar_style": "",
      "description": "",
      "description_tooltip": null,
      "layout": "IPY_MODEL_9772357316df4493a534cd418dbdb815",
      "max": 265,
      "min": 0,
      "orientation": "horizontal",
      "style": "IPY_MODEL_39c1d1b8f4da4095a62cd800acee8a64",
      "value": 265
     }
    },
    "ed69bc057bea42f1bb4edb23112d8f73": {
     "model_module": "@jupyter-widgets/base",
     "model_module_version": "1.2.0",
     "model_name": "LayoutModel",
     "state": {
      "_model_module": "@jupyter-widgets/base",
      "_model_module_version": "1.2.0",
      "_model_name": "LayoutModel",
      "_view_count": null,
      "_view_module": "@jupyter-widgets/base",
      "_view_module_version": "1.2.0",
      "_view_name": "LayoutView",
      "align_content": null,
      "align_items": null,
      "align_self": null,
      "border": null,
      "bottom": null,
      "display": null,
      "flex": null,
      "flex_flow": null,
      "grid_area": null,
      "grid_auto_columns": null,
      "grid_auto_flow": null,
      "grid_auto_rows": null,
      "grid_column": null,
      "grid_gap": null,
      "grid_row": null,
      "grid_template_areas": null,
      "grid_template_columns": null,
      "grid_template_rows": null,
      "height": null,
      "justify_content": null,
      "justify_items": null,
      "left": null,
      "margin": null,
      "max_height": null,
      "max_width": null,
      "min_height": null,
      "min_width": null,
      "object_fit": null,
      "object_position": null,
      "order": null,
      "overflow": null,
      "overflow_x": null,
      "overflow_y": null,
      "padding": null,
      "right": null,
      "top": null,
      "visibility": null,
      "width": null
     }
    }
   }
  }
 },
 "nbformat": 4,
 "nbformat_minor": 1
}
