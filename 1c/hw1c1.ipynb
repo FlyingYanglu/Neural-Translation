{
  "cells": [
    {
      "cell_type": "markdown",
      "metadata": {
        "id": "430w1zf5CD5B"
      },
      "source": [
        "## Homework 1c: Large Language Model Inference\n",
        "\n",
        "Modern language models are often trained on hundreds of gigabytes of data and can't be easily replicated as a course project. In this assignment, we'll show how to use existing pre-trained transformer language models with the Python [`transformers` library](https://huggingface.co/docs/transformers/index)."
      ]
    },
    {
      "cell_type": "code",
      "execution_count": 9,
      "metadata": {
        "colab": {
          "base_uri": "https://localhost:8080/"
        },
        "id": "rJaHQbVKB97u",
        "outputId": "c2e30df8-59ce-43c3-f2fd-9f2c78cc1655"
      },
      "outputs": [],
      "source": [
        "# This block handles some basic setup and data loading.  \n",
        "# You shouldn't need to edit this, but if you want to \n",
        "# import other standard python packages, that is fine.\n",
        "\n",
        "# imports\n",
        "from collections import defaultdict, Counter\n",
        "import numpy as np\n",
        "import math\n",
        "import matplotlib.pyplot as plt\n",
        "import tqdm\n",
        "import random\n",
        "import pdb\n",
        "\n",
        "import torch\n",
        "from torch import nn\n",
        "import torch.nn.functional as F\n",
        "import torchtext.legacy as torchtext\n",
        "\n",
        "# download and load the data\n",
        "text_field = torchtext.data.Field()\n",
        "datasets = torchtext.datasets.WikiText2.splits(root='.', text_field=text_field)\n",
        "train_dataset, validation_dataset, test_dataset = datasets\n",
        "\n",
        "text_field.build_vocab(train_dataset, validation_dataset, test_dataset)\n",
        "vocab = text_field.vocab\n",
        "vocab_size = len(vocab)\n",
        "\n",
        "train_text = train_dataset.examples[0].text # a list of tokens (strings)\n",
        "validation_text = validation_dataset.examples[0].text"
      ]
    },
    {
      "cell_type": "code",
      "execution_count": 10,
      "metadata": {
        "colab": {
          "base_uri": "https://localhost:8080/"
        },
        "id": "bFQAU7bxYLUt",
        "outputId": "a2018610-7b87-4e0d-ac7a-8d4768093a44"
      },
      "outputs": [
        {
          "name": "stdout",
          "output_type": "stream",
          "text": [
            "0\n"
          ]
        }
      ],
      "source": [
        "r = torch.cuda.memory_reserved(0)\n",
        "a = torch.cuda.memory_allocated(0)\n",
        "print(r-a)"
      ]
    },
    {
      "cell_type": "markdown",
      "metadata": {
        "id": "WBfwge86hzqA"
      },
      "source": [
        "### Inference with Autoregressive Models\n",
        "\n",
        "We'll start by computing word probabilities under the autoregressive [GPT-2 model](https://cdn.openai.com/better-language-models/language_models_are_unsupervised_multitask_learners.pdf). To do so, we'll install the `transformers` library, which isn't natively installed on Google Colaboratory. We'll import a pre-trained `GPT2LMHeadModel` and its corresponding tokenizer, `GPT2TokenizerFast`. Note that without additional training, you can't freely mix-and-match models and their corresponding tokenizers! We aren't using the largest available models, such as [GPT-3](https://arxiv.org/abs/2005.14165), because they do not provide free inference. Larger freely available models such as [GPT-J](https://huggingface.co/EleutherAI/gpt-j-6B) do exist though, and you should feel free to play around with them."
      ]
    },
    {
      "cell_type": "code",
      "execution_count": 11,
      "metadata": {
        "colab": {
          "base_uri": "https://localhost:8080/"
        },
        "id": "4YSzh54mh4VP",
        "outputId": "637e42f0-0c4f-4c7c-f95a-7b708de361a7"
      },
      "outputs": [
        {
          "name": "stdout",
          "output_type": "stream",
          "text": [
            "Requirement already satisfied: transformers in c:\\users\\yangh\\anaconda3\\envs\\gluon\\lib\\site-packages (4.15.0)\n",
            "Requirement already satisfied: sacremoses in c:\\users\\yangh\\anaconda3\\envs\\gluon\\lib\\site-packages (from transformers) (0.0.47)\n",
            "Requirement already satisfied: tqdm>=4.27 in c:\\users\\yangh\\anaconda3\\envs\\gluon\\lib\\site-packages (from transformers) (4.62.3)\n",
            "Requirement already satisfied: dataclasses in c:\\users\\yangh\\anaconda3\\envs\\gluon\\lib\\site-packages (from transformers) (0.8)\n",
            "Requirement already satisfied: filelock in c:\\users\\yangh\\anaconda3\\envs\\gluon\\lib\\site-packages (from transformers) (3.4.1)\n",
            "Requirement already satisfied: importlib-metadata in c:\\users\\yangh\\anaconda3\\envs\\gluon\\lib\\site-packages (from transformers) (4.6.4)\n",
            "Requirement already satisfied: pyyaml>=5.1 in c:\\users\\yangh\\anaconda3\\envs\\gluon\\lib\\site-packages (from transformers) (6.0)\n",
            "Requirement already satisfied: huggingface-hub<1.0,>=0.1.0 in c:\\users\\yangh\\anaconda3\\envs\\gluon\\lib\\site-packages (from transformers) (0.4.0)\n",
            "Requirement already satisfied: numpy>=1.17 in c:\\users\\yangh\\anaconda3\\envs\\gluon\\lib\\site-packages (from transformers) (1.19.5)\n",
            "Requirement already satisfied: packaging>=20.0 in c:\\users\\yangh\\anaconda3\\envs\\gluon\\lib\\site-packages (from transformers) (21.0)\n",
            "Requirement already satisfied: regex!=2019.12.17 in c:\\users\\yangh\\anaconda3\\envs\\gluon\\lib\\site-packages (from transformers) (2022.1.18)\n",
            "Requirement already satisfied: requests in c:\\users\\yangh\\anaconda3\\envs\\gluon\\lib\\site-packages (from transformers) (2.27.1)\n",
            "Requirement already satisfied: tokenizers<0.11,>=0.10.1 in c:\\users\\yangh\\anaconda3\\envs\\gluon\\lib\\site-packages (from transformers) (0.10.3)\n",
            "Requirement already satisfied: typing-extensions>=3.7.4.3 in c:\\users\\yangh\\anaconda3\\envs\\gluon\\lib\\site-packages (from huggingface-hub<1.0,>=0.1.0->transformers) (3.10.0.0)\n",
            "Requirement already satisfied: pyparsing>=2.0.2 in c:\\users\\yangh\\anaconda3\\envs\\gluon\\lib\\site-packages (from packaging>=20.0->transformers) (2.4.7)\n",
            "Requirement already satisfied: colorama in c:\\users\\yangh\\anaconda3\\envs\\gluon\\lib\\site-packages (from tqdm>=4.27->transformers) (0.4.4)\n",
            "Requirement already satisfied: zipp>=0.5 in c:\\users\\yangh\\anaconda3\\envs\\gluon\\lib\\site-packages (from importlib-metadata->transformers) (3.5.0)\n",
            "Requirement already satisfied: urllib3<1.27,>=1.21.1 in c:\\users\\yangh\\anaconda3\\envs\\gluon\\lib\\site-packages (from requests->transformers) (1.22)\n",
            "Requirement already satisfied: charset-normalizer~=2.0.0 in c:\\users\\yangh\\anaconda3\\envs\\gluon\\lib\\site-packages (from requests->transformers) (2.0.10)\n",
            "Requirement already satisfied: certifi>=2017.4.17 in c:\\users\\yangh\\anaconda3\\envs\\gluon\\lib\\site-packages (from requests->transformers) (2021.5.30)\n",
            "Requirement already satisfied: idna<4,>=2.5 in c:\\users\\yangh\\anaconda3\\envs\\gluon\\lib\\site-packages (from requests->transformers) (2.6)\n",
            "Requirement already satisfied: joblib in c:\\users\\yangh\\anaconda3\\envs\\gluon\\lib\\site-packages (from sacremoses->transformers) (1.1.0)\n",
            "Requirement already satisfied: click in c:\\users\\yangh\\anaconda3\\envs\\gluon\\lib\\site-packages (from sacremoses->transformers) (8.0.3)\n",
            "Requirement already satisfied: six in c:\\users\\yangh\\anaconda3\\envs\\gluon\\lib\\site-packages (from sacremoses->transformers) (1.16.0)\n"
          ]
        }
      ],
      "source": [
        "!pip3 install transformers\n",
        "from transformers import GPT2LMHeadModel, GPT2TokenizerFast"
      ]
    },
    {
      "cell_type": "markdown",
      "metadata": {
        "id": "ouw5PdL-kLjk"
      },
      "source": [
        "The following code downloads model weights and can take a few minutes to run. For debugging purposes, feel free to swap out `gpt2-large` with a smaller model that downloads faster, but please submit your results using the `gpt2-large` model."
      ]
    },
    {
      "cell_type": "code",
      "execution_count": 12,
      "metadata": {
        "colab": {
          "base_uri": "https://localhost:8080/",
          "height": 466,
          "referenced_widgets": [
            "5e31848146df4ee6bfbce8a87839de2d",
            "479c02bfdc7c42bfac61bbb4e17052ed",
            "36a7eb217f854bf7ad044945caa50116",
            "28887ea4f93241c0b2747bae2214e39d",
            "5f6a89b862f647bea3d5b17ac386bc33",
            "f99f7f2c43044049a80e7308d775256e",
            "99de9d7ce70b46418ea889bbe1c309ac",
            "86668c35a70847729871dfd520b57f64",
            "94873014bf24438f81905f51191b3225",
            "9810beb9fc544bccbbf5f9b75f80135b",
            "512f3e47079c4fe2a10808859ffd0b6e",
            "212e98d61d754960922e8ce67dcc0dae",
            "a94c189a722a4e5e875c73a1a804c67a",
            "155d7a2172544f4997bf5b3aa9ec0e27",
            "4a9ee1c5730944069066cdecb4c391b0",
            "d1ea192839124df5b2997fcc7396dbd5",
            "feaf5da34df645c09945e980bf99c95b",
            "42063942b72c45609f19621a9cfb7311",
            "8678cd711794413d88c15f5967a11204",
            "566ba1ec18e34eeb815931d629283d8a",
            "c2fac82626c544fc827db212c1c09c95",
            "129e0693922f44d5a4d33a70beddd645"
          ]
        },
        "id": "dhN127r9h5Ly",
        "outputId": "2b3e5bb2-9749-4a7a-e5f8-a3cf3820344a"
      },
      "outputs": [
        {
          "name": "stdout",
          "output_type": "stream",
          "text": [
            "Running on GPU\n"
          ]
        }
      ],
      "source": [
        "if torch.cuda.is_available():\n",
        "    device = \"cuda\"\n",
        "    print(\"Running on GPU\")\n",
        "else:\n",
        "    device = \"cpu\"\n",
        "    print(\"Running on CPU\")\n",
        "model = GPT2LMHeadModel.from_pretrained(\"gpt2-large\").to(device)\n",
        "tokenizer = GPT2TokenizerFast.from_pretrained(\"gpt2-large\")"
      ]
    },
    {
      "cell_type": "markdown",
      "metadata": {
        "id": "ZnIQqtT5lKfz"
      },
      "source": [
        "We'll extract the vocabulary from the tokenizer so that we can easily see the words we're dealing with:"
      ]
    },
    {
      "cell_type": "code",
      "execution_count": 13,
      "metadata": {
        "colab": {
          "base_uri": "https://localhost:8080/"
        },
        "id": "KrZao3FriCVW",
        "outputId": "ddba9cf5-ee57-4b62-f5ce-d62dc882c372"
      },
      "outputs": [
        {
          "name": "stderr",
          "output_type": "stream",
          "text": [
            "100%|██████████| 50257/50257 [00:00<00:00, 1861390.23it/s]"
          ]
        },
        {
          "name": "stdout",
          "output_type": "stream",
          "text": [
            "8505\n",
            "3919\n"
          ]
        },
        {
          "name": "stderr",
          "output_type": "stream",
          "text": [
            "\n"
          ]
        }
      ],
      "source": [
        "vocab_map = {}\n",
        "vocab = tokenizer.vocab\n",
        "for token in tqdm.tqdm(vocab):\n",
        "    if token == \"yes\":\n",
        "        print(vocab[token])\n",
        "    if token == \"no\":\n",
        "        print(vocab[token])\n",
        "    idx = vocab[token]\n",
        "    vocab_map[idx] = token"
      ]
    },
    {
      "cell_type": "code",
      "execution_count": null,
      "metadata": {
        "colab": {
          "base_uri": "https://localhost:8080/"
        },
        "id": "RsDy259xYuJI",
        "outputId": "13997b41-0ee2-44d2-9d83-bbab43b038dc"
      },
      "outputs": [],
      "source": []
    },
    {
      "cell_type": "markdown",
      "metadata": {
        "id": "GwLlkW7BlUv3"
      },
      "source": [
        "We can use our tokenizer to convert sentences into tensors and use `vocab_map` to see what indices of these tensors correspond to. This will show which words are broken into subwords by the GPT-2 tokenizer. Note that `<|endoftext|>` is equivalent to `<eos>` in the previous notebook:"
      ]
    },
    {
      "cell_type": "code",
      "execution_count": null,
      "metadata": {
        "id": "d7FnXT2qiukw",
        "outputId": "76673e0a-6140-48f4-eda1-20184403782e"
      },
      "outputs": [
        {
          "name": "stdout",
          "output_type": "stream",
          "text": [
            "tensor([[50256,    40,  1842,   406,  2257, 10128]])\n",
            "['<|endoftext|>', 'I', 'Ġlove', 'ĠL', 'ST', 'Ms']\n"
          ]
        }
      ],
      "source": [
        "sentence = \"<|endoftext|>I love LSTMs\"\n",
        "encodings = tokenizer(sentence, return_tensors='pt')\n",
        "print(encodings[\"input_ids\"])\n",
        "print([vocab_map[int(idx)] for idx in encodings[\"input_ids\"][0]])"
      ]
    },
    {
      "cell_type": "markdown",
      "metadata": {
        "id": "GMHp2Y6qmTlh"
      },
      "source": [
        "As we can see from the above example, rare words like \"LSTMs\" are broken into multiple subwords by the GPT-2 tokenizer. Additionally, note that the token \"Ġ\" corresponds to a blank space, so we can reconstruct word boundaries from the tokenizer outputs. Given a sentence, we'll now use GPT-2 to compute contextual word probabilities for every word. Some hints for doing this:\n",
        "\n",
        "\n",
        "* Check the documentation for the GPT2LMHeadModel here: https://huggingface.co/docs/transformers/model_doc/gpt2#transformers.GPT2LMHeadModel\n",
        "* Begin by adding the `<|endoftext|>` token and passing the sentence into the tokenizer, as shown above\n",
        "* Compute word probabilities by taking `model(input_ids).logits`\n",
        "* Then, you'll need to `softmax` and index into the logits using `torch.gather` (the hardest part)\n",
        "* Finally, convert to word probabilities (rather than subword probabilities) using `vocab_map` and the \"Ġ\" token\n",
        "\n"
      ]
    },
    {
      "cell_type": "code",
      "execution_count": 14,
      "metadata": {
        "colab": {
          "base_uri": "https://localhost:8080/"
        },
        "id": "ZMN_3N3ui5_y",
        "outputId": "8475568c-b508-445d-d455-b8dac934affd"
      },
      "outputs": [
        {
          "data": {
            "text/plain": [
              "[('The', 2.4790921211242676),\n",
              " ('Ġflorist', 13.309798449277878),\n",
              " ('Ġsent', 8.142409324645996),\n",
              " ('Ġthe', 2.3661890029907227),\n",
              " ('Ġflowers', 1.405616044998169),\n",
              " ('Ġwas', 9.130634307861328),\n",
              " ('Ġpleased.', 9.912347078323364)]"
            ]
          },
          "execution_count": 14,
          "metadata": {},
          "output_type": "execute_result"
        }
      ],
      "source": [
        "# Input: sentence (a string)\n",
        "# Output: a list of (word, probability) tuples\n",
        "#         -> word (string)\n",
        "#         -> probability (float)\n",
        "def get_gpt_probs(sentence):\n",
        "    #print(sentence)\n",
        "    # YOUR CODE HERE\n",
        "    words = []\n",
        "    probs = []\n",
        "    # BEGIN SOLUTION\n",
        "    added_sentence = \"<|endoftext|>\" + sentence\n",
        "    encodings = tokenizer(added_sentence, return_tensors='pt')\n",
        "    for i in encodings:\n",
        "        encodings[i] = encodings[i].cuda()\n",
        "    idx = encodings[\"input_ids\"][0].cuda()\n",
        "    #print(idx, encodings)\n",
        "    input_id = idx[:-1]\n",
        "    output_id = idx[1:]\n",
        "    logits = model(input_id).logits\n",
        "\n",
        "    #print(logits)\n",
        "    after_softmax = torch.softmax(logits, 1)\n",
        "    #print(max(after_softmax[0]))\n",
        "    #print(after_softmax.size())\n",
        "    gathered_logits = -torch.log(torch.gather(after_softmax, 1, output_id.unsqueeze(1)))\n",
        "    #print(gathered_logits)\n",
        "    subword = [vocab_map[int(idx)] for idx in encodings[\"input_ids\"][0]]\n",
        "    #print(subword)\n",
        "    \n",
        "    subword = subword[1:]\n",
        "\n",
        "    probs.append(gathered_logits[0].item())\n",
        "    words.append(subword[0])\n",
        "\n",
        "    for i in range(1, len(subword)):\n",
        "        prob = gathered_logits[i].item()\n",
        "\n",
        "        if subword[i][0] == \"Ġ\":\n",
        "\n",
        "            probs.append(prob)\n",
        "            words.append(subword[i])\n",
        "        else:\n",
        "            probs[-1] += prob\n",
        "            words[-1] += subword[i]\n",
        "    \n",
        "    # END SOlUTION\n",
        "    return [(word, prob) for word, prob in zip(words, probs)]\n",
        "            \n",
        "get_gpt_probs(\"The florist sent the flowers was pleased.\")"
      ]
    },
    {
      "cell_type": "code",
      "execution_count": 15,
      "metadata": {
        "id": "eGxFz88u6ZbX",
        "outputId": "fbb96bb0-8dd1-4257-de2f-7e051c60abb2"
      },
      "outputs": [
        {
          "name": "stdout",
          "output_type": "stream",
          "text": [
            "Passed\n",
            "Passed\n"
          ]
        }
      ],
      "source": [
        "# To check that your implementation is roughly correct:\n",
        "def compare_probs(predictions, gold):\n",
        "  assert len(predictions) == len(gold)\n",
        "  for x,y in zip(predictions, gold):\n",
        "    assert np.abs(x[1]-y[1]) < 0.01\n",
        "  print(\"Passed\")\n",
        "\n",
        "predictions = get_gpt_probs(\"The florist sent the flowers was pleased.\")\n",
        "gold = [('The', 2.4790916442871094), ('Ġflorist', 13.309800148010254), ('Ġsent', 8.14240837097168), ('Ġthe', 2.3661890029907227), ('Ġflowers', 1.4056150913238525), ('Ġwas', 9.130632400512695), ('Ġpleased.', 9.912347793579102)]\n",
        "compare_probs(predictions, gold)\n",
        "\n",
        "predictions = get_gpt_probs(\"I like LSTMs\")\n",
        "gold = [('I', 4.226133823394775), ('Ġlike', 5.041623115539551), ('ĠLSTMs', 17.857036590576172)]\n",
        "compare_probs(predictions, gold)"
      ]
    },
    {
      "cell_type": "code",
      "execution_count": 39,
      "metadata": {},
      "outputs": [],
      "source": [
        "def var_surprise(probs):\n",
        "    prob_list = []\n",
        "    \n",
        "    for i in range(len(probs)):\n",
        "        mu = 0\n",
        "        y = i+1\n",
        "        for j in range(i+1):\n",
        "            mu += probs[j]\n",
        "        mu = mu/y\n",
        "        sum = 0\n",
        "        for j in range(i+1):\n",
        "            sum += (probs[j] - mu)**2\n",
        "        sum  = sum/y\n",
        "        prob_list.append(sum)\n",
        "    return prob_list\n",
        "\n",
        "def local_surprise(probs):\n",
        "    prob_list = []\n",
        "    last_prob = 0\n",
        "    last_total = 0\n",
        "    for i in range(len(probs)):\n",
        "        y = i+1\n",
        "        last_total = (probs[i] - last_prob)**2 + last_total\n",
        "        last_prob = probs[i]\n",
        "        prob_list.append(last_total/y)\n",
        "    return prob_list\n"
      ]
    },
    {
      "cell_type": "markdown",
      "metadata": {
        "id": "bbej6x_TtA8p"
      },
      "source": [
        "We wrote some plotting code so you can visualize these probabilities for individual sentences. Note that this code might break on unusually long sentences, but we've provided a couple of examples below:"
      ]
    },
    {
      "cell_type": "code",
      "execution_count": 40,
      "metadata": {
        "colab": {
          "base_uri": "https://localhost:8080/",
          "height": 484
        },
        "id": "QL7bX5T8i7j8",
        "outputId": "4b417e1f-1767-4235-bd43-06aff6a18005"
      },
      "outputs": [
        {
          "name": "stdout",
          "output_type": "stream",
          "text": [
            "[0.0, 29.326049891676664, 19.564363519975075, 20.576207981939294, 20.73553285646965, 19.069637884894227, 18.088890775746115]\n",
            "[ 0.          0.         29.32604989 19.56436352 20.57620798 20.73553286\n",
            " 19.06963788 18.08889078]\n"
          ]
        },
        {
          "data": {
            "image/png": "[encoded data removed]",
            "text/plain": [
              "<Figure size 432x288 with 1 Axes>"
            ]
          },
          "metadata": {
            "needs_background": "light"
          },
          "output_type": "display_data"
        },
        {
          "name": "stdout",
          "output_type": "stream",
          "text": [
            "[0.0, 29.326049891676664, 19.564363519975075, 20.576207981939294, 20.73553285646965, 20.214424206099054, 17.363722761930696]\n",
            "[ 0.          0.         29.32604989 19.56436352 20.57620798 20.73553286\n",
            " 20.21442421 17.36372276]\n"
          ]
        },
        {
          "data": {
            "image/png": "[encoded data removed]",
            "text/plain": [
              "<Figure size 432x288 with 1 Axes>"
            ]
          },
          "metadata": {
            "needs_background": "light"
          },
          "output_type": "display_data"
        },
        {
          "name": "stdout",
          "output_type": "stream",
          "text": [
            "[0.0, 11.542124406515327, 19.250289286338116, 22.940240456294397]\n",
            "[ 0.          0.         11.54212441 19.25028929 22.94024046]\n"
          ]
        },
        {
          "data": {
            "image/png": "[encoded data removed]",
            "text/plain": [
              "<Figure size 432x288 with 1 Axes>"
            ]
          },
          "metadata": {
            "needs_background": "light"
          },
          "output_type": "display_data"
        },
        {
          "name": "stdout",
          "output_type": "stream",
          "text": [
            "[6.14589774502042, 61.72504865586354, 50.05066922569697, 45.87918222034857, 36.887885857804164, 40.6858894084317, 34.96091590087052]\n",
            "[ 6.14589775  6.14589775 61.72504866 50.05066923 45.87918222 36.88788586\n",
            " 40.68588941 34.9609159 ]\n"
          ]
        },
        {
          "data": {
            "image/png": "[encoded data removed]",
            "text/plain": [
              "<Figure size 432x288 with 1 Axes>"
            ]
          },
          "metadata": {
            "needs_background": "light"
          },
          "output_type": "display_data"
        },
        {
          "name": "stdout",
          "output_type": "stream",
          "text": [
            "[6.14589774502042, 61.72504865586354, 50.05066922569697, 45.87918222034857, 36.887885857804164, 30.775448782284002, 29.12073199350912]\n",
            "[ 6.14589775  6.14589775 61.72504866 50.05066923 45.87918222 36.88788586\n",
            " 30.77544878 29.12073199]\n"
          ]
        },
        {
          "data": {
            "image/png": "[encoded data removed]",
            "text/plain": [
              "<Figure size 432x288 with 1 Axes>"
            ]
          },
          "metadata": {
            "needs_background": "light"
          },
          "output_type": "display_data"
        },
        {
          "name": "stdout",
          "output_type": "stream",
          "text": [
            "[6.1458918344056315, 26.15719473023347, 22.286301993540178, 17.642677499351436]\n",
            "[ 6.14589183  6.14589183 26.15719473 22.28630199 17.6426775 ]\n"
          ]
        },
        {
          "data": {
            "image/png": "[encoded data removed]",
            "text/plain": [
              "<Figure size 432x288 with 1 Axes>"
            ]
          },
          "metadata": {
            "needs_background": "light"
          },
          "output_type": "display_data"
        }
      ],
      "source": [
        "def plot_UID(sentence, surprise):\n",
        "  words = sentence.split()\n",
        "  probs = get_gpt_probs(sentence)\n",
        "  assert len(words) == len(probs)\n",
        "  probs = surprise([prob[1] for prob in probs])\n",
        "  print(probs)\n",
        "  probs = np.asarray([probs[0]] + probs)\n",
        "  \n",
        "  print(probs)\n",
        "  #print(probs)\n",
        "  x = np.arange(len(probs))\n",
        "  plt.step(x, probs, where=\"pre\", color=\"black\", linestyle=\"dashed\")\n",
        "  text_x = (x[1:] + x[:-1])/2\n",
        "  text_y = probs[1:] + 0.25\n",
        "  #print(text_y)\n",
        "  for idx in range(len(words)):\n",
        "      plt.text(text_x[idx], text_y[idx], words[idx], ha=\"center\")\n",
        "  plt.ylim([min(probs)-1, max(probs)+1])\n",
        "  plt.xticks()\n",
        "  plt.ylabel(\"Log Likelihood (GPT-2)\")\n",
        "  plt.tick_params(\n",
        "      axis='x', \n",
        "      which='both', \n",
        "      bottom=False, \n",
        "      top=False,\n",
        "      labelbottom=False)\n",
        "  plt.show()\n",
        "\n",
        "plot_UID(\"The florist sent the flowers was pleased.\", var_surprise)\n",
        "plot_UID(\"The florist sent the flowers to me.\", var_surprise)\n",
        "plot_UID(\"The television ate java\", var_surprise)\n",
        "plot_UID(\"The florist sent the flowers was pleased.\", local_surprise)\n",
        "plot_UID(\"The florist sent the flowers to me.\", local_surprise)\n",
        "plot_UID(\"The television ate java\", local_surprise)\n"
      ]
    },
    {
      "cell_type": "code",
      "execution_count": 19,
      "metadata": {},
      "outputs": [
        {
          "data": {
            "image/png": "[encoded data removed]",
            "text/plain": [
              "<Figure size 432x288 with 1 Axes>"
            ]
          },
          "metadata": {
            "needs_background": "light"
          },
          "output_type": "display_data"
        },
        {
          "data": {
            "image/png": "[encoded data removed]",
            "text/plain": [
              "<Figure size 432x288 with 1 Axes>"
            ]
          },
          "metadata": {
            "needs_background": "light"
          },
          "output_type": "display_data"
        },
        {
          "data": {
            "image/png": "[encoded data removed]",
            "text/plain": [
              "<Figure size 432x288 with 1 Axes>"
            ]
          },
          "metadata": {
            "needs_background": "light"
          },
          "output_type": "display_data"
        }
      ],
      "source": [
        "def plot_gpt_probs(sentence):\n",
        "  words = sentence.split()\n",
        "  probs = get_gpt_probs(sentence)\n",
        "  assert len(words) == len(probs)\n",
        "  probs = np.asarray([probs[0][1]] + [prob[1] for prob in probs])\n",
        "  x = np.arange(len(probs))\n",
        "  plt.step(x, probs, where=\"pre\", color=\"black\", linestyle=\"dashed\")\n",
        "  text_x = (x[1:] + x[:-1])/2\n",
        "  text_y = probs[1:] + 0.25\n",
        "  for idx in range(len(words)):\n",
        "      plt.text(text_x[idx], text_y[idx], words[idx], ha=\"center\")\n",
        "  plt.ylim([min(probs)-1, max(probs)+1])\n",
        "  plt.xticks()\n",
        "  plt.ylabel(\"Log Likelihood (GPT-2)\")\n",
        "  plt.tick_params(\n",
        "      axis='x', \n",
        "      which='both', \n",
        "      bottom=False, \n",
        "      top=False,\n",
        "      labelbottom=False)\n",
        "  plt.show()\n",
        "\n",
        "plot_gpt_probs(\"The florist sent the flowers was pleased.\")\n",
        "plot_gpt_probs(\"The florist sent the flowers to me.\")\n",
        "plot_gpt_probs(\"The television ate java\")"
      ]
    },
    {
      "cell_type": "markdown",
      "metadata": {
        "id": "sKwBKt3VtSCy"
      },
      "source": [
        "The first sentence above is an example of a [garden-path sentence](https://en.wikipedia.org/wiki/Garden-path_sentence). Even though it's a fairly common word, \"was\" is assigned low probability because it's unlikely in the context; other words like \"florist\" and \"pleased\" are also low probability, but they're rarer across all contexts they appear in (i.e., lower unigram probability). The second sentence shows a non-garden-path continuation with much higher probability.\n",
        "\n",
        "One downside of transformer language models is that they have a fixed length, so [computing perplexity can be expensive](https://huggingface.co/transformers/v3.2.0/perplexity.html). Although using a sliding window is the most principled way to compute perplexity with GPT-2, [striding can also provide good results with faster inference](https://arxiv.org/pdf/2012.15832.pdf). Next, we'll modify our existing function to handle longer sequences. Our model has an effective context length of 1024 tokens, and we'll use a stride of 512. This means that every token will be predicted with at least 512 tokens in the context."
      ]
    },
    {
      "cell_type": "code",
      "execution_count": 16,
      "metadata": {
        "colab": {
          "base_uri": "https://localhost:8080/"
        },
        "id": "ZKeL7Jtoi9VX",
        "outputId": "5e7ac027-e914-40ac-eed4-3d82940b49e5"
      },
      "outputs": [
        {
          "name": "stdout",
          "output_type": "stream",
          "text": [
            "Context length: 1024\n"
          ]
        }
      ],
      "source": [
        "stride = 512\n",
        "print(\"Context length: {}\".format(model.config.n_positions))\n",
        "import math"
      ]
    },
    {
      "cell_type": "code",
      "execution_count": 37,
      "metadata": {
        "colab": {
          "base_uri": "https://localhost:8080/"
        },
        "id": "11WXBplYYB67",
        "outputId": "9cfeed57-bd41-412f-8dbf-ce2998e06c49"
      },
      "outputs": [
        {
          "data": {
            "text/plain": [
              "tensor([[50256, 11352,  3681]])"
            ]
          },
          "execution_count": 37,
          "metadata": {},
          "output_type": "execute_result"
        }
      ],
      "source": [
        "tokenizer(\"<|endoftext|>\" + \" Sentiment\", return_tensors='pt')[\"input_ids\"]"
      ]
    },
    {
      "cell_type": "code",
      "execution_count": 38,
      "metadata": {},
      "outputs": [
        {
          "data": {
            "text/plain": [
              "tensor([[11352,  3681]])"
            ]
          },
          "execution_count": 38,
          "metadata": {},
          "output_type": "execute_result"
        }
      ],
      "source": []
    },
    {
      "cell_type": "code",
      "execution_count": 43,
      "metadata": {
        "id": "WsZDbz-6yqJE"
      },
      "outputs": [],
      "source": [
        "def get_gpt_probs(document, stride=512):\n",
        "    # YOUR CODE HERE\n",
        "    document = \" \".join(document.split())\n",
        "    document = \"<|endoftext|>\" + document\n",
        "    encodings = tokenizer(document, return_tensors='pt')\n",
        "    encod_ids = encodings[\"input_ids\"][0]\n",
        "    \n",
        "    #print(encodings)\n",
        "    words = [\"\"]\n",
        "    probs = [0]\n",
        "\n",
        "    # BEGIN SOLUTION\n",
        "\n",
        "    doc_len = len(encodings[\"input_ids\"][0])\n",
        "    encode_len = 2*stride\n",
        "    stride = stride\n",
        "    num_sentence = math.ceil((doc_len - encode_len)/stride) + 1\n",
        "  \n",
        "    sentences = []\n",
        "    with torch.no_grad():\n",
        "      for i in tqdm.tqdm_notebook(range(num_sentence)):\n",
        "                \n",
        "          start_idx = i*stride\n",
        "          end_idx = min(start_idx + encode_len, doc_len - 1)\n",
        "          idx = encod_ids[start_idx: end_idx].cuda()\n",
        "          input_id = idx[:-1]\n",
        "          if i == 0:\n",
        "              output_id = idx[1:]\n",
        "          else:\n",
        "              output_id = idx[min(stride, len(idx)):]\n",
        "          logits = model(input_id).logits\n",
        "          idx.detach().cpu()          \n",
        "          after_softmax = torch.softmax(logits, 1)          \n",
        "          gathered_logits = -torch.log(torch.gather(after_softmax, 1, output_id.unsqueeze(1)))          \n",
        "          subword = [vocab_map[int(idx)] for idx in output_id]          \n",
        "          for i in range(len(subword)):\n",
        "            prob = gathered_logits[i].item()\n",
        "            # if subword[i][0] == \"Ġ\" and len(subword[i]) == 1:\n",
        "            #     continue\n",
        "            if subword[i][0] == \"Ġ\":\n",
        "                probs.append(prob)\n",
        "                words.append(subword[i])\n",
        "            else:\n",
        "                probs[-1] += prob\n",
        "                words[-1] += subword[i]      \n",
        "    # END SOlUTION\n",
        "    result = [(word, prob) for word, prob in zip(words, probs)]\n",
        "    #print(result)\n",
        "    return result"
      ]
    },
    {
      "cell_type": "markdown",
      "metadata": {
        "id": "i4SHhy4N5ZfT"
      },
      "source": [
        "We'll now compute the probabilities of every word in *Pride and Prejudice* using GPT-2. Note that this will take a very long time to run with a small stride, so you're encouraged to get the implementation of striding correct. You'll submit the output probabilities as `word_probs.npy`."
      ]
    },
    {
      "cell_type": "code",
      "execution_count": 44,
      "metadata": {
        "colab": {
          "base_uri": "https://localhost:8080/"
        },
        "id": "HXbHUzV50Ihn",
        "outputId": "8761836c-9635-4441-fef1-65d664512bfb"
      },
      "outputs": [
        {
          "name": "stderr",
          "output_type": "stream",
          "text": [
            "'wget' is not recognized as an internal or external command,\n",
            "operable program or batch file.\n",
            "c:\\Users\\yangh\\Anaconda3\\envs\\gluon\\lib\\site-packages\\ipykernel_launcher.py:21: TqdmDeprecationWarning: This function will be removed in tqdm==5.0.0\n",
            "Please use `tqdm.notebook.tqdm` instead of `tqdm.tqdm_notebook`\n"
          ]
        },
        {
          "data": {
            "application/vnd.jupyter.widget-view+json": {
              "model_id": "341ace5cd1d94d62ac817c4465598bc6",
              "version_major": 2,
              "version_minor": 0
            },
            "text/plain": [
              "  0%|          | 0/316 [00:00<?, ?it/s]"
            ]
          },
          "metadata": {},
          "output_type": "display_data"
        }
      ],
      "source": [
        "!wget https://cal-cs288.github.io/sp22/project_files/hw1/pride.txt\n",
        "with open(\"pride.txt\", \"r\", encoding=\"utf-8\") as infile:\n",
        "  text = infile.read()\n",
        "output = get_gpt_probs(text, stride=512)\n",
        "probs = np.asarray([val[1] for val in output])\n",
        "\n",
        "np.save(\"word_probs.npy\", probs)"
      ]
    },
    {
      "cell_type": "code",
      "execution_count": 45,
      "metadata": {
        "colab": {
          "base_uri": "https://localhost:8080/"
        },
        "id": "t8JrBbUblIXx",
        "outputId": "d992a24d-72b2-4d2e-de64-f98dc337c46d"
      },
      "outputs": [
        {
          "name": "stdout",
          "output_type": "stream",
          "text": [
            "124467 773036\n",
            "124467\n",
            "['Ġhow' 'Ġto' 'Ġhelp' 'Ġproduce' 'Ġour' 'Ġnew' 'ĠeBooks,' 'Ġand' 'Ġhow'\n",
            " 'Ġto' 'Ġsubscribe' 'Ġto' 'Ġour' 'Ġemail' 'Ġnewsletter' 'Ġto' 'Ġhear'\n",
            " 'Ġabout' 'Ġnew' 'ĠeBooks']\n"
          ]
        }
      ],
      "source": [
        "print(len(probs), len(text))\n",
        "print(len(text.split()))\n",
        "word = np.asarray([val[0] for val in output])\n",
        "print(word[-20:])"
      ]
    },
    {
      "cell_type": "markdown",
      "metadata": {
        "id": "8VibM4aB54IK"
      },
      "source": [
        "### Prompting with Language Models\n",
        "\n",
        "Language models can be coerced into performing a variety of different tasks via *prompting*, as shown in the [GPT-3 paper](https://arxiv.org/abs/2005.14165). At a high level, prompting involves putting a few training examples into the context of a model and then using next word prediction to predict labels. In this assignment, we'll use prompting and the GPT-2 Large model on the sentiment task SST-2. But first, we'll download the dataset:"
      ]
    },
    {
      "cell_type": "code",
      "execution_count": 10,
      "metadata": {
        "colab": {
          "base_uri": "https://localhost:8080/",
          "height": 1000,
          "referenced_widgets": [
            "18cb17668b3943d2b9ed89ea17607bc8",
            "b34580cc291d467da26b8f20717475ed",
            "400cf8619ea44b98b6664c073c4b0bb1",
            "53d0f3a399444f76aad99ee1c0251e6a",
            "e28a49b391bd4c5bb121b55f0007734f",
            "ac863ec377ef44599ce0c1fc1118bb0d",
            "b6d21c11d4de461393dc9fc44dcac13b",
            "30de2fa5a1d944b09bcfe7bb9680c8e6",
            "43aad76e2da54f90838da37ef0848c1c",
            "60ce24be79264fcd89dd47059e33e174",
            "6e5e8d9555d84e55844b23b3d52b976f",
            "952e72f9a90a4e8d9c9c82075640e3b2",
            "4f8f37d1d1664efb89f56dc329e7230e",
            "b86b1d18e5984e809ab62f27b8025034",
            "e6dec7ff4e1846d19e14a47bf9a61575",
            "e3fa1caa1a7940f0a883f43af7ffe434",
            "2dfcad90e7aa45fd815b59c4d9eb4ced",
            "f91aca6ef7324689907d15e5480be978",
            "d4892c34887f431783c5af1e8e9af59d",
            "6fbb2d896beb4a6ebaeffdc5b22d5f7e",
            "7925891d60c1461d87eee7031f2825ab",
            "5761d8d3d44540b2b172357b462bd051",
            "f9fc4f55b6c4484498c1aef56fee1bb3",
            "64cb66b6bb134b888a91d9bfa769e820",
            "6b13de94ac774603bc7510f49aefa623",
            "69f136c9b8fe41749b7874a43ac52ea1",
            "00a3adfccc124a0f978651552c4def09",
            "13da86512a0b43abbdcf52c29268b617",
            "2eca9220b0604c6ab19bfd29cad2f8af",
            "af7a632c91c84f5cad2a1107273b2757",
            "b2e2c875e7b642b289d2d0c9cb57beb6",
            "e4bf5d61c0824426b67c8b853291db7d",
            "105945ba82134afcadd4f6c741808c65",
            "ed25109b7ac74b1285324d1cfd1b9d7d",
            "e4ff41ea7e124074bb7d35741c1989bc",
            "c53da199e1c745be97b0d9c166a7847c",
            "bc13600a16c443e5be009b87daaed472",
            "c3c51ce1dd1c4eaba3dedaac95b8c8ba",
            "974df3880b9941c99e99de4608abe979",
            "5a01a3917acf49d58179de0f1ec2e3e3",
            "13270aa1c8884df2a9e0182913f52a07",
            "b3e48a1f7feb47be9b253518c72bc241",
            "579c275e7a0446d49b3909050844b74e",
            "61ee98ff2e7348c5b8d97969fb73096e",
            "7707b0a126564fef8ea4cedec0143d1d",
            "6b010c36b84542a6a7334fd3953061a5",
            "c09eb6b1889e4b20992cfab1bf4f4ba7",
            "122b0816dced47559c9f98c69970c96e",
            "59dc594c58614aabadde12f7592a2a11",
            "2b30f1d47c5a4d49a44bbf2bc4958a08",
            "fb61f8ebeef443c8b1cedc5105b2b603",
            "87d2d7134e734eb68d127830994b1684",
            "278ac310839847a093259f400e174b47",
            "6ce397d4dec7458eb1c5a3fc0c698911",
            "dff0a3c3b7ef4829a3bacf977fc9af7f",
            "26e2f7a23782484b840551451b1978a1",
            "b157143478c246cfaddbd839e8b5f158",
            "dcad3edd3297417b98d2e38087d4fdb4",
            "e5617239daa54ef6829195429b33ec0f",
            "9f5b892ea34f4c1d97d446c76b0862eb",
            "54370fa03aa54929bc8388bb00379af5",
            "e313642072a94e21b4b195f2e573c96b",
            "e1e05febc1564211b431b22b5bc8531a",
            "163ac988601343b1b5bc1cc8f1413ec3",
            "2a5f6c85d0d44dc9a3446fe0c864a398",
            "23e0d55c7d744e5295fa1881346ea7ec",
            "2eeccd0b2ace45d5b041e3e18456f69e",
            "3d72e95a355546dcba4ee3a15efd9280",
            "44a8877858c64f958147305773ddcf32",
            "73fca12a2e294868848ab66224fd7bb9",
            "f2848975fec54f839c20a993d384216a",
            "8f1746accd4145e29b12a85549647249",
            "68553ed9754e45769192d1280b73f816",
            "981e5ae807274933b0499b779981a62d",
            "79b4f401fae844f7856cc39ca847b89a",
            "2bc364ad29024b9fa63355db7c4622f7",
            "cebf8a63be1141dbbf9635158dfd81ba"
          ]
        },
        "id": "lc80b6BX1iR0",
        "outputId": "337dd3e2-9bfa-4e67-b37d-3e1e9c83677b"
      },
      "outputs": [
        {
          "name": "stdout",
          "output_type": "stream",
          "text": [
            "Requirement already satisfied: datasets in c:\\users\\yangh\\anaconda3\\envs\\gluon\\lib\\site-packages (1.18.2)\n",
            "Requirement already satisfied: fsspec[http]>=2021.05.0 in c:\\users\\yangh\\anaconda3\\envs\\gluon\\lib\\site-packages (from datasets) (2022.1.0)\n",
            "Requirement already satisfied: packaging in c:\\users\\yangh\\anaconda3\\envs\\gluon\\lib\\site-packages (from datasets) (21.0)\n",
            "Requirement already satisfied: huggingface-hub<1.0.0,>=0.1.0 in c:\\users\\yangh\\anaconda3\\envs\\gluon\\lib\\site-packages (from datasets) (0.4.0)\n",
            "Requirement already satisfied: multiprocess in c:\\users\\yangh\\anaconda3\\envs\\gluon\\lib\\site-packages (from datasets) (0.70.12.2)\n",
            "Requirement already satisfied: dataclasses in c:\\users\\yangh\\anaconda3\\envs\\gluon\\lib\\site-packages (from datasets) (0.8)\n",
            "Requirement already satisfied: importlib-metadata in c:\\users\\yangh\\anaconda3\\envs\\gluon\\lib\\site-packages (from datasets) (4.6.4)\n",
            "Requirement already satisfied: tqdm>=4.62.1 in c:\\users\\yangh\\anaconda3\\envs\\gluon\\lib\\site-packages (from datasets) (4.62.3)\n",
            "Requirement already satisfied: dill in c:\\users\\yangh\\anaconda3\\envs\\gluon\\lib\\site-packages (from datasets) (0.3.4)\n",
            "Requirement already satisfied: pyarrow!=4.0.0,>=3.0.0 in c:\\users\\yangh\\anaconda3\\envs\\gluon\\lib\\site-packages (from datasets) (6.0.1)\n",
            "Requirement already satisfied: pandas in c:\\users\\yangh\\anaconda3\\envs\\gluon\\lib\\site-packages (from datasets) (0.23.4)\n",
            "Requirement already satisfied: requests>=2.19.0 in c:\\users\\yangh\\anaconda3\\envs\\gluon\\lib\\site-packages (from datasets) (2.27.1)\n",
            "Requirement already satisfied: numpy>=1.17 in c:\\users\\yangh\\anaconda3\\envs\\gluon\\lib\\site-packages (from datasets) (1.19.5)\n",
            "Requirement already satisfied: xxhash in c:\\users\\yangh\\anaconda3\\envs\\gluon\\lib\\site-packages (from datasets) (2.0.2)\n",
            "Requirement already satisfied: aiohttp in c:\\users\\yangh\\anaconda3\\envs\\gluon\\lib\\site-packages (from datasets) (3.8.1)\n",
            "Requirement already satisfied: typing-extensions>=3.7.4.3 in c:\\users\\yangh\\anaconda3\\envs\\gluon\\lib\\site-packages (from huggingface-hub<1.0.0,>=0.1.0->datasets) (3.10.0.0)\n",
            "Requirement already satisfied: filelock in c:\\users\\yangh\\anaconda3\\envs\\gluon\\lib\\site-packages (from huggingface-hub<1.0.0,>=0.1.0->datasets) (3.4.1)\n",
            "Requirement already satisfied: pyyaml in c:\\users\\yangh\\anaconda3\\envs\\gluon\\lib\\site-packages (from huggingface-hub<1.0.0,>=0.1.0->datasets) (6.0)\n",
            "Requirement already satisfied: pyparsing>=2.0.2 in c:\\users\\yangh\\anaconda3\\envs\\gluon\\lib\\site-packages (from packaging->datasets) (2.4.7)\n",
            "Requirement already satisfied: urllib3<1.27,>=1.21.1 in c:\\users\\yangh\\anaconda3\\envs\\gluon\\lib\\site-packages (from requests>=2.19.0->datasets) (1.22)\n",
            "Requirement already satisfied: certifi>=2017.4.17 in c:\\users\\yangh\\anaconda3\\envs\\gluon\\lib\\site-packages (from requests>=2.19.0->datasets) (2021.5.30)\n",
            "Requirement already satisfied: idna<4,>=2.5 in c:\\users\\yangh\\anaconda3\\envs\\gluon\\lib\\site-packages (from requests>=2.19.0->datasets) (2.6)\n",
            "Requirement already satisfied: charset-normalizer~=2.0.0 in c:\\users\\yangh\\anaconda3\\envs\\gluon\\lib\\site-packages (from requests>=2.19.0->datasets) (2.0.10)\n",
            "Requirement already satisfied: colorama in c:\\users\\yangh\\anaconda3\\envs\\gluon\\lib\\site-packages (from tqdm>=4.62.1->datasets) (0.4.4)\n",
            "Requirement already satisfied: idna-ssl>=1.0 in c:\\users\\yangh\\anaconda3\\envs\\gluon\\lib\\site-packages (from aiohttp->datasets) (1.1.0)\n",
            "Requirement already satisfied: async-timeout<5.0,>=4.0.0a3 in c:\\users\\yangh\\anaconda3\\envs\\gluon\\lib\\site-packages (from aiohttp->datasets) (4.0.2)\n",
            "Requirement already satisfied: asynctest==0.13.0 in c:\\users\\yangh\\anaconda3\\envs\\gluon\\lib\\site-packages (from aiohttp->datasets) (0.13.0)\n",
            "Requirement already satisfied: aiosignal>=1.1.2 in c:\\users\\yangh\\anaconda3\\envs\\gluon\\lib\\site-packages (from aiohttp->datasets) (1.2.0)\n",
            "Requirement already satisfied: multidict<7.0,>=4.5 in c:\\users\\yangh\\anaconda3\\envs\\gluon\\lib\\site-packages (from aiohttp->datasets) (5.2.0)\n",
            "Requirement already satisfied: frozenlist>=1.1.1 in c:\\users\\yangh\\anaconda3\\envs\\gluon\\lib\\site-packages (from aiohttp->datasets) (1.2.0)\n",
            "Requirement already satisfied: attrs>=17.3.0 in c:\\users\\yangh\\anaconda3\\envs\\gluon\\lib\\site-packages (from aiohttp->datasets) (21.2.0)\n",
            "Requirement already satisfied: yarl<2.0,>=1.0 in c:\\users\\yangh\\anaconda3\\envs\\gluon\\lib\\site-packages (from aiohttp->datasets) (1.7.2)\n",
            "Requirement already satisfied: zipp>=0.5 in c:\\users\\yangh\\anaconda3\\envs\\gluon\\lib\\site-packages (from importlib-metadata->datasets) (3.5.0)\n",
            "Requirement already satisfied: python-dateutil>=2.5.0 in c:\\users\\yangh\\anaconda3\\envs\\gluon\\lib\\site-packages (from pandas->datasets) (2.8.2)\n",
            "Requirement already satisfied: pytz>=2011k in c:\\users\\yangh\\anaconda3\\envs\\gluon\\lib\\site-packages (from pandas->datasets) (2021.1)\n",
            "Requirement already satisfied: six>=1.5 in c:\\users\\yangh\\anaconda3\\envs\\gluon\\lib\\site-packages (from python-dateutil>=2.5.0->pandas->datasets) (1.16.0)\n"
          ]
        },
        {
          "name": "stderr",
          "output_type": "stream",
          "text": [
            "Reusing dataset glue (C:\\Users\\yangh\\.cache\\huggingface\\datasets\\glue\\sst2\\1.0.0\\dacbe3125aa31d7f70367a07a8a9e72a5a0bfeb5fc42e75c9db75b96da6053ad)\n",
            "100%|██████████| 3/3 [00:00<00:00, 142.86it/s]\n"
          ]
        }
      ],
      "source": [
        "!pip install datasets\n",
        "from datasets import load_dataset\n",
        "dataset = load_dataset(\"glue\", \"sst2\")"
      ]
    },
    {
      "cell_type": "markdown",
      "metadata": {
        "id": "DtmhDp_PT8EC"
      },
      "source": [
        "Now, it's time to write a prompt for sentiment prediction. Here's an example what a prompt might look like for the task of machine translation:\n",
        "\n",
        "\n",
        "```\n",
        "The French \"Le Tea Party est atterré.\" in English is \"The tea party is aghast\"\n",
        "The French \"Cela est vraiment indispensable pour notre nation.\" in English is \"This really is a must for our nation.\"\n",
        "The French \"Il va y avoir du changement dans la façon dont nous payons ces taxes.\" in English is \"There is going to be a change in how we pay these taxes.\"\n",
        "The French \"La technologie est là pour le faire.\" in English is\n",
        "```\n",
        "The model would then predict the next tokens, hopefully resulting in an English translation of the final sentence. Note that these examples are all taken from the `wmt14` translation dataset. In our case, however, we'll be predicting sentiment, which is represented by a binary value in the Stanford Sentiment Treebank. To convert next-word predictions into a binary decision, we'll compute the probability of two words (e.g., \"yes\" vs. \"no\") and then choose our label based on whichever one has the highest probability. "
      ]
    },
    {
      "cell_type": "code",
      "execution_count": 28,
      "metadata": {
        "colab": {
          "base_uri": "https://localhost:8080/"
        },
        "id": "byloT-Sz8mQF",
        "outputId": "7d118775-4267-4604-9480-3d6c418f950e"
      },
      "outputs": [
        {
          "name": "stderr",
          "output_type": "stream",
          "text": [
            "100%|██████████| 1000/1000 [01:35<00:00, 10.43it/s]\n"
          ]
        }
      ],
      "source": [
        "from six import ensure_str\n",
        "def predict_sentiment(sentence):\n",
        "  # YOUR CODE HERE\n",
        "  # - Write a prompt using 3-5 example sentences\n",
        "  # - Append the current example to the prompt, with a template\n",
        "  # - Compare probabilities of possible next tokens to get a predicted label\n",
        "  # - Warning: DO NOT TRAIN OR FINE-TUNE A MODEL FOR THIS ASSIGNMENT\n",
        "  # BEGIN SOLUTION\n",
        "  Prompts = \"\"\"Input: The film is awful tawdry crummy trashy trash shit. Output: no.\n",
        "  Input: The movie is terrible cheap sleazy trashy trash shit. Output: no. \n",
        "  Input: Beautiful, awesome, and amazing film.  Output: yes. \n",
        "  Input: The movie is terrific fantastic. Output: yes. \n",
        "  Input: I love this incredible marvelous wonderful movie. Output: yes. \n",
        "  \"\"\"\n",
        "  sentence = \"Input: \" + sentence + \" Output: \"\n",
        "  input_sent = Prompts + sentence\n",
        "  #print(input_sent)\n",
        "  encodings = tokenizer(input_sent, return_tensors='pt')\n",
        "  idx = encodings[\"input_ids\"][0].cuda()\n",
        "  #print(idx, encodings)\n",
        "  input_id = idx\n",
        "  logits = model(input_id).logits[-1]\n",
        "\n",
        "  #print(logits)\n",
        "  after_softmax = torch.softmax(logits, -1)\n",
        "  #print(max(after_softmax[0]))\n",
        "  #print(after_softmax.size())\n",
        "  gathered_logits = -torch.log(after_softmax)\n",
        "  yes, no = gathered_logits[8505], gathered_logits[3919]\n",
        "  if yes < no :\n",
        "    return 1\n",
        "  else:\n",
        "    return 0\n",
        "  # END SOLUTION\n",
        "\n",
        "num_correct = 0\n",
        "for idx in tqdm.tqdm(range(1000)):\n",
        "  example = dataset[\"train\"][idx]\n",
        "  #print(example)\n",
        "  predicted_label = predict_sentiment(example[\"sentence\"])\n",
        "  if predicted_label == example[\"label\"]:\n",
        "    num_correct += 1\n",
        "\n"
      ]
    },
    {
      "cell_type": "code",
      "execution_count": 29,
      "metadata": {
        "id": "50ttqMTNeYDK"
      },
      "outputs": [
        {
          "name": "stdout",
          "output_type": "stream",
          "text": [
            "0.5578256544269403\n"
          ]
        }
      ],
      "source": [
        "vocab_map[3919]\n",
        "print(sum(dataset[\"train\"]['label'])/ len(dataset[\"train\"]['label']))"
      ]
    },
    {
      "cell_type": "code",
      "execution_count": 30,
      "metadata": {
        "colab": {
          "base_uri": "https://localhost:8080/"
        },
        "id": "K2aU7gJY9woM",
        "outputId": "ecf96f99-9a11-4889-f2c4-3391e3ad168c"
      },
      "outputs": [
        {
          "name": "stdout",
          "output_type": "stream",
          "text": [
            "Accuracy: 0.819\n"
          ]
        }
      ],
      "source": [
        "print(\"Accuracy: {}\".format(num_correct / 1000))"
      ]
    },
    {
      "cell_type": "markdown",
      "metadata": {
        "id": "iRSLyI4hWk9F"
      },
      "source": [
        "Our best performing model gets 85% accuracy on this task, and our template-only baseline (i.e., without any training examples in the context) gets 69%. We'll assign full credit to any solutions that score above 70%, but we encourage you to try to beat our scores! Please be aware that prompting can lead to high variance results, and checkout the following paper for additional tips and details: https://arxiv.org/pdf/2102.09690.pdf"
      ]
    },
    {
      "cell_type": "code",
      "execution_count": 14,
      "metadata": {
        "id": "ocRqxldcNY4k"
      },
      "outputs": [],
      "source": [
        "num_correct = 0\n",
        "predictions = []\n",
        "for example in dataset[\"validation\"]:\n",
        "  predicted_label = predict_sentiment(example[\"sentence\"])\n",
        "  predictions.append(predicted_label)\n",
        "np.save(\"sst_predictions.npy\", predictions)"
      ]
    },
    {
      "cell_type": "markdown",
      "metadata": {
        "id": "qTlwnboWigBF"
      },
      "source": [
        "Congratulations! You've now finished the programming components of HW1. "
      ]
    },
    {
      "cell_type": "markdown",
      "metadata": {
        "id": "tJsliV9WiRHB"
      },
      "source": [
        "### Gradescope\n",
        "\n",
        "To download this notebook, go to `File->Download .ipynb`.  Please rename the file to match the name in our file list.  You can download other outputs by clicking the > arrow near the top left and finding it under `Files`. When submitting your ipython notebooks, make sure everything runs correctly if the cells are executed in order starting from a fresh session.  Note that just because a cell runs in your current session doesn't mean it doesn't rely on code that you have already changed or deleted.  If the code doesn't take too long to run, we recommend re-running everything with `Runtime->Restart and run all...`."
      ]
    }
  ],
  "metadata": {
    "accelerator": "GPU",
    "colab": {
      "collapsed_sections": [],
      "name": "hw1c.ipynb",
      "provenance": []
    },
    "kernelspec": {
      "display_name": "Python 3",
      "name": "python3"
    },
    "language_info": {
      "codemirror_mode": {
        "name": "ipython",
        "version": 3
      },
      "file_extension": ".py",
      "mimetype": "text/x-python",
      "name": "python",
      "nbconvert_exporter": "python",
      "pygments_lexer": "ipython3",
      "version": "3.6.13"
    },
    "widgets": {
      "application/vnd.jupyter.widget-state+json": {
        "00a3adfccc124a0f978651552c4def09": {
          "model_module": "@jupyter-widgets/controls",
          "model_module_version": "1.5.0",
          "model_name": "HTMLModel",
          "state": {
            "_dom_classes": [],
            "_model_module": "@jupyter-widgets/controls",
            "_model_module_version": "1.5.0",
            "_model_name": "HTMLModel",
            "_view_count": null,
            "_view_module": "@jupyter-widgets/controls",
            "_view_module_version": "1.5.0",
            "_view_name": "HTMLView",
            "description": "",
            "description_tooltip": null,
            "layout": "IPY_MODEL_105945ba82134afcadd4f6c741808c65",
            "placeholder": "​",
            "style": "IPY_MODEL_e4bf5d61c0824426b67c8b853291db7d",
            "value": " 7.44M/7.44M [00:00&lt;00:00, 11.3MB/s]"
          }
        },
        "105945ba82134afcadd4f6c741808c65": {
          "model_module": "@jupyter-widgets/base",
          "model_module_version": "1.2.0",
          "model_name": "LayoutModel",
          "state": {
            "_model_module": "@jupyter-widgets/base",
            "_model_module_version": "1.2.0",
            "_model_name": "LayoutModel",
            "_view_count": null,
            "_view_module": "@jupyter-widgets/base",
            "_view_module_version": "1.2.0",
            "_view_name": "LayoutView",
            "align_content": null,
            "align_items": null,
            "align_self": null,
            "border": null,
            "bottom": null,
            "display": null,
            "flex": null,
            "flex_flow": null,
            "grid_area": null,
            "grid_auto_columns": null,
            "grid_auto_flow": null,
            "grid_auto_rows": null,
            "grid_column": null,
            "grid_gap": null,
            "grid_row": null,
            "grid_template_areas": null,
            "grid_template_columns": null,
            "grid_template_rows": null,
            "height": null,
            "justify_content": null,
            "justify_items": null,
            "left": null,
            "margin": null,
            "max_height": null,
            "max_width": null,
            "min_height": null,
            "min_width": null,
            "object_fit": null,
            "object_position": null,
            "order": null,
            "overflow": null,
            "overflow_x": null,
            "overflow_y": null,
            "padding": null,
            "right": null,
            "top": null,
            "visibility": null,
            "width": null
          }
        },
        "122b0816dced47559c9f98c69970c96e": {
          "model_module": "@jupyter-widgets/controls",
          "model_module_version": "1.5.0",
          "model_name": "FloatProgressModel",
          "state": {
            "_dom_classes": [],
            "_model_module": "@jupyter-widgets/controls",
            "_model_module_version": "1.5.0",
            "_model_name": "FloatProgressModel",
            "_view_count": null,
            "_view_module": "@jupyter-widgets/controls",
            "_view_module_version": "1.5.0",
            "_view_name": "ProgressView",
            "bar_style": "info",
            "description": "",
            "description_tooltip": null,
            "layout": "IPY_MODEL_278ac310839847a093259f400e174b47",
            "max": 1,
            "min": 0,
            "orientation": "horizontal",
            "style": "IPY_MODEL_87d2d7134e734eb68d127830994b1684",
            "value": 1
          }
        },
        "129e0693922f44d5a4d33a70beddd645": {
          "model_module": "@jupyter-widgets/base",
          "model_module_version": "1.2.0",
          "model_name": "LayoutModel",
          "state": {
            "_model_module": "@jupyter-widgets/base",
            "_model_module_version": "1.2.0",
            "_model_name": "LayoutModel",
            "_view_count": null,
            "_view_module": "@jupyter-widgets/base",
            "_view_module_version": "1.2.0",
            "_view_name": "LayoutView",
            "align_content": null,
            "align_items": null,
            "align_self": null,
            "border": null,
            "bottom": null,
            "display": null,
            "flex": null,
            "flex_flow": null,
            "grid_area": null,
            "grid_auto_columns": null,
            "grid_auto_flow": null,
            "grid_auto_rows": null,
            "grid_column": null,
            "grid_gap": null,
            "grid_row": null,
            "grid_template_areas": null,
            "grid_template_columns": null,
            "grid_template_rows": null,
            "height": null,
            "justify_content": null,
            "justify_items": null,
            "left": null,
            "margin": null,
            "max_height": null,
            "max_width": null,
            "min_height": null,
            "min_width": null,
            "object_fit": null,
            "object_position": null,
            "order": null,
            "overflow": null,
            "overflow_x": null,
            "overflow_y": null,
            "padding": null,
            "right": null,
            "top": null,
            "visibility": null,
            "width": null
          }
        },
        "13270aa1c8884df2a9e0182913f52a07": {
          "model_module": "@jupyter-widgets/controls",
          "model_module_version": "1.5.0",
          "model_name": "ProgressStyleModel",
          "state": {
            "_model_module": "@jupyter-widgets/controls",
            "_model_module_version": "1.5.0",
            "_model_name": "ProgressStyleModel",
            "_view_count": null,
            "_view_module": "@jupyter-widgets/base",
            "_view_module_version": "1.2.0",
            "_view_name": "StyleView",
            "bar_color": null,
            "description_width": ""
          }
        },
        "13da86512a0b43abbdcf52c29268b617": {
          "model_module": "@jupyter-widgets/controls",
          "model_module_version": "1.5.0",
          "model_name": "DescriptionStyleModel",
          "state": {
            "_model_module": "@jupyter-widgets/controls",
            "_model_module_version": "1.5.0",
            "_model_name": "DescriptionStyleModel",
            "_view_count": null,
            "_view_module": "@jupyter-widgets/base",
            "_view_module_version": "1.2.0",
            "_view_name": "StyleView",
            "description_width": ""
          }
        },
        "155d7a2172544f4997bf5b3aa9ec0e27": {
          "model_module": "@jupyter-widgets/controls",
          "model_module_version": "1.5.0",
          "model_name": "HTMLModel",
          "state": {
            "_dom_classes": [],
            "_model_module": "@jupyter-widgets/controls",
            "_model_module_version": "1.5.0",
            "_model_name": "HTMLModel",
            "_view_count": null,
            "_view_module": "@jupyter-widgets/controls",
            "_view_module_version": "1.5.0",
            "_view_name": "HTMLView",
            "description": "",
            "description_tooltip": null,
            "layout": "IPY_MODEL_42063942b72c45609f19621a9cfb7311",
            "placeholder": "​",
            "style": "IPY_MODEL_feaf5da34df645c09945e980bf99c95b",
            "value": "Downloading:  26%"
          }
        },
        "163ac988601343b1b5bc1cc8f1413ec3": {
          "model_module": "@jupyter-widgets/base",
          "model_module_version": "1.2.0",
          "model_name": "LayoutModel",
          "state": {
            "_model_module": "@jupyter-widgets/base",
            "_model_module_version": "1.2.0",
            "_model_name": "LayoutModel",
            "_view_count": null,
            "_view_module": "@jupyter-widgets/base",
            "_view_module_version": "1.2.0",
            "_view_name": "LayoutView",
            "align_content": null,
            "align_items": null,
            "align_self": null,
            "border": null,
            "bottom": null,
            "display": null,
            "flex": null,
            "flex_flow": null,
            "grid_area": null,
            "grid_auto_columns": null,
            "grid_auto_flow": null,
            "grid_auto_rows": null,
            "grid_column": null,
            "grid_gap": null,
            "grid_row": null,
            "grid_template_areas": null,
            "grid_template_columns": null,
            "grid_template_rows": null,
            "height": null,
            "justify_content": null,
            "justify_items": null,
            "left": null,
            "margin": null,
            "max_height": null,
            "max_width": null,
            "min_height": null,
            "min_width": null,
            "object_fit": null,
            "object_position": null,
            "order": null,
            "overflow": null,
            "overflow_x": null,
            "overflow_y": null,
            "padding": null,
            "right": null,
            "top": null,
            "visibility": null,
            "width": "20px"
          }
        },
        "18cb17668b3943d2b9ed89ea17607bc8": {
          "model_module": "@jupyter-widgets/controls",
          "model_module_version": "1.5.0",
          "model_name": "HBoxModel",
          "state": {
            "_dom_classes": [],
            "_model_module": "@jupyter-widgets/controls",
            "_model_module_version": "1.5.0",
            "_model_name": "HBoxModel",
            "_view_count": null,
            "_view_module": "@jupyter-widgets/controls",
            "_view_module_version": "1.5.0",
            "_view_name": "HBoxView",
            "box_style": "",
            "children": [
              "IPY_MODEL_400cf8619ea44b98b6664c073c4b0bb1",
              "IPY_MODEL_53d0f3a399444f76aad99ee1c0251e6a",
              "IPY_MODEL_e28a49b391bd4c5bb121b55f0007734f"
            ],
            "layout": "IPY_MODEL_b34580cc291d467da26b8f20717475ed"
          }
        },
        "212e98d61d754960922e8ce67dcc0dae": {
          "model_module": "@jupyter-widgets/controls",
          "model_module_version": "1.5.0",
          "model_name": "HBoxModel",
          "state": {
            "_dom_classes": [],
            "_model_module": "@jupyter-widgets/controls",
            "_model_module_version": "1.5.0",
            "_model_name": "HBoxModel",
            "_view_count": null,
            "_view_module": "@jupyter-widgets/controls",
            "_view_module_version": "1.5.0",
            "_view_name": "HBoxView",
            "box_style": "",
            "children": [
              "IPY_MODEL_155d7a2172544f4997bf5b3aa9ec0e27",
              "IPY_MODEL_4a9ee1c5730944069066cdecb4c391b0",
              "IPY_MODEL_d1ea192839124df5b2997fcc7396dbd5"
            ],
            "layout": "IPY_MODEL_a94c189a722a4e5e875c73a1a804c67a"
          }
        },
        "23e0d55c7d744e5295fa1881346ea7ec": {
          "model_module": "@jupyter-widgets/base",
          "model_module_version": "1.2.0",
          "model_name": "LayoutModel",
          "state": {
            "_model_module": "@jupyter-widgets/base",
            "_model_module_version": "1.2.0",
            "_model_name": "LayoutModel",
            "_view_count": null,
            "_view_module": "@jupyter-widgets/base",
            "_view_module_version": "1.2.0",
            "_view_name": "LayoutView",
            "align_content": null,
            "align_items": null,
            "align_self": null,
            "border": null,
            "bottom": null,
            "display": null,
            "flex": null,
            "flex_flow": null,
            "grid_area": null,
            "grid_auto_columns": null,
            "grid_auto_flow": null,
            "grid_auto_rows": null,
            "grid_column": null,
            "grid_gap": null,
            "grid_row": null,
            "grid_template_areas": null,
            "grid_template_columns": null,
            "grid_template_rows": null,
            "height": null,
            "justify_content": null,
            "justify_items": null,
            "left": null,
            "margin": null,
            "max_height": null,
            "max_width": null,
            "min_height": null,
            "min_width": null,
            "object_fit": null,
            "object_position": null,
            "order": null,
            "overflow": null,
            "overflow_x": null,
            "overflow_y": null,
            "padding": null,
            "right": null,
            "top": null,
            "visibility": null,
            "width": null
          }
        },
        "26e2f7a23782484b840551451b1978a1": {
          "model_module": "@jupyter-widgets/controls",
          "model_module_version": "1.5.0",
          "model_name": "HBoxModel",
          "state": {
            "_dom_classes": [],
            "_model_module": "@jupyter-widgets/controls",
            "_model_module_version": "1.5.0",
            "_model_name": "HBoxModel",
            "_view_count": null,
            "_view_module": "@jupyter-widgets/controls",
            "_view_module_version": "1.5.0",
            "_view_name": "HBoxView",
            "box_style": "",
            "children": [
              "IPY_MODEL_dcad3edd3297417b98d2e38087d4fdb4",
              "IPY_MODEL_e5617239daa54ef6829195429b33ec0f",
              "IPY_MODEL_9f5b892ea34f4c1d97d446c76b0862eb"
            ],
            "layout": "IPY_MODEL_b157143478c246cfaddbd839e8b5f158"
          }
        },
        "278ac310839847a093259f400e174b47": {
          "model_module": "@jupyter-widgets/base",
          "model_module_version": "1.2.0",
          "model_name": "LayoutModel",
          "state": {
            "_model_module": "@jupyter-widgets/base",
            "_model_module_version": "1.2.0",
            "_model_name": "LayoutModel",
            "_view_count": null,
            "_view_module": "@jupyter-widgets/base",
            "_view_module_version": "1.2.0",
            "_view_name": "LayoutView",
            "align_content": null,
            "align_items": null,
            "align_self": null,
            "border": null,
            "bottom": null,
            "display": null,
            "flex": null,
            "flex_flow": null,
            "grid_area": null,
            "grid_auto_columns": null,
            "grid_auto_flow": null,
            "grid_auto_rows": null,
            "grid_column": null,
            "grid_gap": null,
            "grid_row": null,
            "grid_template_areas": null,
            "grid_template_columns": null,
            "grid_template_rows": null,
            "height": null,
            "justify_content": null,
            "justify_items": null,
            "left": null,
            "margin": null,
            "max_height": null,
            "max_width": null,
            "min_height": null,
            "min_width": null,
            "object_fit": null,
            "object_position": null,
            "order": null,
            "overflow": null,
            "overflow_x": null,
            "overflow_y": null,
            "padding": null,
            "right": null,
            "top": null,
            "visibility": null,
            "width": "20px"
          }
        },
        "28887ea4f93241c0b2747bae2214e39d": {
          "model_module": "@jupyter-widgets/controls",
          "model_module_version": "1.5.0",
          "model_name": "FloatProgressModel",
          "state": {
            "_dom_classes": [],
            "_model_module": "@jupyter-widgets/controls",
            "_model_module_version": "1.5.0",
            "_model_name": "FloatProgressModel",
            "_view_count": null,
            "_view_module": "@jupyter-widgets/controls",
            "_view_module_version": "1.5.0",
            "_view_name": "ProgressView",
            "bar_style": "success",
            "description": "",
            "description_tooltip": null,
            "layout": "IPY_MODEL_94873014bf24438f81905f51191b3225",
            "max": 666,
            "min": 0,
            "orientation": "horizontal",
            "style": "IPY_MODEL_86668c35a70847729871dfd520b57f64",
            "value": 666
          }
        },
        "2a5f6c85d0d44dc9a3446fe0c864a398": {
          "model_module": "@jupyter-widgets/controls",
          "model_module_version": "1.5.0",
          "model_name": "DescriptionStyleModel",
          "state": {
            "_model_module": "@jupyter-widgets/controls",
            "_model_module_version": "1.5.0",
            "_model_name": "DescriptionStyleModel",
            "_view_count": null,
            "_view_module": "@jupyter-widgets/base",
            "_view_module_version": "1.2.0",
            "_view_name": "StyleView",
            "description_width": ""
          }
        },
        "2b30f1d47c5a4d49a44bbf2bc4958a08": {
          "model_module": "@jupyter-widgets/controls",
          "model_module_version": "1.5.0",
          "model_name": "DescriptionStyleModel",
          "state": {
            "_model_module": "@jupyter-widgets/controls",
            "_model_module_version": "1.5.0",
            "_model_name": "DescriptionStyleModel",
            "_view_count": null,
            "_view_module": "@jupyter-widgets/base",
            "_view_module_version": "1.2.0",
            "_view_name": "StyleView",
            "description_width": ""
          }
        },
        "2bc364ad29024b9fa63355db7c4622f7": {
          "model_module": "@jupyter-widgets/controls",
          "model_module_version": "1.5.0",
          "model_name": "DescriptionStyleModel",
          "state": {
            "_model_module": "@jupyter-widgets/controls",
            "_model_module_version": "1.5.0",
            "_model_name": "DescriptionStyleModel",
            "_view_count": null,
            "_view_module": "@jupyter-widgets/base",
            "_view_module_version": "1.2.0",
            "_view_name": "StyleView",
            "description_width": ""
          }
        },
        "2dfcad90e7aa45fd815b59c4d9eb4ced": {
          "model_module": "@jupyter-widgets/controls",
          "model_module_version": "1.5.0",
          "model_name": "DescriptionStyleModel",
          "state": {
            "_model_module": "@jupyter-widgets/controls",
            "_model_module_version": "1.5.0",
            "_model_name": "DescriptionStyleModel",
            "_view_count": null,
            "_view_module": "@jupyter-widgets/base",
            "_view_module_version": "1.2.0",
            "_view_name": "StyleView",
            "description_width": ""
          }
        },
        "2eca9220b0604c6ab19bfd29cad2f8af": {
          "model_module": "@jupyter-widgets/base",
          "model_module_version": "1.2.0",
          "model_name": "LayoutModel",
          "state": {
            "_model_module": "@jupyter-widgets/base",
            "_model_module_version": "1.2.0",
            "_model_name": "LayoutModel",
            "_view_count": null,
            "_view_module": "@jupyter-widgets/base",
            "_view_module_version": "1.2.0",
            "_view_name": "LayoutView",
            "align_content": null,
            "align_items": null,
            "align_self": null,
            "border": null,
            "bottom": null,
            "display": null,
            "flex": null,
            "flex_flow": null,
            "grid_area": null,
            "grid_auto_columns": null,
            "grid_auto_flow": null,
            "grid_auto_rows": null,
            "grid_column": null,
            "grid_gap": null,
            "grid_row": null,
            "grid_template_areas": null,
            "grid_template_columns": null,
            "grid_template_rows": null,
            "height": null,
            "justify_content": null,
            "justify_items": null,
            "left": null,
            "margin": null,
            "max_height": null,
            "max_width": null,
            "min_height": null,
            "min_width": null,
            "object_fit": null,
            "object_position": null,
            "order": null,
            "overflow": null,
            "overflow_x": null,
            "overflow_y": null,
            "padding": null,
            "right": null,
            "top": null,
            "visibility": null,
            "width": null
          }
        },
        "2eeccd0b2ace45d5b041e3e18456f69e": {
          "model_module": "@jupyter-widgets/controls",
          "model_module_version": "1.5.0",
          "model_name": "HBoxModel",
          "state": {
            "_dom_classes": [],
            "_model_module": "@jupyter-widgets/controls",
            "_model_module_version": "1.5.0",
            "_model_name": "HBoxModel",
            "_view_count": null,
            "_view_module": "@jupyter-widgets/controls",
            "_view_module_version": "1.5.0",
            "_view_name": "HBoxView",
            "box_style": "",
            "children": [
              "IPY_MODEL_44a8877858c64f958147305773ddcf32",
              "IPY_MODEL_73fca12a2e294868848ab66224fd7bb9",
              "IPY_MODEL_f2848975fec54f839c20a993d384216a"
            ],
            "layout": "IPY_MODEL_3d72e95a355546dcba4ee3a15efd9280"
          }
        },
        "30de2fa5a1d944b09bcfe7bb9680c8e6": {
          "model_module": "@jupyter-widgets/controls",
          "model_module_version": "1.5.0",
          "model_name": "ProgressStyleModel",
          "state": {
            "_model_module": "@jupyter-widgets/controls",
            "_model_module_version": "1.5.0",
            "_model_name": "ProgressStyleModel",
            "_view_count": null,
            "_view_module": "@jupyter-widgets/base",
            "_view_module_version": "1.2.0",
            "_view_name": "StyleView",
            "bar_color": null,
            "description_width": ""
          }
        },
        "36a7eb217f854bf7ad044945caa50116": {
          "model_module": "@jupyter-widgets/controls",
          "model_module_version": "1.5.0",
          "model_name": "HTMLModel",
          "state": {
            "_dom_classes": [],
            "_model_module": "@jupyter-widgets/controls",
            "_model_module_version": "1.5.0",
            "_model_name": "HTMLModel",
            "_view_count": null,
            "_view_module": "@jupyter-widgets/controls",
            "_view_module_version": "1.5.0",
            "_view_name": "HTMLView",
            "description": "",
            "description_tooltip": null,
            "layout": "IPY_MODEL_99de9d7ce70b46418ea889bbe1c309ac",
            "placeholder": "​",
            "style": "IPY_MODEL_f99f7f2c43044049a80e7308d775256e",
            "value": "Downloading: 100%"
          }
        },
        "3d72e95a355546dcba4ee3a15efd9280": {
          "model_module": "@jupyter-widgets/base",
          "model_module_version": "1.2.0",
          "model_name": "LayoutModel",
          "state": {
            "_model_module": "@jupyter-widgets/base",
            "_model_module_version": "1.2.0",
            "_model_name": "LayoutModel",
            "_view_count": null,
            "_view_module": "@jupyter-widgets/base",
            "_view_module_version": "1.2.0",
            "_view_name": "LayoutView",
            "align_content": null,
            "align_items": null,
            "align_self": null,
            "border": null,
            "bottom": null,
            "display": null,
            "flex": null,
            "flex_flow": null,
            "grid_area": null,
            "grid_auto_columns": null,
            "grid_auto_flow": null,
            "grid_auto_rows": null,
            "grid_column": null,
            "grid_gap": null,
            "grid_row": null,
            "grid_template_areas": null,
            "grid_template_columns": null,
            "grid_template_rows": null,
            "height": null,
            "justify_content": null,
            "justify_items": null,
            "left": null,
            "margin": null,
            "max_height": null,
            "max_width": null,
            "min_height": null,
            "min_width": null,
            "object_fit": null,
            "object_position": null,
            "order": null,
            "overflow": null,
            "overflow_x": null,
            "overflow_y": null,
            "padding": null,
            "right": null,
            "top": null,
            "visibility": null,
            "width": null
          }
        },
        "400cf8619ea44b98b6664c073c4b0bb1": {
          "model_module": "@jupyter-widgets/controls",
          "model_module_version": "1.5.0",
          "model_name": "HTMLModel",
          "state": {
            "_dom_classes": [],
            "_model_module": "@jupyter-widgets/controls",
            "_model_module_version": "1.5.0",
            "_model_name": "HTMLModel",
            "_view_count": null,
            "_view_module": "@jupyter-widgets/controls",
            "_view_module_version": "1.5.0",
            "_view_name": "HTMLView",
            "description": "",
            "description_tooltip": null,
            "layout": "IPY_MODEL_b6d21c11d4de461393dc9fc44dcac13b",
            "placeholder": "​",
            "style": "IPY_MODEL_ac863ec377ef44599ce0c1fc1118bb0d",
            "value": "Downloading: "
          }
        },
        "42063942b72c45609f19621a9cfb7311": {
          "model_module": "@jupyter-widgets/base",
          "model_module_version": "1.2.0",
          "model_name": "LayoutModel",
          "state": {
            "_model_module": "@jupyter-widgets/base",
            "_model_module_version": "1.2.0",
            "_model_name": "LayoutModel",
            "_view_count": null,
            "_view_module": "@jupyter-widgets/base",
            "_view_module_version": "1.2.0",
            "_view_name": "LayoutView",
            "align_content": null,
            "align_items": null,
            "align_self": null,
            "border": null,
            "bottom": null,
            "display": null,
            "flex": null,
            "flex_flow": null,
            "grid_area": null,
            "grid_auto_columns": null,
            "grid_auto_flow": null,
            "grid_auto_rows": null,
            "grid_column": null,
            "grid_gap": null,
            "grid_row": null,
            "grid_template_areas": null,
            "grid_template_columns": null,
            "grid_template_rows": null,
            "height": null,
            "justify_content": null,
            "justify_items": null,
            "left": null,
            "margin": null,
            "max_height": null,
            "max_width": null,
            "min_height": null,
            "min_width": null,
            "object_fit": null,
            "object_position": null,
            "order": null,
            "overflow": null,
            "overflow_x": null,
            "overflow_y": null,
            "padding": null,
            "right": null,
            "top": null,
            "visibility": null,
            "width": null
          }
        },
        "43aad76e2da54f90838da37ef0848c1c": {
          "model_module": "@jupyter-widgets/base",
          "model_module_version": "1.2.0",
          "model_name": "LayoutModel",
          "state": {
            "_model_module": "@jupyter-widgets/base",
            "_model_module_version": "1.2.0",
            "_model_name": "LayoutModel",
            "_view_count": null,
            "_view_module": "@jupyter-widgets/base",
            "_view_module_version": "1.2.0",
            "_view_name": "LayoutView",
            "align_content": null,
            "align_items": null,
            "align_self": null,
            "border": null,
            "bottom": null,
            "display": null,
            "flex": null,
            "flex_flow": null,
            "grid_area": null,
            "grid_auto_columns": null,
            "grid_auto_flow": null,
            "grid_auto_rows": null,
            "grid_column": null,
            "grid_gap": null,
            "grid_row": null,
            "grid_template_areas": null,
            "grid_template_columns": null,
            "grid_template_rows": null,
            "height": null,
            "justify_content": null,
            "justify_items": null,
            "left": null,
            "margin": null,
            "max_height": null,
            "max_width": null,
            "min_height": null,
            "min_width": null,
            "object_fit": null,
            "object_position": null,
            "order": null,
            "overflow": null,
            "overflow_x": null,
            "overflow_y": null,
            "padding": null,
            "right": null,
            "top": null,
            "visibility": null,
            "width": null
          }
        },
        "44a8877858c64f958147305773ddcf32": {
          "model_module": "@jupyter-widgets/controls",
          "model_module_version": "1.5.0",
          "model_name": "HTMLModel",
          "state": {
            "_dom_classes": [],
            "_model_module": "@jupyter-widgets/controls",
            "_model_module_version": "1.5.0",
            "_model_name": "HTMLModel",
            "_view_count": null,
            "_view_module": "@jupyter-widgets/controls",
            "_view_module_version": "1.5.0",
            "_view_name": "HTMLView",
            "description": "",
            "description_tooltip": null,
            "layout": "IPY_MODEL_68553ed9754e45769192d1280b73f816",
            "placeholder": "​",
            "style": "IPY_MODEL_8f1746accd4145e29b12a85549647249",
            "value": "100%"
          }
        },
        "479c02bfdc7c42bfac61bbb4e17052ed": {
          "model_module": "@jupyter-widgets/base",
          "model_module_version": "1.2.0",
          "model_name": "LayoutModel",
          "state": {
            "_model_module": "@jupyter-widgets/base",
            "_model_module_version": "1.2.0",
            "_model_name": "LayoutModel",
            "_view_count": null,
            "_view_module": "@jupyter-widgets/base",
            "_view_module_version": "1.2.0",
            "_view_name": "LayoutView",
            "align_content": null,
            "align_items": null,
            "align_self": null,
            "border": null,
            "bottom": null,
            "display": null,
            "flex": null,
            "flex_flow": null,
            "grid_area": null,
            "grid_auto_columns": null,
            "grid_auto_flow": null,
            "grid_auto_rows": null,
            "grid_column": null,
            "grid_gap": null,
            "grid_row": null,
            "grid_template_areas": null,
            "grid_template_columns": null,
            "grid_template_rows": null,
            "height": null,
            "justify_content": null,
            "justify_items": null,
            "left": null,
            "margin": null,
            "max_height": null,
            "max_width": null,
            "min_height": null,
            "min_width": null,
            "object_fit": null,
            "object_position": null,
            "order": null,
            "overflow": null,
            "overflow_x": null,
            "overflow_y": null,
            "padding": null,
            "right": null,
            "top": null,
            "visibility": null,
            "width": null
          }
        },
        "4a9ee1c5730944069066cdecb4c391b0": {
          "model_module": "@jupyter-widgets/controls",
          "model_module_version": "1.5.0",
          "model_name": "FloatProgressModel",
          "state": {
            "_dom_classes": [],
            "_model_module": "@jupyter-widgets/controls",
            "_model_module_version": "1.5.0",
            "_model_name": "FloatProgressModel",
            "_view_count": null,
            "_view_module": "@jupyter-widgets/controls",
            "_view_module_version": "1.5.0",
            "_view_name": "ProgressView",
            "bar_style": "",
            "description": "",
            "description_tooltip": null,
            "layout": "IPY_MODEL_566ba1ec18e34eeb815931d629283d8a",
            "max": 3247202234,
            "min": 0,
            "orientation": "horizontal",
            "style": "IPY_MODEL_8678cd711794413d88c15f5967a11204",
            "value": 841740288
          }
        },
        "4f8f37d1d1664efb89f56dc329e7230e": {
          "model_module": "@jupyter-widgets/base",
          "model_module_version": "1.2.0",
          "model_name": "LayoutModel",
          "state": {
            "_model_module": "@jupyter-widgets/base",
            "_model_module_version": "1.2.0",
            "_model_name": "LayoutModel",
            "_view_count": null,
            "_view_module": "@jupyter-widgets/base",
            "_view_module_version": "1.2.0",
            "_view_name": "LayoutView",
            "align_content": null,
            "align_items": null,
            "align_self": null,
            "border": null,
            "bottom": null,
            "display": null,
            "flex": null,
            "flex_flow": null,
            "grid_area": null,
            "grid_auto_columns": null,
            "grid_auto_flow": null,
            "grid_auto_rows": null,
            "grid_column": null,
            "grid_gap": null,
            "grid_row": null,
            "grid_template_areas": null,
            "grid_template_columns": null,
            "grid_template_rows": null,
            "height": null,
            "justify_content": null,
            "justify_items": null,
            "left": null,
            "margin": null,
            "max_height": null,
            "max_width": null,
            "min_height": null,
            "min_width": null,
            "object_fit": null,
            "object_position": null,
            "order": null,
            "overflow": null,
            "overflow_x": null,
            "overflow_y": null,
            "padding": null,
            "right": null,
            "top": null,
            "visibility": null,
            "width": null
          }
        },
        "512f3e47079c4fe2a10808859ffd0b6e": {
          "model_module": "@jupyter-widgets/base",
          "model_module_version": "1.2.0",
          "model_name": "LayoutModel",
          "state": {
            "_model_module": "@jupyter-widgets/base",
            "_model_module_version": "1.2.0",
            "_model_name": "LayoutModel",
            "_view_count": null,
            "_view_module": "@jupyter-widgets/base",
            "_view_module_version": "1.2.0",
            "_view_name": "LayoutView",
            "align_content": null,
            "align_items": null,
            "align_self": null,
            "border": null,
            "bottom": null,
            "display": null,
            "flex": null,
            "flex_flow": null,
            "grid_area": null,
            "grid_auto_columns": null,
            "grid_auto_flow": null,
            "grid_auto_rows": null,
            "grid_column": null,
            "grid_gap": null,
            "grid_row": null,
            "grid_template_areas": null,
            "grid_template_columns": null,
            "grid_template_rows": null,
            "height": null,
            "justify_content": null,
            "justify_items": null,
            "left": null,
            "margin": null,
            "max_height": null,
            "max_width": null,
            "min_height": null,
            "min_width": null,
            "object_fit": null,
            "object_position": null,
            "order": null,
            "overflow": null,
            "overflow_x": null,
            "overflow_y": null,
            "padding": null,
            "right": null,
            "top": null,
            "visibility": null,
            "width": null
          }
        },
        "53d0f3a399444f76aad99ee1c0251e6a": {
          "model_module": "@jupyter-widgets/controls",
          "model_module_version": "1.5.0",
          "model_name": "FloatProgressModel",
          "state": {
            "_dom_classes": [],
            "_model_module": "@jupyter-widgets/controls",
            "_model_module_version": "1.5.0",
            "_model_name": "FloatProgressModel",
            "_view_count": null,
            "_view_module": "@jupyter-widgets/controls",
            "_view_module_version": "1.5.0",
            "_view_name": "ProgressView",
            "bar_style": "success",
            "description": "",
            "description_tooltip": null,
            "layout": "IPY_MODEL_43aad76e2da54f90838da37ef0848c1c",
            "max": 7777,
            "min": 0,
            "orientation": "horizontal",
            "style": "IPY_MODEL_30de2fa5a1d944b09bcfe7bb9680c8e6",
            "value": 7777
          }
        },
        "54370fa03aa54929bc8388bb00379af5": {
          "model_module": "@jupyter-widgets/controls",
          "model_module_version": "1.5.0",
          "model_name": "DescriptionStyleModel",
          "state": {
            "_model_module": "@jupyter-widgets/controls",
            "_model_module_version": "1.5.0",
            "_model_name": "DescriptionStyleModel",
            "_view_count": null,
            "_view_module": "@jupyter-widgets/base",
            "_view_module_version": "1.2.0",
            "_view_name": "StyleView",
            "description_width": ""
          }
        },
        "566ba1ec18e34eeb815931d629283d8a": {
          "model_module": "@jupyter-widgets/base",
          "model_module_version": "1.2.0",
          "model_name": "LayoutModel",
          "state": {
            "_model_module": "@jupyter-widgets/base",
            "_model_module_version": "1.2.0",
            "_model_name": "LayoutModel",
            "_view_count": null,
            "_view_module": "@jupyter-widgets/base",
            "_view_module_version": "1.2.0",
            "_view_name": "LayoutView",
            "align_content": null,
            "align_items": null,
            "align_self": null,
            "border": null,
            "bottom": null,
            "display": null,
            "flex": null,
            "flex_flow": null,
            "grid_area": null,
            "grid_auto_columns": null,
            "grid_auto_flow": null,
            "grid_auto_rows": null,
            "grid_column": null,
            "grid_gap": null,
            "grid_row": null,
            "grid_template_areas": null,
            "grid_template_columns": null,
            "grid_template_rows": null,
            "height": null,
            "justify_content": null,
            "justify_items": null,
            "left": null,
            "margin": null,
            "max_height": null,
            "max_width": null,
            "min_height": null,
            "min_width": null,
            "object_fit": null,
            "object_position": null,
            "order": null,
            "overflow": null,
            "overflow_x": null,
            "overflow_y": null,
            "padding": null,
            "right": null,
            "top": null,
            "visibility": null,
            "width": null
          }
        },
        "5761d8d3d44540b2b172357b462bd051": {
          "model_module": "@jupyter-widgets/base",
          "model_module_version": "1.2.0",
          "model_name": "LayoutModel",
          "state": {
            "_model_module": "@jupyter-widgets/base",
            "_model_module_version": "1.2.0",
            "_model_name": "LayoutModel",
            "_view_count": null,
            "_view_module": "@jupyter-widgets/base",
            "_view_module_version": "1.2.0",
            "_view_name": "LayoutView",
            "align_content": null,
            "align_items": null,
            "align_self": null,
            "border": null,
            "bottom": null,
            "display": null,
            "flex": null,
            "flex_flow": null,
            "grid_area": null,
            "grid_auto_columns": null,
            "grid_auto_flow": null,
            "grid_auto_rows": null,
            "grid_column": null,
            "grid_gap": null,
            "grid_row": null,
            "grid_template_areas": null,
            "grid_template_columns": null,
            "grid_template_rows": null,
            "height": null,
            "justify_content": null,
            "justify_items": null,
            "left": null,
            "margin": null,
            "max_height": null,
            "max_width": null,
            "min_height": null,
            "min_width": null,
            "object_fit": null,
            "object_position": null,
            "order": null,
            "overflow": null,
            "overflow_x": null,
            "overflow_y": null,
            "padding": null,
            "right": null,
            "top": null,
            "visibility": null,
            "width": null
          }
        },
        "579c275e7a0446d49b3909050844b74e": {
          "model_module": "@jupyter-widgets/controls",
          "model_module_version": "1.5.0",
          "model_name": "DescriptionStyleModel",
          "state": {
            "_model_module": "@jupyter-widgets/controls",
            "_model_module_version": "1.5.0",
            "_model_name": "DescriptionStyleModel",
            "_view_count": null,
            "_view_module": "@jupyter-widgets/base",
            "_view_module_version": "1.2.0",
            "_view_name": "StyleView",
            "description_width": ""
          }
        },
        "59dc594c58614aabadde12f7592a2a11": {
          "model_module": "@jupyter-widgets/controls",
          "model_module_version": "1.5.0",
          "model_name": "HTMLModel",
          "state": {
            "_dom_classes": [],
            "_model_module": "@jupyter-widgets/controls",
            "_model_module_version": "1.5.0",
            "_model_name": "HTMLModel",
            "_view_count": null,
            "_view_module": "@jupyter-widgets/controls",
            "_view_module_version": "1.5.0",
            "_view_name": "HTMLView",
            "description": "",
            "description_tooltip": null,
            "layout": "IPY_MODEL_dff0a3c3b7ef4829a3bacf977fc9af7f",
            "placeholder": "​",
            "style": "IPY_MODEL_6ce397d4dec7458eb1c5a3fc0c698911",
            "value": " 0/0 [00:00&lt;?, ? examples/s]"
          }
        },
        "5a01a3917acf49d58179de0f1ec2e3e3": {
          "model_module": "@jupyter-widgets/base",
          "model_module_version": "1.2.0",
          "model_name": "LayoutModel",
          "state": {
            "_model_module": "@jupyter-widgets/base",
            "_model_module_version": "1.2.0",
            "_model_name": "LayoutModel",
            "_view_count": null,
            "_view_module": "@jupyter-widgets/base",
            "_view_module_version": "1.2.0",
            "_view_name": "LayoutView",
            "align_content": null,
            "align_items": null,
            "align_self": null,
            "border": null,
            "bottom": null,
            "display": null,
            "flex": null,
            "flex_flow": null,
            "grid_area": null,
            "grid_auto_columns": null,
            "grid_auto_flow": null,
            "grid_auto_rows": null,
            "grid_column": null,
            "grid_gap": null,
            "grid_row": null,
            "grid_template_areas": null,
            "grid_template_columns": null,
            "grid_template_rows": null,
            "height": null,
            "justify_content": null,
            "justify_items": null,
            "left": null,
            "margin": null,
            "max_height": null,
            "max_width": null,
            "min_height": null,
            "min_width": null,
            "object_fit": null,
            "object_position": null,
            "order": null,
            "overflow": null,
            "overflow_x": null,
            "overflow_y": null,
            "padding": null,
            "right": null,
            "top": null,
            "visibility": null,
            "width": null
          }
        },
        "5e31848146df4ee6bfbce8a87839de2d": {
          "model_module": "@jupyter-widgets/controls",
          "model_module_version": "1.5.0",
          "model_name": "HBoxModel",
          "state": {
            "_dom_classes": [],
            "_model_module": "@jupyter-widgets/controls",
            "_model_module_version": "1.5.0",
            "_model_name": "HBoxModel",
            "_view_count": null,
            "_view_module": "@jupyter-widgets/controls",
            "_view_module_version": "1.5.0",
            "_view_name": "HBoxView",
            "box_style": "",
            "children": [
              "IPY_MODEL_36a7eb217f854bf7ad044945caa50116",
              "IPY_MODEL_28887ea4f93241c0b2747bae2214e39d",
              "IPY_MODEL_5f6a89b862f647bea3d5b17ac386bc33"
            ],
            "layout": "IPY_MODEL_479c02bfdc7c42bfac61bbb4e17052ed"
          }
        },
        "5f6a89b862f647bea3d5b17ac386bc33": {
          "model_module": "@jupyter-widgets/controls",
          "model_module_version": "1.5.0",
          "model_name": "HTMLModel",
          "state": {
            "_dom_classes": [],
            "_model_module": "@jupyter-widgets/controls",
            "_model_module_version": "1.5.0",
            "_model_name": "HTMLModel",
            "_view_count": null,
            "_view_module": "@jupyter-widgets/controls",
            "_view_module_version": "1.5.0",
            "_view_name": "HTMLView",
            "description": "",
            "description_tooltip": null,
            "layout": "IPY_MODEL_512f3e47079c4fe2a10808859ffd0b6e",
            "placeholder": "​",
            "style": "IPY_MODEL_9810beb9fc544bccbbf5f9b75f80135b",
            "value": " 666/666 [00:00&lt;00:00, 20.3kB/s]"
          }
        },
        "60ce24be79264fcd89dd47059e33e174": {
          "model_module": "@jupyter-widgets/controls",
          "model_module_version": "1.5.0",
          "model_name": "DescriptionStyleModel",
          "state": {
            "_model_module": "@jupyter-widgets/controls",
            "_model_module_version": "1.5.0",
            "_model_name": "DescriptionStyleModel",
            "_view_count": null,
            "_view_module": "@jupyter-widgets/base",
            "_view_module_version": "1.2.0",
            "_view_name": "StyleView",
            "description_width": ""
          }
        },
        "61ee98ff2e7348c5b8d97969fb73096e": {
          "model_module": "@jupyter-widgets/base",
          "model_module_version": "1.2.0",
          "model_name": "LayoutModel",
          "state": {
            "_model_module": "@jupyter-widgets/base",
            "_model_module_version": "1.2.0",
            "_model_name": "LayoutModel",
            "_view_count": null,
            "_view_module": "@jupyter-widgets/base",
            "_view_module_version": "1.2.0",
            "_view_name": "LayoutView",
            "align_content": null,
            "align_items": null,
            "align_self": null,
            "border": null,
            "bottom": null,
            "display": null,
            "flex": null,
            "flex_flow": null,
            "grid_area": null,
            "grid_auto_columns": null,
            "grid_auto_flow": null,
            "grid_auto_rows": null,
            "grid_column": null,
            "grid_gap": null,
            "grid_row": null,
            "grid_template_areas": null,
            "grid_template_columns": null,
            "grid_template_rows": null,
            "height": null,
            "justify_content": null,
            "justify_items": null,
            "left": null,
            "margin": null,
            "max_height": null,
            "max_width": null,
            "min_height": null,
            "min_width": null,
            "object_fit": null,
            "object_position": null,
            "order": null,
            "overflow": null,
            "overflow_x": null,
            "overflow_y": null,
            "padding": null,
            "right": null,
            "top": null,
            "visibility": null,
            "width": null
          }
        },
        "64cb66b6bb134b888a91d9bfa769e820": {
          "model_module": "@jupyter-widgets/base",
          "model_module_version": "1.2.0",
          "model_name": "LayoutModel",
          "state": {
            "_model_module": "@jupyter-widgets/base",
            "_model_module_version": "1.2.0",
            "_model_name": "LayoutModel",
            "_view_count": null,
            "_view_module": "@jupyter-widgets/base",
            "_view_module_version": "1.2.0",
            "_view_name": "LayoutView",
            "align_content": null,
            "align_items": null,
            "align_self": null,
            "border": null,
            "bottom": null,
            "display": null,
            "flex": null,
            "flex_flow": null,
            "grid_area": null,
            "grid_auto_columns": null,
            "grid_auto_flow": null,
            "grid_auto_rows": null,
            "grid_column": null,
            "grid_gap": null,
            "grid_row": null,
            "grid_template_areas": null,
            "grid_template_columns": null,
            "grid_template_rows": null,
            "height": null,
            "justify_content": null,
            "justify_items": null,
            "left": null,
            "margin": null,
            "max_height": null,
            "max_width": null,
            "min_height": null,
            "min_width": null,
            "object_fit": null,
            "object_position": null,
            "order": null,
            "overflow": null,
            "overflow_x": null,
            "overflow_y": null,
            "padding": null,
            "right": null,
            "top": null,
            "visibility": null,
            "width": null
          }
        },
        "68553ed9754e45769192d1280b73f816": {
          "model_module": "@jupyter-widgets/base",
          "model_module_version": "1.2.0",
          "model_name": "LayoutModel",
          "state": {
            "_model_module": "@jupyter-widgets/base",
            "_model_module_version": "1.2.0",
            "_model_name": "LayoutModel",
            "_view_count": null,
            "_view_module": "@jupyter-widgets/base",
            "_view_module_version": "1.2.0",
            "_view_name": "LayoutView",
            "align_content": null,
            "align_items": null,
            "align_self": null,
            "border": null,
            "bottom": null,
            "display": null,
            "flex": null,
            "flex_flow": null,
            "grid_area": null,
            "grid_auto_columns": null,
            "grid_auto_flow": null,
            "grid_auto_rows": null,
            "grid_column": null,
            "grid_gap": null,
            "grid_row": null,
            "grid_template_areas": null,
            "grid_template_columns": null,
            "grid_template_rows": null,
            "height": null,
            "justify_content": null,
            "justify_items": null,
            "left": null,
            "margin": null,
            "max_height": null,
            "max_width": null,
            "min_height": null,
            "min_width": null,
            "object_fit": null,
            "object_position": null,
            "order": null,
            "overflow": null,
            "overflow_x": null,
            "overflow_y": null,
            "padding": null,
            "right": null,
            "top": null,
            "visibility": null,
            "width": null
          }
        },
        "69f136c9b8fe41749b7874a43ac52ea1": {
          "model_module": "@jupyter-widgets/controls",
          "model_module_version": "1.5.0",
          "model_name": "FloatProgressModel",
          "state": {
            "_dom_classes": [],
            "_model_module": "@jupyter-widgets/controls",
            "_model_module_version": "1.5.0",
            "_model_name": "FloatProgressModel",
            "_view_count": null,
            "_view_module": "@jupyter-widgets/controls",
            "_view_module_version": "1.5.0",
            "_view_name": "ProgressView",
            "bar_style": "success",
            "description": "",
            "description_tooltip": null,
            "layout": "IPY_MODEL_b2e2c875e7b642b289d2d0c9cb57beb6",
            "max": 7439277,
            "min": 0,
            "orientation": "horizontal",
            "style": "IPY_MODEL_af7a632c91c84f5cad2a1107273b2757",
            "value": 7439277
          }
        },
        "6b010c36b84542a6a7334fd3953061a5": {
          "model_module": "@jupyter-widgets/base",
          "model_module_version": "1.2.0",
          "model_name": "LayoutModel",
          "state": {
            "_model_module": "@jupyter-widgets/base",
            "_model_module_version": "1.2.0",
            "_model_name": "LayoutModel",
            "_view_count": null,
            "_view_module": "@jupyter-widgets/base",
            "_view_module_version": "1.2.0",
            "_view_name": "LayoutView",
            "align_content": null,
            "align_items": null,
            "align_self": null,
            "border": null,
            "bottom": null,
            "display": null,
            "flex": null,
            "flex_flow": null,
            "grid_area": null,
            "grid_auto_columns": null,
            "grid_auto_flow": null,
            "grid_auto_rows": null,
            "grid_column": null,
            "grid_gap": null,
            "grid_row": null,
            "grid_template_areas": null,
            "grid_template_columns": null,
            "grid_template_rows": null,
            "height": null,
            "justify_content": null,
            "justify_items": null,
            "left": null,
            "margin": null,
            "max_height": null,
            "max_width": null,
            "min_height": null,
            "min_width": null,
            "object_fit": null,
            "object_position": null,
            "order": null,
            "overflow": null,
            "overflow_x": null,
            "overflow_y": null,
            "padding": null,
            "right": null,
            "top": null,
            "visibility": null,
            "width": null
          }
        },
        "6b13de94ac774603bc7510f49aefa623": {
          "model_module": "@jupyter-widgets/controls",
          "model_module_version": "1.5.0",
          "model_name": "HTMLModel",
          "state": {
            "_dom_classes": [],
            "_model_module": "@jupyter-widgets/controls",
            "_model_module_version": "1.5.0",
            "_model_name": "HTMLModel",
            "_view_count": null,
            "_view_module": "@jupyter-widgets/controls",
            "_view_module_version": "1.5.0",
            "_view_name": "HTMLView",
            "description": "",
            "description_tooltip": null,
            "layout": "IPY_MODEL_2eca9220b0604c6ab19bfd29cad2f8af",
            "placeholder": "​",
            "style": "IPY_MODEL_13da86512a0b43abbdcf52c29268b617",
            "value": "Downloading: 100%"
          }
        },
        "6ce397d4dec7458eb1c5a3fc0c698911": {
          "model_module": "@jupyter-widgets/controls",
          "model_module_version": "1.5.0",
          "model_name": "DescriptionStyleModel",
          "state": {
            "_model_module": "@jupyter-widgets/controls",
            "_model_module_version": "1.5.0",
            "_model_name": "DescriptionStyleModel",
            "_view_count": null,
            "_view_module": "@jupyter-widgets/base",
            "_view_module_version": "1.2.0",
            "_view_name": "StyleView",
            "description_width": ""
          }
        },
        "6e5e8d9555d84e55844b23b3d52b976f": {
          "model_module": "@jupyter-widgets/base",
          "model_module_version": "1.2.0",
          "model_name": "LayoutModel",
          "state": {
            "_model_module": "@jupyter-widgets/base",
            "_model_module_version": "1.2.0",
            "_model_name": "LayoutModel",
            "_view_count": null,
            "_view_module": "@jupyter-widgets/base",
            "_view_module_version": "1.2.0",
            "_view_name": "LayoutView",
            "align_content": null,
            "align_items": null,
            "align_self": null,
            "border": null,
            "bottom": null,
            "display": null,
            "flex": null,
            "flex_flow": null,
            "grid_area": null,
            "grid_auto_columns": null,
            "grid_auto_flow": null,
            "grid_auto_rows": null,
            "grid_column": null,
            "grid_gap": null,
            "grid_row": null,
            "grid_template_areas": null,
            "grid_template_columns": null,
            "grid_template_rows": null,
            "height": null,
            "justify_content": null,
            "justify_items": null,
            "left": null,
            "margin": null,
            "max_height": null,
            "max_width": null,
            "min_height": null,
            "min_width": null,
            "object_fit": null,
            "object_position": null,
            "order": null,
            "overflow": null,
            "overflow_x": null,
            "overflow_y": null,
            "padding": null,
            "right": null,
            "top": null,
            "visibility": null,
            "width": null
          }
        },
        "6fbb2d896beb4a6ebaeffdc5b22d5f7e": {
          "model_module": "@jupyter-widgets/base",
          "model_module_version": "1.2.0",
          "model_name": "LayoutModel",
          "state": {
            "_model_module": "@jupyter-widgets/base",
            "_model_module_version": "1.2.0",
            "_model_name": "LayoutModel",
            "_view_count": null,
            "_view_module": "@jupyter-widgets/base",
            "_view_module_version": "1.2.0",
            "_view_name": "LayoutView",
            "align_content": null,
            "align_items": null,
            "align_self": null,
            "border": null,
            "bottom": null,
            "display": null,
            "flex": null,
            "flex_flow": null,
            "grid_area": null,
            "grid_auto_columns": null,
            "grid_auto_flow": null,
            "grid_auto_rows": null,
            "grid_column": null,
            "grid_gap": null,
            "grid_row": null,
            "grid_template_areas": null,
            "grid_template_columns": null,
            "grid_template_rows": null,
            "height": null,
            "justify_content": null,
            "justify_items": null,
            "left": null,
            "margin": null,
            "max_height": null,
            "max_width": null,
            "min_height": null,
            "min_width": null,
            "object_fit": null,
            "object_position": null,
            "order": null,
            "overflow": null,
            "overflow_x": null,
            "overflow_y": null,
            "padding": null,
            "right": null,
            "top": null,
            "visibility": null,
            "width": null
          }
        },
        "73fca12a2e294868848ab66224fd7bb9": {
          "model_module": "@jupyter-widgets/controls",
          "model_module_version": "1.5.0",
          "model_name": "FloatProgressModel",
          "state": {
            "_dom_classes": [],
            "_model_module": "@jupyter-widgets/controls",
            "_model_module_version": "1.5.0",
            "_model_name": "FloatProgressModel",
            "_view_count": null,
            "_view_module": "@jupyter-widgets/controls",
            "_view_module_version": "1.5.0",
            "_view_name": "ProgressView",
            "bar_style": "success",
            "description": "",
            "description_tooltip": null,
            "layout": "IPY_MODEL_79b4f401fae844f7856cc39ca847b89a",
            "max": 3,
            "min": 0,
            "orientation": "horizontal",
            "style": "IPY_MODEL_981e5ae807274933b0499b779981a62d",
            "value": 3
          }
        },
        "7707b0a126564fef8ea4cedec0143d1d": {
          "model_module": "@jupyter-widgets/controls",
          "model_module_version": "1.5.0",
          "model_name": "HBoxModel",
          "state": {
            "_dom_classes": [],
            "_model_module": "@jupyter-widgets/controls",
            "_model_module_version": "1.5.0",
            "_model_name": "HBoxModel",
            "_view_count": null,
            "_view_module": "@jupyter-widgets/controls",
            "_view_module_version": "1.5.0",
            "_view_name": "HBoxView",
            "box_style": "",
            "children": [
              "IPY_MODEL_c09eb6b1889e4b20992cfab1bf4f4ba7",
              "IPY_MODEL_122b0816dced47559c9f98c69970c96e",
              "IPY_MODEL_59dc594c58614aabadde12f7592a2a11"
            ],
            "layout": "IPY_MODEL_6b010c36b84542a6a7334fd3953061a5"
          }
        },
        "7925891d60c1461d87eee7031f2825ab": {
          "model_module": "@jupyter-widgets/controls",
          "model_module_version": "1.5.0",
          "model_name": "DescriptionStyleModel",
          "state": {
            "_model_module": "@jupyter-widgets/controls",
            "_model_module_version": "1.5.0",
            "_model_name": "DescriptionStyleModel",
            "_view_count": null,
            "_view_module": "@jupyter-widgets/base",
            "_view_module_version": "1.2.0",
            "_view_name": "StyleView",
            "description_width": ""
          }
        },
        "79b4f401fae844f7856cc39ca847b89a": {
          "model_module": "@jupyter-widgets/base",
          "model_module_version": "1.2.0",
          "model_name": "LayoutModel",
          "state": {
            "_model_module": "@jupyter-widgets/base",
            "_model_module_version": "1.2.0",
            "_model_name": "LayoutModel",
            "_view_count": null,
            "_view_module": "@jupyter-widgets/base",
            "_view_module_version": "1.2.0",
            "_view_name": "LayoutView",
            "align_content": null,
            "align_items": null,
            "align_self": null,
            "border": null,
            "bottom": null,
            "display": null,
            "flex": null,
            "flex_flow": null,
            "grid_area": null,
            "grid_auto_columns": null,
            "grid_auto_flow": null,
            "grid_auto_rows": null,
            "grid_column": null,
            "grid_gap": null,
            "grid_row": null,
            "grid_template_areas": null,
            "grid_template_columns": null,
            "grid_template_rows": null,
            "height": null,
            "justify_content": null,
            "justify_items": null,
            "left": null,
            "margin": null,
            "max_height": null,
            "max_width": null,
            "min_height": null,
            "min_width": null,
            "object_fit": null,
            "object_position": null,
            "order": null,
            "overflow": null,
            "overflow_x": null,
            "overflow_y": null,
            "padding": null,
            "right": null,
            "top": null,
            "visibility": null,
            "width": null
          }
        },
        "86668c35a70847729871dfd520b57f64": {
          "model_module": "@jupyter-widgets/controls",
          "model_module_version": "1.5.0",
          "model_name": "ProgressStyleModel",
          "state": {
            "_model_module": "@jupyter-widgets/controls",
            "_model_module_version": "1.5.0",
            "_model_name": "ProgressStyleModel",
            "_view_count": null,
            "_view_module": "@jupyter-widgets/base",
            "_view_module_version": "1.2.0",
            "_view_name": "StyleView",
            "bar_color": null,
            "description_width": ""
          }
        },
        "8678cd711794413d88c15f5967a11204": {
          "model_module": "@jupyter-widgets/controls",
          "model_module_version": "1.5.0",
          "model_name": "ProgressStyleModel",
          "state": {
            "_model_module": "@jupyter-widgets/controls",
            "_model_module_version": "1.5.0",
            "_model_name": "ProgressStyleModel",
            "_view_count": null,
            "_view_module": "@jupyter-widgets/base",
            "_view_module_version": "1.2.0",
            "_view_name": "StyleView",
            "bar_color": null,
            "description_width": ""
          }
        },
        "87d2d7134e734eb68d127830994b1684": {
          "model_module": "@jupyter-widgets/controls",
          "model_module_version": "1.5.0",
          "model_name": "ProgressStyleModel",
          "state": {
            "_model_module": "@jupyter-widgets/controls",
            "_model_module_version": "1.5.0",
            "_model_name": "ProgressStyleModel",
            "_view_count": null,
            "_view_module": "@jupyter-widgets/base",
            "_view_module_version": "1.2.0",
            "_view_name": "StyleView",
            "bar_color": null,
            "description_width": ""
          }
        },
        "8f1746accd4145e29b12a85549647249": {
          "model_module": "@jupyter-widgets/controls",
          "model_module_version": "1.5.0",
          "model_name": "DescriptionStyleModel",
          "state": {
            "_model_module": "@jupyter-widgets/controls",
            "_model_module_version": "1.5.0",
            "_model_name": "DescriptionStyleModel",
            "_view_count": null,
            "_view_module": "@jupyter-widgets/base",
            "_view_module_version": "1.2.0",
            "_view_name": "StyleView",
            "description_width": ""
          }
        },
        "94873014bf24438f81905f51191b3225": {
          "model_module": "@jupyter-widgets/base",
          "model_module_version": "1.2.0",
          "model_name": "LayoutModel",
          "state": {
            "_model_module": "@jupyter-widgets/base",
            "_model_module_version": "1.2.0",
            "_model_name": "LayoutModel",
            "_view_count": null,
            "_view_module": "@jupyter-widgets/base",
            "_view_module_version": "1.2.0",
            "_view_name": "LayoutView",
            "align_content": null,
            "align_items": null,
            "align_self": null,
            "border": null,
            "bottom": null,
            "display": null,
            "flex": null,
            "flex_flow": null,
            "grid_area": null,
            "grid_auto_columns": null,
            "grid_auto_flow": null,
            "grid_auto_rows": null,
            "grid_column": null,
            "grid_gap": null,
            "grid_row": null,
            "grid_template_areas": null,
            "grid_template_columns": null,
            "grid_template_rows": null,
            "height": null,
            "justify_content": null,
            "justify_items": null,
            "left": null,
            "margin": null,
            "max_height": null,
            "max_width": null,
            "min_height": null,
            "min_width": null,
            "object_fit": null,
            "object_position": null,
            "order": null,
            "overflow": null,
            "overflow_x": null,
            "overflow_y": null,
            "padding": null,
            "right": null,
            "top": null,
            "visibility": null,
            "width": null
          }
        },
        "952e72f9a90a4e8d9c9c82075640e3b2": {
          "model_module": "@jupyter-widgets/controls",
          "model_module_version": "1.5.0",
          "model_name": "HBoxModel",
          "state": {
            "_dom_classes": [],
            "_model_module": "@jupyter-widgets/controls",
            "_model_module_version": "1.5.0",
            "_model_name": "HBoxModel",
            "_view_count": null,
            "_view_module": "@jupyter-widgets/controls",
            "_view_module_version": "1.5.0",
            "_view_name": "HBoxView",
            "box_style": "",
            "children": [
              "IPY_MODEL_b86b1d18e5984e809ab62f27b8025034",
              "IPY_MODEL_e6dec7ff4e1846d19e14a47bf9a61575",
              "IPY_MODEL_e3fa1caa1a7940f0a883f43af7ffe434"
            ],
            "layout": "IPY_MODEL_4f8f37d1d1664efb89f56dc329e7230e"
          }
        },
        "974df3880b9941c99e99de4608abe979": {
          "model_module": "@jupyter-widgets/controls",
          "model_module_version": "1.5.0",
          "model_name": "DescriptionStyleModel",
          "state": {
            "_model_module": "@jupyter-widgets/controls",
            "_model_module_version": "1.5.0",
            "_model_name": "DescriptionStyleModel",
            "_view_count": null,
            "_view_module": "@jupyter-widgets/base",
            "_view_module_version": "1.2.0",
            "_view_name": "StyleView",
            "description_width": ""
          }
        },
        "9810beb9fc544bccbbf5f9b75f80135b": {
          "model_module": "@jupyter-widgets/controls",
          "model_module_version": "1.5.0",
          "model_name": "DescriptionStyleModel",
          "state": {
            "_model_module": "@jupyter-widgets/controls",
            "_model_module_version": "1.5.0",
            "_model_name": "DescriptionStyleModel",
            "_view_count": null,
            "_view_module": "@jupyter-widgets/base",
            "_view_module_version": "1.2.0",
            "_view_name": "StyleView",
            "description_width": ""
          }
        },
        "981e5ae807274933b0499b779981a62d": {
          "model_module": "@jupyter-widgets/controls",
          "model_module_version": "1.5.0",
          "model_name": "ProgressStyleModel",
          "state": {
            "_model_module": "@jupyter-widgets/controls",
            "_model_module_version": "1.5.0",
            "_model_name": "ProgressStyleModel",
            "_view_count": null,
            "_view_module": "@jupyter-widgets/base",
            "_view_module_version": "1.2.0",
            "_view_name": "StyleView",
            "bar_color": null,
            "description_width": ""
          }
        },
        "99de9d7ce70b46418ea889bbe1c309ac": {
          "model_module": "@jupyter-widgets/base",
          "model_module_version": "1.2.0",
          "model_name": "LayoutModel",
          "state": {
            "_model_module": "@jupyter-widgets/base",
            "_model_module_version": "1.2.0",
            "_model_name": "LayoutModel",
            "_view_count": null,
            "_view_module": "@jupyter-widgets/base",
            "_view_module_version": "1.2.0",
            "_view_name": "LayoutView",
            "align_content": null,
            "align_items": null,
            "align_self": null,
            "border": null,
            "bottom": null,
            "display": null,
            "flex": null,
            "flex_flow": null,
            "grid_area": null,
            "grid_auto_columns": null,
            "grid_auto_flow": null,
            "grid_auto_rows": null,
            "grid_column": null,
            "grid_gap": null,
            "grid_row": null,
            "grid_template_areas": null,
            "grid_template_columns": null,
            "grid_template_rows": null,
            "height": null,
            "justify_content": null,
            "justify_items": null,
            "left": null,
            "margin": null,
            "max_height": null,
            "max_width": null,
            "min_height": null,
            "min_width": null,
            "object_fit": null,
            "object_position": null,
            "order": null,
            "overflow": null,
            "overflow_x": null,
            "overflow_y": null,
            "padding": null,
            "right": null,
            "top": null,
            "visibility": null,
            "width": null
          }
        },
        "9f5b892ea34f4c1d97d446c76b0862eb": {
          "model_module": "@jupyter-widgets/controls",
          "model_module_version": "1.5.0",
          "model_name": "HTMLModel",
          "state": {
            "_dom_classes": [],
            "_model_module": "@jupyter-widgets/controls",
            "_model_module_version": "1.5.0",
            "_model_name": "HTMLModel",
            "_view_count": null,
            "_view_module": "@jupyter-widgets/controls",
            "_view_module_version": "1.5.0",
            "_view_name": "HTMLView",
            "description": "",
            "description_tooltip": null,
            "layout": "IPY_MODEL_23e0d55c7d744e5295fa1881346ea7ec",
            "placeholder": "​",
            "style": "IPY_MODEL_2a5f6c85d0d44dc9a3446fe0c864a398",
            "value": " 1327/0 [00:00&lt;00:00, 13267.26 examples/s]"
          }
        },
        "a94c189a722a4e5e875c73a1a804c67a": {
          "model_module": "@jupyter-widgets/base",
          "model_module_version": "1.2.0",
          "model_name": "LayoutModel",
          "state": {
            "_model_module": "@jupyter-widgets/base",
            "_model_module_version": "1.2.0",
            "_model_name": "LayoutModel",
            "_view_count": null,
            "_view_module": "@jupyter-widgets/base",
            "_view_module_version": "1.2.0",
            "_view_name": "LayoutView",
            "align_content": null,
            "align_items": null,
            "align_self": null,
            "border": null,
            "bottom": null,
            "display": null,
            "flex": null,
            "flex_flow": null,
            "grid_area": null,
            "grid_auto_columns": null,
            "grid_auto_flow": null,
            "grid_auto_rows": null,
            "grid_column": null,
            "grid_gap": null,
            "grid_row": null,
            "grid_template_areas": null,
            "grid_template_columns": null,
            "grid_template_rows": null,
            "height": null,
            "justify_content": null,
            "justify_items": null,
            "left": null,
            "margin": null,
            "max_height": null,
            "max_width": null,
            "min_height": null,
            "min_width": null,
            "object_fit": null,
            "object_position": null,
            "order": null,
            "overflow": null,
            "overflow_x": null,
            "overflow_y": null,
            "padding": null,
            "right": null,
            "top": null,
            "visibility": null,
            "width": null
          }
        },
        "ac863ec377ef44599ce0c1fc1118bb0d": {
          "model_module": "@jupyter-widgets/controls",
          "model_module_version": "1.5.0",
          "model_name": "DescriptionStyleModel",
          "state": {
            "_model_module": "@jupyter-widgets/controls",
            "_model_module_version": "1.5.0",
            "_model_name": "DescriptionStyleModel",
            "_view_count": null,
            "_view_module": "@jupyter-widgets/base",
            "_view_module_version": "1.2.0",
            "_view_name": "StyleView",
            "description_width": ""
          }
        },
        "af7a632c91c84f5cad2a1107273b2757": {
          "model_module": "@jupyter-widgets/controls",
          "model_module_version": "1.5.0",
          "model_name": "ProgressStyleModel",
          "state": {
            "_model_module": "@jupyter-widgets/controls",
            "_model_module_version": "1.5.0",
            "_model_name": "ProgressStyleModel",
            "_view_count": null,
            "_view_module": "@jupyter-widgets/base",
            "_view_module_version": "1.2.0",
            "_view_name": "StyleView",
            "bar_color": null,
            "description_width": ""
          }
        },
        "b157143478c246cfaddbd839e8b5f158": {
          "model_module": "@jupyter-widgets/base",
          "model_module_version": "1.2.0",
          "model_name": "LayoutModel",
          "state": {
            "_model_module": "@jupyter-widgets/base",
            "_model_module_version": "1.2.0",
            "_model_name": "LayoutModel",
            "_view_count": null,
            "_view_module": "@jupyter-widgets/base",
            "_view_module_version": "1.2.0",
            "_view_name": "LayoutView",
            "align_content": null,
            "align_items": null,
            "align_self": null,
            "border": null,
            "bottom": null,
            "display": null,
            "flex": null,
            "flex_flow": null,
            "grid_area": null,
            "grid_auto_columns": null,
            "grid_auto_flow": null,
            "grid_auto_rows": null,
            "grid_column": null,
            "grid_gap": null,
            "grid_row": null,
            "grid_template_areas": null,
            "grid_template_columns": null,
            "grid_template_rows": null,
            "height": null,
            "justify_content": null,
            "justify_items": null,
            "left": null,
            "margin": null,
            "max_height": null,
            "max_width": null,
            "min_height": null,
            "min_width": null,
            "object_fit": null,
            "object_position": null,
            "order": null,
            "overflow": null,
            "overflow_x": null,
            "overflow_y": null,
            "padding": null,
            "right": null,
            "top": null,
            "visibility": null,
            "width": null
          }
        },
        "b2e2c875e7b642b289d2d0c9cb57beb6": {
          "model_module": "@jupyter-widgets/base",
          "model_module_version": "1.2.0",
          "model_name": "LayoutModel",
          "state": {
            "_model_module": "@jupyter-widgets/base",
            "_model_module_version": "1.2.0",
            "_model_name": "LayoutModel",
            "_view_count": null,
            "_view_module": "@jupyter-widgets/base",
            "_view_module_version": "1.2.0",
            "_view_name": "LayoutView",
            "align_content": null,
            "align_items": null,
            "align_self": null,
            "border": null,
            "bottom": null,
            "display": null,
            "flex": null,
            "flex_flow": null,
            "grid_area": null,
            "grid_auto_columns": null,
            "grid_auto_flow": null,
            "grid_auto_rows": null,
            "grid_column": null,
            "grid_gap": null,
            "grid_row": null,
            "grid_template_areas": null,
            "grid_template_columns": null,
            "grid_template_rows": null,
            "height": null,
            "justify_content": null,
            "justify_items": null,
            "left": null,
            "margin": null,
            "max_height": null,
            "max_width": null,
            "min_height": null,
            "min_width": null,
            "object_fit": null,
            "object_position": null,
            "order": null,
            "overflow": null,
            "overflow_x": null,
            "overflow_y": null,
            "padding": null,
            "right": null,
            "top": null,
            "visibility": null,
            "width": null
          }
        },
        "b34580cc291d467da26b8f20717475ed": {
          "model_module": "@jupyter-widgets/base",
          "model_module_version": "1.2.0",
          "model_name": "LayoutModel",
          "state": {
            "_model_module": "@jupyter-widgets/base",
            "_model_module_version": "1.2.0",
            "_model_name": "LayoutModel",
            "_view_count": null,
            "_view_module": "@jupyter-widgets/base",
            "_view_module_version": "1.2.0",
            "_view_name": "LayoutView",
            "align_content": null,
            "align_items": null,
            "align_self": null,
            "border": null,
            "bottom": null,
            "display": null,
            "flex": null,
            "flex_flow": null,
            "grid_area": null,
            "grid_auto_columns": null,
            "grid_auto_flow": null,
            "grid_auto_rows": null,
            "grid_column": null,
            "grid_gap": null,
            "grid_row": null,
            "grid_template_areas": null,
            "grid_template_columns": null,
            "grid_template_rows": null,
            "height": null,
            "justify_content": null,
            "justify_items": null,
            "left": null,
            "margin": null,
            "max_height": null,
            "max_width": null,
            "min_height": null,
            "min_width": null,
            "object_fit": null,
            "object_position": null,
            "order": null,
            "overflow": null,
            "overflow_x": null,
            "overflow_y": null,
            "padding": null,
            "right": null,
            "top": null,
            "visibility": null,
            "width": null
          }
        },
        "b3e48a1f7feb47be9b253518c72bc241": {
          "model_module": "@jupyter-widgets/base",
          "model_module_version": "1.2.0",
          "model_name": "LayoutModel",
          "state": {
            "_model_module": "@jupyter-widgets/base",
            "_model_module_version": "1.2.0",
            "_model_name": "LayoutModel",
            "_view_count": null,
            "_view_module": "@jupyter-widgets/base",
            "_view_module_version": "1.2.0",
            "_view_name": "LayoutView",
            "align_content": null,
            "align_items": null,
            "align_self": null,
            "border": null,
            "bottom": null,
            "display": null,
            "flex": null,
            "flex_flow": null,
            "grid_area": null,
            "grid_auto_columns": null,
            "grid_auto_flow": null,
            "grid_auto_rows": null,
            "grid_column": null,
            "grid_gap": null,
            "grid_row": null,
            "grid_template_areas": null,
            "grid_template_columns": null,
            "grid_template_rows": null,
            "height": null,
            "justify_content": null,
            "justify_items": null,
            "left": null,
            "margin": null,
            "max_height": null,
            "max_width": null,
            "min_height": null,
            "min_width": null,
            "object_fit": null,
            "object_position": null,
            "order": null,
            "overflow": null,
            "overflow_x": null,
            "overflow_y": null,
            "padding": null,
            "right": null,
            "top": null,
            "visibility": null,
            "width": "20px"
          }
        },
        "b6d21c11d4de461393dc9fc44dcac13b": {
          "model_module": "@jupyter-widgets/base",
          "model_module_version": "1.2.0",
          "model_name": "LayoutModel",
          "state": {
            "_model_module": "@jupyter-widgets/base",
            "_model_module_version": "1.2.0",
            "_model_name": "LayoutModel",
            "_view_count": null,
            "_view_module": "@jupyter-widgets/base",
            "_view_module_version": "1.2.0",
            "_view_name": "LayoutView",
            "align_content": null,
            "align_items": null,
            "align_self": null,
            "border": null,
            "bottom": null,
            "display": null,
            "flex": null,
            "flex_flow": null,
            "grid_area": null,
            "grid_auto_columns": null,
            "grid_auto_flow": null,
            "grid_auto_rows": null,
            "grid_column": null,
            "grid_gap": null,
            "grid_row": null,
            "grid_template_areas": null,
            "grid_template_columns": null,
            "grid_template_rows": null,
            "height": null,
            "justify_content": null,
            "justify_items": null,
            "left": null,
            "margin": null,
            "max_height": null,
            "max_width": null,
            "min_height": null,
            "min_width": null,
            "object_fit": null,
            "object_position": null,
            "order": null,
            "overflow": null,
            "overflow_x": null,
            "overflow_y": null,
            "padding": null,
            "right": null,
            "top": null,
            "visibility": null,
            "width": null
          }
        },
        "b86b1d18e5984e809ab62f27b8025034": {
          "model_module": "@jupyter-widgets/controls",
          "model_module_version": "1.5.0",
          "model_name": "HTMLModel",
          "state": {
            "_dom_classes": [],
            "_model_module": "@jupyter-widgets/controls",
            "_model_module_version": "1.5.0",
            "_model_name": "HTMLModel",
            "_view_count": null,
            "_view_module": "@jupyter-widgets/controls",
            "_view_module_version": "1.5.0",
            "_view_name": "HTMLView",
            "description": "",
            "description_tooltip": null,
            "layout": "IPY_MODEL_f91aca6ef7324689907d15e5480be978",
            "placeholder": "​",
            "style": "IPY_MODEL_2dfcad90e7aa45fd815b59c4d9eb4ced",
            "value": "Downloading: "
          }
        },
        "bc13600a16c443e5be009b87daaed472": {
          "model_module": "@jupyter-widgets/controls",
          "model_module_version": "1.5.0",
          "model_name": "FloatProgressModel",
          "state": {
            "_dom_classes": [],
            "_model_module": "@jupyter-widgets/controls",
            "_model_module_version": "1.5.0",
            "_model_name": "FloatProgressModel",
            "_view_count": null,
            "_view_module": "@jupyter-widgets/controls",
            "_view_module_version": "1.5.0",
            "_view_name": "ProgressView",
            "bar_style": "info",
            "description": "",
            "description_tooltip": null,
            "layout": "IPY_MODEL_b3e48a1f7feb47be9b253518c72bc241",
            "max": 1,
            "min": 0,
            "orientation": "horizontal",
            "style": "IPY_MODEL_13270aa1c8884df2a9e0182913f52a07",
            "value": 1
          }
        },
        "c09eb6b1889e4b20992cfab1bf4f4ba7": {
          "model_module": "@jupyter-widgets/controls",
          "model_module_version": "1.5.0",
          "model_name": "HTMLModel",
          "state": {
            "_dom_classes": [],
            "_model_module": "@jupyter-widgets/controls",
            "_model_module_version": "1.5.0",
            "_model_name": "HTMLModel",
            "_view_count": null,
            "_view_module": "@jupyter-widgets/controls",
            "_view_module_version": "1.5.0",
            "_view_name": "HTMLView",
            "description": "",
            "description_tooltip": null,
            "layout": "IPY_MODEL_fb61f8ebeef443c8b1cedc5105b2b603",
            "placeholder": "​",
            "style": "IPY_MODEL_2b30f1d47c5a4d49a44bbf2bc4958a08",
            "value": ""
          }
        },
        "c2fac82626c544fc827db212c1c09c95": {
          "model_module": "@jupyter-widgets/controls",
          "model_module_version": "1.5.0",
          "model_name": "DescriptionStyleModel",
          "state": {
            "_model_module": "@jupyter-widgets/controls",
            "_model_module_version": "1.5.0",
            "_model_name": "DescriptionStyleModel",
            "_view_count": null,
            "_view_module": "@jupyter-widgets/base",
            "_view_module_version": "1.2.0",
            "_view_name": "StyleView",
            "description_width": ""
          }
        },
        "c3c51ce1dd1c4eaba3dedaac95b8c8ba": {
          "model_module": "@jupyter-widgets/controls",
          "model_module_version": "1.5.0",
          "model_name": "HTMLModel",
          "state": {
            "_dom_classes": [],
            "_model_module": "@jupyter-widgets/controls",
            "_model_module_version": "1.5.0",
            "_model_name": "HTMLModel",
            "_view_count": null,
            "_view_module": "@jupyter-widgets/controls",
            "_view_module_version": "1.5.0",
            "_view_name": "HTMLView",
            "description": "",
            "description_tooltip": null,
            "layout": "IPY_MODEL_61ee98ff2e7348c5b8d97969fb73096e",
            "placeholder": "​",
            "style": "IPY_MODEL_579c275e7a0446d49b3909050844b74e",
            "value": " 66386/0 [00:02&lt;00:00, 28203.08 examples/s]"
          }
        },
        "c53da199e1c745be97b0d9c166a7847c": {
          "model_module": "@jupyter-widgets/controls",
          "model_module_version": "1.5.0",
          "model_name": "HTMLModel",
          "state": {
            "_dom_classes": [],
            "_model_module": "@jupyter-widgets/controls",
            "_model_module_version": "1.5.0",
            "_model_name": "HTMLModel",
            "_view_count": null,
            "_view_module": "@jupyter-widgets/controls",
            "_view_module_version": "1.5.0",
            "_view_name": "HTMLView",
            "description": "",
            "description_tooltip": null,
            "layout": "IPY_MODEL_5a01a3917acf49d58179de0f1ec2e3e3",
            "placeholder": "​",
            "style": "IPY_MODEL_974df3880b9941c99e99de4608abe979",
            "value": ""
          }
        },
        "cebf8a63be1141dbbf9635158dfd81ba": {
          "model_module": "@jupyter-widgets/base",
          "model_module_version": "1.2.0",
          "model_name": "LayoutModel",
          "state": {
            "_model_module": "@jupyter-widgets/base",
            "_model_module_version": "1.2.0",
            "_model_name": "LayoutModel",
            "_view_count": null,
            "_view_module": "@jupyter-widgets/base",
            "_view_module_version": "1.2.0",
            "_view_name": "LayoutView",
            "align_content": null,
            "align_items": null,
            "align_self": null,
            "border": null,
            "bottom": null,
            "display": null,
            "flex": null,
            "flex_flow": null,
            "grid_area": null,
            "grid_auto_columns": null,
            "grid_auto_flow": null,
            "grid_auto_rows": null,
            "grid_column": null,
            "grid_gap": null,
            "grid_row": null,
            "grid_template_areas": null,
            "grid_template_columns": null,
            "grid_template_rows": null,
            "height": null,
            "justify_content": null,
            "justify_items": null,
            "left": null,
            "margin": null,
            "max_height": null,
            "max_width": null,
            "min_height": null,
            "min_width": null,
            "object_fit": null,
            "object_position": null,
            "order": null,
            "overflow": null,
            "overflow_x": null,
            "overflow_y": null,
            "padding": null,
            "right": null,
            "top": null,
            "visibility": null,
            "width": null
          }
        },
        "d1ea192839124df5b2997fcc7396dbd5": {
          "model_module": "@jupyter-widgets/controls",
          "model_module_version": "1.5.0",
          "model_name": "HTMLModel",
          "state": {
            "_dom_classes": [],
            "_model_module": "@jupyter-widgets/controls",
            "_model_module_version": "1.5.0",
            "_model_name": "HTMLModel",
            "_view_count": null,
            "_view_module": "@jupyter-widgets/controls",
            "_view_module_version": "1.5.0",
            "_view_name": "HTMLView",
            "description": "",
            "description_tooltip": null,
            "layout": "IPY_MODEL_129e0693922f44d5a4d33a70beddd645",
            "placeholder": "​",
            "style": "IPY_MODEL_c2fac82626c544fc827db212c1c09c95",
            "value": " 803M/3.02G [00:27&lt;00:52, 45.5MB/s]"
          }
        },
        "d4892c34887f431783c5af1e8e9af59d": {
          "model_module": "@jupyter-widgets/controls",
          "model_module_version": "1.5.0",
          "model_name": "ProgressStyleModel",
          "state": {
            "_model_module": "@jupyter-widgets/controls",
            "_model_module_version": "1.5.0",
            "_model_name": "ProgressStyleModel",
            "_view_count": null,
            "_view_module": "@jupyter-widgets/base",
            "_view_module_version": "1.2.0",
            "_view_name": "StyleView",
            "bar_color": null,
            "description_width": ""
          }
        },
        "dcad3edd3297417b98d2e38087d4fdb4": {
          "model_module": "@jupyter-widgets/controls",
          "model_module_version": "1.5.0",
          "model_name": "HTMLModel",
          "state": {
            "_dom_classes": [],
            "_model_module": "@jupyter-widgets/controls",
            "_model_module_version": "1.5.0",
            "_model_name": "HTMLModel",
            "_view_count": null,
            "_view_module": "@jupyter-widgets/controls",
            "_view_module_version": "1.5.0",
            "_view_name": "HTMLView",
            "description": "",
            "description_tooltip": null,
            "layout": "IPY_MODEL_e313642072a94e21b4b195f2e573c96b",
            "placeholder": "​",
            "style": "IPY_MODEL_54370fa03aa54929bc8388bb00379af5",
            "value": ""
          }
        },
        "dff0a3c3b7ef4829a3bacf977fc9af7f": {
          "model_module": "@jupyter-widgets/base",
          "model_module_version": "1.2.0",
          "model_name": "LayoutModel",
          "state": {
            "_model_module": "@jupyter-widgets/base",
            "_model_module_version": "1.2.0",
            "_model_name": "LayoutModel",
            "_view_count": null,
            "_view_module": "@jupyter-widgets/base",
            "_view_module_version": "1.2.0",
            "_view_name": "LayoutView",
            "align_content": null,
            "align_items": null,
            "align_self": null,
            "border": null,
            "bottom": null,
            "display": null,
            "flex": null,
            "flex_flow": null,
            "grid_area": null,
            "grid_auto_columns": null,
            "grid_auto_flow": null,
            "grid_auto_rows": null,
            "grid_column": null,
            "grid_gap": null,
            "grid_row": null,
            "grid_template_areas": null,
            "grid_template_columns": null,
            "grid_template_rows": null,
            "height": null,
            "justify_content": null,
            "justify_items": null,
            "left": null,
            "margin": null,
            "max_height": null,
            "max_width": null,
            "min_height": null,
            "min_width": null,
            "object_fit": null,
            "object_position": null,
            "order": null,
            "overflow": null,
            "overflow_x": null,
            "overflow_y": null,
            "padding": null,
            "right": null,
            "top": null,
            "visibility": null,
            "width": null
          }
        },
        "e1e05febc1564211b431b22b5bc8531a": {
          "model_module": "@jupyter-widgets/controls",
          "model_module_version": "1.5.0",
          "model_name": "ProgressStyleModel",
          "state": {
            "_model_module": "@jupyter-widgets/controls",
            "_model_module_version": "1.5.0",
            "_model_name": "ProgressStyleModel",
            "_view_count": null,
            "_view_module": "@jupyter-widgets/base",
            "_view_module_version": "1.2.0",
            "_view_name": "StyleView",
            "bar_color": null,
            "description_width": ""
          }
        },
        "e28a49b391bd4c5bb121b55f0007734f": {
          "model_module": "@jupyter-widgets/controls",
          "model_module_version": "1.5.0",
          "model_name": "HTMLModel",
          "state": {
            "_dom_classes": [],
            "_model_module": "@jupyter-widgets/controls",
            "_model_module_version": "1.5.0",
            "_model_name": "HTMLModel",
            "_view_count": null,
            "_view_module": "@jupyter-widgets/controls",
            "_view_module_version": "1.5.0",
            "_view_name": "HTMLView",
            "description": "",
            "description_tooltip": null,
            "layout": "IPY_MODEL_6e5e8d9555d84e55844b23b3d52b976f",
            "placeholder": "​",
            "style": "IPY_MODEL_60ce24be79264fcd89dd47059e33e174",
            "value": " 28.8k/? [00:00&lt;00:00, 976kB/s]"
          }
        },
        "e313642072a94e21b4b195f2e573c96b": {
          "model_module": "@jupyter-widgets/base",
          "model_module_version": "1.2.0",
          "model_name": "LayoutModel",
          "state": {
            "_model_module": "@jupyter-widgets/base",
            "_model_module_version": "1.2.0",
            "_model_name": "LayoutModel",
            "_view_count": null,
            "_view_module": "@jupyter-widgets/base",
            "_view_module_version": "1.2.0",
            "_view_name": "LayoutView",
            "align_content": null,
            "align_items": null,
            "align_self": null,
            "border": null,
            "bottom": null,
            "display": null,
            "flex": null,
            "flex_flow": null,
            "grid_area": null,
            "grid_auto_columns": null,
            "grid_auto_flow": null,
            "grid_auto_rows": null,
            "grid_column": null,
            "grid_gap": null,
            "grid_row": null,
            "grid_template_areas": null,
            "grid_template_columns": null,
            "grid_template_rows": null,
            "height": null,
            "justify_content": null,
            "justify_items": null,
            "left": null,
            "margin": null,
            "max_height": null,
            "max_width": null,
            "min_height": null,
            "min_width": null,
            "object_fit": null,
            "object_position": null,
            "order": null,
            "overflow": null,
            "overflow_x": null,
            "overflow_y": null,
            "padding": null,
            "right": null,
            "top": null,
            "visibility": null,
            "width": null
          }
        },
        "e3fa1caa1a7940f0a883f43af7ffe434": {
          "model_module": "@jupyter-widgets/controls",
          "model_module_version": "1.5.0",
          "model_name": "HTMLModel",
          "state": {
            "_dom_classes": [],
            "_model_module": "@jupyter-widgets/controls",
            "_model_module_version": "1.5.0",
            "_model_name": "HTMLModel",
            "_view_count": null,
            "_view_module": "@jupyter-widgets/controls",
            "_view_module_version": "1.5.0",
            "_view_name": "HTMLView",
            "description": "",
            "description_tooltip": null,
            "layout": "IPY_MODEL_5761d8d3d44540b2b172357b462bd051",
            "placeholder": "​",
            "style": "IPY_MODEL_7925891d60c1461d87eee7031f2825ab",
            "value": " 28.7k/? [00:00&lt;00:00, 982kB/s]"
          }
        },
        "e4bf5d61c0824426b67c8b853291db7d": {
          "model_module": "@jupyter-widgets/controls",
          "model_module_version": "1.5.0",
          "model_name": "DescriptionStyleModel",
          "state": {
            "_model_module": "@jupyter-widgets/controls",
            "_model_module_version": "1.5.0",
            "_model_name": "DescriptionStyleModel",
            "_view_count": null,
            "_view_module": "@jupyter-widgets/base",
            "_view_module_version": "1.2.0",
            "_view_name": "StyleView",
            "description_width": ""
          }
        },
        "e4ff41ea7e124074bb7d35741c1989bc": {
          "model_module": "@jupyter-widgets/base",
          "model_module_version": "1.2.0",
          "model_name": "LayoutModel",
          "state": {
            "_model_module": "@jupyter-widgets/base",
            "_model_module_version": "1.2.0",
            "_model_name": "LayoutModel",
            "_view_count": null,
            "_view_module": "@jupyter-widgets/base",
            "_view_module_version": "1.2.0",
            "_view_name": "LayoutView",
            "align_content": null,
            "align_items": null,
            "align_self": null,
            "border": null,
            "bottom": null,
            "display": null,
            "flex": null,
            "flex_flow": null,
            "grid_area": null,
            "grid_auto_columns": null,
            "grid_auto_flow": null,
            "grid_auto_rows": null,
            "grid_column": null,
            "grid_gap": null,
            "grid_row": null,
            "grid_template_areas": null,
            "grid_template_columns": null,
            "grid_template_rows": null,
            "height": null,
            "justify_content": null,
            "justify_items": null,
            "left": null,
            "margin": null,
            "max_height": null,
            "max_width": null,
            "min_height": null,
            "min_width": null,
            "object_fit": null,
            "object_position": null,
            "order": null,
            "overflow": null,
            "overflow_x": null,
            "overflow_y": null,
            "padding": null,
            "right": null,
            "top": null,
            "visibility": null,
            "width": null
          }
        },
        "e5617239daa54ef6829195429b33ec0f": {
          "model_module": "@jupyter-widgets/controls",
          "model_module_version": "1.5.0",
          "model_name": "FloatProgressModel",
          "state": {
            "_dom_classes": [],
            "_model_module": "@jupyter-widgets/controls",
            "_model_module_version": "1.5.0",
            "_model_name": "FloatProgressModel",
            "_view_count": null,
            "_view_module": "@jupyter-widgets/controls",
            "_view_module_version": "1.5.0",
            "_view_name": "ProgressView",
            "bar_style": "info",
            "description": "",
            "description_tooltip": null,
            "layout": "IPY_MODEL_163ac988601343b1b5bc1cc8f1413ec3",
            "max": 1,
            "min": 0,
            "orientation": "horizontal",
            "style": "IPY_MODEL_e1e05febc1564211b431b22b5bc8531a",
            "value": 1
          }
        },
        "e6dec7ff4e1846d19e14a47bf9a61575": {
          "model_module": "@jupyter-widgets/controls",
          "model_module_version": "1.5.0",
          "model_name": "FloatProgressModel",
          "state": {
            "_dom_classes": [],
            "_model_module": "@jupyter-widgets/controls",
            "_model_module_version": "1.5.0",
            "_model_name": "FloatProgressModel",
            "_view_count": null,
            "_view_module": "@jupyter-widgets/controls",
            "_view_module_version": "1.5.0",
            "_view_name": "ProgressView",
            "bar_style": "success",
            "description": "",
            "description_tooltip": null,
            "layout": "IPY_MODEL_6fbb2d896beb4a6ebaeffdc5b22d5f7e",
            "max": 4473,
            "min": 0,
            "orientation": "horizontal",
            "style": "IPY_MODEL_d4892c34887f431783c5af1e8e9af59d",
            "value": 4473
          }
        },
        "ed25109b7ac74b1285324d1cfd1b9d7d": {
          "model_module": "@jupyter-widgets/controls",
          "model_module_version": "1.5.0",
          "model_name": "HBoxModel",
          "state": {
            "_dom_classes": [],
            "_model_module": "@jupyter-widgets/controls",
            "_model_module_version": "1.5.0",
            "_model_name": "HBoxModel",
            "_view_count": null,
            "_view_module": "@jupyter-widgets/controls",
            "_view_module_version": "1.5.0",
            "_view_name": "HBoxView",
            "box_style": "",
            "children": [
              "IPY_MODEL_c53da199e1c745be97b0d9c166a7847c",
              "IPY_MODEL_bc13600a16c443e5be009b87daaed472",
              "IPY_MODEL_c3c51ce1dd1c4eaba3dedaac95b8c8ba"
            ],
            "layout": "IPY_MODEL_e4ff41ea7e124074bb7d35741c1989bc"
          }
        },
        "f2848975fec54f839c20a993d384216a": {
          "model_module": "@jupyter-widgets/controls",
          "model_module_version": "1.5.0",
          "model_name": "HTMLModel",
          "state": {
            "_dom_classes": [],
            "_model_module": "@jupyter-widgets/controls",
            "_model_module_version": "1.5.0",
            "_model_name": "HTMLModel",
            "_view_count": null,
            "_view_module": "@jupyter-widgets/controls",
            "_view_module_version": "1.5.0",
            "_view_name": "HTMLView",
            "description": "",
            "description_tooltip": null,
            "layout": "IPY_MODEL_cebf8a63be1141dbbf9635158dfd81ba",
            "placeholder": "​",
            "style": "IPY_MODEL_2bc364ad29024b9fa63355db7c4622f7",
            "value": " 3/3 [00:00&lt;00:00, 74.15it/s]"
          }
        },
        "f91aca6ef7324689907d15e5480be978": {
          "model_module": "@jupyter-widgets/base",
          "model_module_version": "1.2.0",
          "model_name": "LayoutModel",
          "state": {
            "_model_module": "@jupyter-widgets/base",
            "_model_module_version": "1.2.0",
            "_model_name": "LayoutModel",
            "_view_count": null,
            "_view_module": "@jupyter-widgets/base",
            "_view_module_version": "1.2.0",
            "_view_name": "LayoutView",
            "align_content": null,
            "align_items": null,
            "align_self": null,
            "border": null,
            "bottom": null,
            "display": null,
            "flex": null,
            "flex_flow": null,
            "grid_area": null,
            "grid_auto_columns": null,
            "grid_auto_flow": null,
            "grid_auto_rows": null,
            "grid_column": null,
            "grid_gap": null,
            "grid_row": null,
            "grid_template_areas": null,
            "grid_template_columns": null,
            "grid_template_rows": null,
            "height": null,
            "justify_content": null,
            "justify_items": null,
            "left": null,
            "margin": null,
            "max_height": null,
            "max_width": null,
            "min_height": null,
            "min_width": null,
            "object_fit": null,
            "object_position": null,
            "order": null,
            "overflow": null,
            "overflow_x": null,
            "overflow_y": null,
            "padding": null,
            "right": null,
            "top": null,
            "visibility": null,
            "width": null
          }
        },
        "f99f7f2c43044049a80e7308d775256e": {
          "model_module": "@jupyter-widgets/controls",
          "model_module_version": "1.5.0",
          "model_name": "DescriptionStyleModel",
          "state": {
            "_model_module": "@jupyter-widgets/controls",
            "_model_module_version": "1.5.0",
            "_model_name": "DescriptionStyleModel",
            "_view_count": null,
            "_view_module": "@jupyter-widgets/base",
            "_view_module_version": "1.2.0",
            "_view_name": "StyleView",
            "description_width": ""
          }
        },
        "f9fc4f55b6c4484498c1aef56fee1bb3": {
          "model_module": "@jupyter-widgets/controls",
          "model_module_version": "1.5.0",
          "model_name": "HBoxModel",
          "state": {
            "_dom_classes": [],
            "_model_module": "@jupyter-widgets/controls",
            "_model_module_version": "1.5.0",
            "_model_name": "HBoxModel",
            "_view_count": null,
            "_view_module": "@jupyter-widgets/controls",
            "_view_module_version": "1.5.0",
            "_view_name": "HBoxView",
            "box_style": "",
            "children": [
              "IPY_MODEL_6b13de94ac774603bc7510f49aefa623",
              "IPY_MODEL_69f136c9b8fe41749b7874a43ac52ea1",
              "IPY_MODEL_00a3adfccc124a0f978651552c4def09"
            ],
            "layout": "IPY_MODEL_64cb66b6bb134b888a91d9bfa769e820"
          }
        },
        "fb61f8ebeef443c8b1cedc5105b2b603": {
          "model_module": "@jupyter-widgets/base",
          "model_module_version": "1.2.0",
          "model_name": "LayoutModel",
          "state": {
            "_model_module": "@jupyter-widgets/base",
            "_model_module_version": "1.2.0",
            "_model_name": "LayoutModel",
            "_view_count": null,
            "_view_module": "@jupyter-widgets/base",
            "_view_module_version": "1.2.0",
            "_view_name": "LayoutView",
            "align_content": null,
            "align_items": null,
            "align_self": null,
            "border": null,
            "bottom": null,
            "display": null,
            "flex": null,
            "flex_flow": null,
            "grid_area": null,
            "grid_auto_columns": null,
            "grid_auto_flow": null,
            "grid_auto_rows": null,
            "grid_column": null,
            "grid_gap": null,
            "grid_row": null,
            "grid_template_areas": null,
            "grid_template_columns": null,
            "grid_template_rows": null,
            "height": null,
            "justify_content": null,
            "justify_items": null,
            "left": null,
            "margin": null,
            "max_height": null,
            "max_width": null,
            "min_height": null,
            "min_width": null,
            "object_fit": null,
            "object_position": null,
            "order": null,
            "overflow": null,
            "overflow_x": null,
            "overflow_y": null,
            "padding": null,
            "right": null,
            "top": null,
            "visibility": null,
            "width": null
          }
        },
        "feaf5da34df645c09945e980bf99c95b": {
          "model_module": "@jupyter-widgets/controls",
          "model_module_version": "1.5.0",
          "model_name": "DescriptionStyleModel",
          "state": {
            "_model_module": "@jupyter-widgets/controls",
            "_model_module_version": "1.5.0",
            "_model_name": "DescriptionStyleModel",
            "_view_count": null,
            "_view_module": "@jupyter-widgets/base",
            "_view_module_version": "1.2.0",
            "_view_name": "StyleView",
            "description_width": ""
          }
        }
      }
    }
  },
  "nbformat": 4,
  "nbformat_minor": 0
}
