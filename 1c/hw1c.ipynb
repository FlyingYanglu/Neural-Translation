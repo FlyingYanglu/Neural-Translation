{
  "cells": [
    {
      "cell_type": "markdown",
      "metadata": {
        "id": "430w1zf5CD5B"
      },
      "source": [
        "## Homework 1c: Large Language Model Inference\n",
        "\n",
        "Modern language models are often trained on hundreds of gigabytes of data and can't be easily replicated as a course project. In this assignment, we'll show how to use existing pre-trained transformer language models with the Python [`transformers` library](https://huggingface.co/docs/transformers/index)."
      ]
    },
    {
      "cell_type": "code",
      "execution_count": 1,
      "metadata": {
        "id": "rJaHQbVKB97u"
      },
      "outputs": [],
      "source": [
        "# This block handles some basic setup and data loading.  \n",
        "# You shouldn't need to edit this, but if you want to \n",
        "# import other standard python packages, that is fine.\n",
        "\n",
        "# imports\n",
        "from collections import defaultdict, Counter\n",
        "import numpy as np\n",
        "import math\n",
        "import matplotlib.pyplot as plt\n",
        "import tqdm\n",
        "import random\n",
        "import pdb\n",
        "\n",
        "import torch\n",
        "from torch import nn\n",
        "import torch.nn.functional as F\n",
        "import torchtext.legacy as torchtext\n",
        "\n",
        "# download and load the data\n",
        "text_field = torchtext.data.Field()\n",
        "datasets = torchtext.datasets.WikiText2.splits(root='.', text_field=text_field)\n",
        "train_dataset, validation_dataset, test_dataset = datasets\n",
        "\n",
        "text_field.build_vocab(train_dataset, validation_dataset, test_dataset)\n",
        "vocab = text_field.vocab\n",
        "vocab_size = len(vocab)\n",
        "\n",
        "train_text = train_dataset.examples[0].text # a list of tokens (strings)\n",
        "validation_text = validation_dataset.examples[0].text"
      ]
    },
    {
      "cell_type": "markdown",
      "metadata": {
        "id": "WBfwge86hzqA"
      },
      "source": [
        "### Inference with Autoregressive Models\n",
        "\n",
        "We'll start by computing word probabilities under the autoregressive [GPT-2 model](https://cdn.openai.com/better-language-models/language_models_are_unsupervised_multitask_learners.pdf). To do so, we'll install the `transformers` library, which isn't natively installed on Google Colaboratory. We'll import a pre-trained `GPT2LMHeadModel` and its corresponding tokenizer, `GPT2TokenizerFast`. Note that without additional training, you can't freely mix-and-match models and their corresponding tokenizers! We aren't using the largest available models, such as [GPT-3](https://arxiv.org/abs/2005.14165), because they do not provide free inference. Larger freely available models such as [GPT-J](https://huggingface.co/EleutherAI/gpt-j-6B) do exist though, and you should feel free to play around with them."
      ]
    },
    {
      "cell_type": "code",
      "execution_count": 2,
      "metadata": {
        "id": "4YSzh54mh4VP"
      },
      "outputs": [
        {
          "name": "stdout",
          "output_type": "stream",
          "text": [
            "Requirement already satisfied: transformers in c:\\users\\yangh\\anaconda3\\envs\\gluon\\lib\\site-packages (4.15.0)\n",
            "Requirement already satisfied: pyyaml>=5.1 in c:\\users\\yangh\\anaconda3\\envs\\gluon\\lib\\site-packages (from transformers) (6.0)\n",
            "Requirement already satisfied: numpy>=1.17 in c:\\users\\yangh\\anaconda3\\envs\\gluon\\lib\\site-packages (from transformers) (1.19.5)\n",
            "Requirement already satisfied: sacremoses in c:\\users\\yangh\\anaconda3\\envs\\gluon\\lib\\site-packages (from transformers) (0.0.47)\n",
            "Requirement already satisfied: importlib-metadata in c:\\users\\yangh\\anaconda3\\envs\\gluon\\lib\\site-packages (from transformers) (4.6.4)\n",
            "Requirement already satisfied: filelock in c:\\users\\yangh\\anaconda3\\envs\\gluon\\lib\\site-packages (from transformers) (3.4.1)\n",
            "Requirement already satisfied: tqdm>=4.27 in c:\\users\\yangh\\anaconda3\\envs\\gluon\\lib\\site-packages (from transformers) (4.62.3)\n",
            "Requirement already satisfied: regex!=2019.12.17 in c:\\users\\yangh\\anaconda3\\envs\\gluon\\lib\\site-packages (from transformers) (2022.1.18)\n",
            "Requirement already satisfied: huggingface-hub<1.0,>=0.1.0 in c:\\users\\yangh\\anaconda3\\envs\\gluon\\lib\\site-packages (from transformers) (0.4.0)\n",
            "Requirement already satisfied: dataclasses in c:\\users\\yangh\\anaconda3\\envs\\gluon\\lib\\site-packages (from transformers) (0.8)\n",
            "Requirement already satisfied: packaging>=20.0 in c:\\users\\yangh\\anaconda3\\envs\\gluon\\lib\\site-packages (from transformers) (21.0)\n",
            "Requirement already satisfied: tokenizers<0.11,>=0.10.1 in c:\\users\\yangh\\anaconda3\\envs\\gluon\\lib\\site-packages (from transformers) (0.10.3)\n",
            "Requirement already satisfied: requests in c:\\users\\yangh\\anaconda3\\envs\\gluon\\lib\\site-packages (from transformers) (2.18.4)\n",
            "Requirement already satisfied: typing-extensions>=3.7.4.3 in c:\\users\\yangh\\anaconda3\\envs\\gluon\\lib\\site-packages (from huggingface-hub<1.0,>=0.1.0->transformers) (3.10.0.0)\n",
            "Requirement already satisfied: pyparsing>=2.0.2 in c:\\users\\yangh\\anaconda3\\envs\\gluon\\lib\\site-packages (from packaging>=20.0->transformers) (2.4.7)\n",
            "Requirement already satisfied: colorama in c:\\users\\yangh\\anaconda3\\envs\\gluon\\lib\\site-packages (from tqdm>=4.27->transformers) (0.4.4)\n",
            "Requirement already satisfied: zipp>=0.5 in c:\\users\\yangh\\anaconda3\\envs\\gluon\\lib\\site-packages (from importlib-metadata->transformers) (3.5.0)\n",
            "Requirement already satisfied: chardet<3.1.0,>=3.0.2 in c:\\users\\yangh\\anaconda3\\envs\\gluon\\lib\\site-packages (from requests->transformers) (3.0.4)\n",
            "Requirement already satisfied: idna<2.7,>=2.5 in c:\\users\\yangh\\anaconda3\\envs\\gluon\\lib\\site-packages (from requests->transformers) (2.6)\n",
            "Requirement already satisfied: urllib3<1.23,>=1.21.1 in c:\\users\\yangh\\anaconda3\\envs\\gluon\\lib\\site-packages (from requests->transformers) (1.22)\n",
            "Requirement already satisfied: certifi>=2017.4.17 in c:\\users\\yangh\\anaconda3\\envs\\gluon\\lib\\site-packages (from requests->transformers) (2021.5.30)\n",
            "Requirement already satisfied: joblib in c:\\users\\yangh\\anaconda3\\envs\\gluon\\lib\\site-packages (from sacremoses->transformers) (1.1.0)\n",
            "Requirement already satisfied: six in c:\\users\\yangh\\anaconda3\\envs\\gluon\\lib\\site-packages (from sacremoses->transformers) (1.16.0)\n",
            "Requirement already satisfied: click in c:\\users\\yangh\\anaconda3\\envs\\gluon\\lib\\site-packages (from sacremoses->transformers) (8.0.3)\n"
          ]
        }
      ],
      "source": [
        "!pip3 install transformers\n",
        "from transformers import GPT2LMHeadModel, GPT2TokenizerFast"
      ]
    },
    {
      "cell_type": "markdown",
      "metadata": {
        "id": "ouw5PdL-kLjk"
      },
      "source": [
        "The following code downloads model weights and can take a few minutes to run. For debugging purposes, feel free to swap out `gpt2-large` with a smaller model that downloads faster, but please submit your results using the `gpt2-large` model."
      ]
    },
    {
      "cell_type": "code",
      "execution_count": 3,
      "metadata": {
        "id": "dhN127r9h5Ly"
      },
      "outputs": [
        {
          "name": "stdout",
          "output_type": "stream",
          "text": [
            "Running on GPU\n"
          ]
        }
      ],
      "source": [
        "if torch.cuda.is_available():\n",
        "    device = \"cuda\"\n",
        "    print(\"Running on GPU\")\n",
        "else:\n",
        "    device = \"cpu\"\n",
        "    print(\"Running on CPU\")\n",
        "model = GPT2LMHeadModel.from_pretrained(\"gpt2-large\").to(device)\n",
        "tokenizer = GPT2TokenizerFast.from_pretrained(\"gpt2-large\")"
      ]
    },
    {
      "cell_type": "markdown",
      "metadata": {
        "id": "ZnIQqtT5lKfz"
      },
      "source": [
        "We'll extract the vocabulary from the tokenizer so that we can easily see the words we're dealing with:"
      ]
    },
    {
      "cell_type": "code",
      "execution_count": 4,
      "metadata": {
        "id": "KrZao3FriCVW"
      },
      "outputs": [
        {
          "name": "stderr",
          "output_type": "stream",
          "text": [
            "100%|██████████| 50257/50257 [00:00<00:00, 1932977.56it/s]\n"
          ]
        }
      ],
      "source": [
        "vocab_map = {}\n",
        "vocab = tokenizer.vocab\n",
        "for token in tqdm.tqdm(vocab):\n",
        "    idx = vocab[token]\n",
        "    vocab_map[idx] = token"
      ]
    },
    {
      "cell_type": "markdown",
      "metadata": {
        "id": "GwLlkW7BlUv3"
      },
      "source": [
        "We can use our tokenizer to convert sentences into tensors and use `vocab_map` to see what indices of these tensors correspond to. This will show which words are broken into subwords by the GPT-2 tokenizer. Note that `<|endoftext|>` is equivalent to `<eos>` in the previous notebook:"
      ]
    },
    {
      "cell_type": "code",
      "execution_count": 5,
      "metadata": {
        "id": "d7FnXT2qiukw"
      },
      "outputs": [
        {
          "name": "stdout",
          "output_type": "stream",
          "text": [
            "tensor([[50256,    40,  1842,   406,  2257, 10128]])\n",
            "['<|endoftext|>', 'I', 'Ġlove', 'ĠL', 'ST', 'Ms']\n"
          ]
        }
      ],
      "source": [
        "sentence = \"<|endoftext|>I love LSTMs\"\n",
        "encodings = tokenizer(sentence, return_tensors='pt')\n",
        "print(encodings[\"input_ids\"])\n",
        "print([vocab_map[int(idx)] for idx in encodings[\"input_ids\"][0]])"
      ]
    },
    {
      "cell_type": "markdown",
      "metadata": {
        "id": "GMHp2Y6qmTlh"
      },
      "source": [
        "As we can see from the above example, rare words like \"LSTMs\" are broken into multiple subwords by the GPT-2 tokenizer. Additionally, note that the token \"Ġ\" corresponds to a blank space, so we can reconstruct word boundaries from the tokenizer outputs. Given a sentence, we'll now use GPT-2 to compute contextual word probabilities for every word. Some hints for doing this:\n",
        "\n",
        "\n",
        "* Check the documentation for the GPT2LMHeadModel here: https://huggingface.co/docs/transformers/model_doc/gpt2#transformers.GPT2LMHeadModel\n",
        "* Begin by adding the `<|endoftext|>` token and passing the sentence into the tokenizer, as shown above\n",
        "* Compute word probabilities by taking `model(input_ids).logits`\n",
        "* Then, you'll need to `softmax` and index into the logits using `torch.gather` (the hardest part)\n",
        "* Finally, convert to word probabilities (rather than subword probabilities) using `vocab_map` and the \"Ġ\" token\n",
        "\n"
      ]
    },
    {
      "cell_type": "code",
      "execution_count": 27,
      "metadata": {
        "id": "ZMN_3N3ui5_y"
      },
      "outputs": [
        {
          "name": "stdout",
          "output_type": "stream",
          "text": [
            "The florist sent the flowers was pleased.\n",
            "torch.Size([10, 50257])\n",
            "tensor([[2.4791],\n",
            "        [9.5224],\n",
            "        [3.4257],\n",
            "        [0.3617],\n",
            "        [8.1424],\n",
            "        [2.3662],\n",
            "        [1.4056],\n",
            "        [9.1306],\n",
            "        [7.2621],\n",
            "        [2.6502]], device='cuda:0', grad_fn=<NegBackward0>)\n",
            "['<|endoftext|>', 'The', 'Ġfl', 'or', 'ist', 'Ġsent', 'Ġthe', 'Ġflowers', 'Ġwas', 'Ġpleased', '.']\n"
          ]
        },
        {
          "data": {
            "text/plain": [
              "[('The', 2.4790921211242676),\n",
              " ('Ġflorist', 13.309798449277878),\n",
              " ('Ġsent', 8.142409324645996),\n",
              " ('Ġthe', 2.3661890029907227),\n",
              " ('Ġflowers', 1.405616044998169),\n",
              " ('Ġwas', 9.130634307861328),\n",
              " ('Ġpleased.', 9.912347078323364)]"
            ]
          },
          "execution_count": 27,
          "metadata": {},
          "output_type": "execute_result"
        }
      ],
      "source": [
        "# Input: sentence (a string)\n",
        "# Output: a list of (word, probability) tuples\n",
        "#         -> word (string)\n",
        "#         -> probability (float)\n",
        "def get_gpt_probs(sentence):\n",
        "    print(sentence)\n",
        "    # YOUR CODE HERE\n",
        "    words = []\n",
        "    probs = []\n",
        "    # BEGIN SOLUTION\n",
        "    added_sentence = \"<|endoftext|>\" + sentence\n",
        "    encodings = tokenizer(added_sentence, return_tensors='pt')\n",
        "    for i in encodings:\n",
        "        encodings[i] = encodings[i].cuda()\n",
        "    idx = encodings[\"input_ids\"][0].cuda()\n",
        "    #print(idx, encodings)\n",
        "    input_id = idx[:-1]\n",
        "    output_id = idx[1:]\n",
        "    logits = model(input_id).logits\n",
        "\n",
        "    #print(logits)\n",
        "    after_softmax = torch.softmax(logits, 1)\n",
        "    #print(max(after_softmax[0]))\n",
        "    print(after_softmax.size())\n",
        "    gathered_logits = -torch.log(torch.gather(after_softmax, 1, output_id.unsqueeze(1)))\n",
        "    print(gathered_logits)\n",
        "    subword = [vocab_map[int(idx)] for idx in encodings[\"input_ids\"][0]]\n",
        "    print(subword)\n",
        "    \n",
        "    subword = subword[1:]\n",
        "\n",
        "    probs.append(gathered_logits[0].item())\n",
        "    words.append(subword[0])\n",
        "\n",
        "    for i in range(1, len(subword)):\n",
        "        prob = gathered_logits[i].item()\n",
        "\n",
        "        if subword[i][0] == \"Ġ\":\n",
        "\n",
        "            probs.append(prob)\n",
        "            words.append(subword[i])\n",
        "        else:\n",
        "            probs[-1] += prob\n",
        "            words[-1] += subword[i]\n",
        "    \n",
        "    # END SOlUTION\n",
        "    return [(word, prob) for word, prob in zip(words, probs)]\n",
        "            \n",
        "get_gpt_probs(\"The florist sent the flowers was pleased.\")"
      ]
    },
    {
      "cell_type": "code",
      "execution_count": 7,
      "metadata": {
        "id": "eGxFz88u6ZbX"
      },
      "outputs": [
        {
          "name": "stdout",
          "output_type": "stream",
          "text": [
            "torch.Size([10, 50257])\n",
            "tensor([[2.4791],\n",
            "        [9.5224],\n",
            "        [3.4257],\n",
            "        [0.3617],\n",
            "        [8.1424],\n",
            "        [2.3662],\n",
            "        [1.4056],\n",
            "        [9.1306],\n",
            "        [7.2621],\n",
            "        [2.6502]], device='cuda:0', grad_fn=<NegBackward0>)\n",
            "['<|endoftext|>', 'The', 'Ġfl', 'or', 'ist', 'Ġsent', 'Ġthe', 'Ġflowers', 'Ġwas', 'Ġpleased', '.']\n",
            "Passed\n",
            "torch.Size([5, 50257])\n",
            "tensor([[4.2261],\n",
            "        [5.0416],\n",
            "        [8.0565],\n",
            "        [6.8081],\n",
            "        [2.9924]], device='cuda:0', grad_fn=<NegBackward0>)\n",
            "['<|endoftext|>', 'I', 'Ġlike', 'ĠL', 'ST', 'Ms']\n",
            "Passed\n"
          ]
        }
      ],
      "source": [
        "# To check that your implementation is roughly correct:\n",
        "def compare_probs(predictions, gold):\n",
        "  assert len(predictions) == len(gold)\n",
        "  for x,y in zip(predictions, gold):\n",
        "    assert np.abs(x[1]-y[1]) < 0.01\n",
        "  print(\"Passed\")\n",
        "\n",
        "predictions = get_gpt_probs(\"The florist sent the flowers was pleased.\")\n",
        "gold = [('The', 2.4790916442871094), ('Ġflorist', 13.309800148010254), ('Ġsent', 8.14240837097168), ('Ġthe', 2.3661890029907227), ('Ġflowers', 1.4056150913238525), ('Ġwas', 9.130632400512695), ('Ġpleased.', 9.912347793579102)]\n",
        "compare_probs(predictions, gold)\n",
        "\n",
        "predictions = get_gpt_probs(\"I like LSTMs\")\n",
        "gold = [('I', 4.226133823394775), ('Ġlike', 5.041623115539551), ('ĠLSTMs', 17.857036590576172)]\n",
        "compare_probs(predictions, gold)"
      ]
    },
    {
      "cell_type": "markdown",
      "metadata": {
        "id": "bbej6x_TtA8p"
      },
      "source": [
        "We wrote some plotting code so you can visualize these probabilities for individual sentences. Note that this code might break on unusually long sentences, but we've provided a couple of examples below:"
      ]
    },
    {
      "cell_type": "code",
      "execution_count": 8,
      "metadata": {
        "id": "QL7bX5T8i7j8"
      },
      "outputs": [
        {
          "name": "stdout",
          "output_type": "stream",
          "text": [
            "torch.Size([10, 50257])\n",
            "tensor([[2.4791],\n",
            "        [9.5224],\n",
            "        [3.4257],\n",
            "        [0.3617],\n",
            "        [8.1424],\n",
            "        [2.3662],\n",
            "        [1.4056],\n",
            "        [9.1306],\n",
            "        [7.2621],\n",
            "        [2.6502]], device='cuda:0', grad_fn=<NegBackward0>)\n",
            "['<|endoftext|>', 'The', 'Ġfl', 'or', 'ist', 'Ġsent', 'Ġthe', 'Ġflowers', 'Ġwas', 'Ġpleased', '.']\n"
          ]
        },
        {
          "data": {
            "image/png": "[encoded data removed]",
            "text/plain": [
              "<Figure size 432x288 with 1 Axes>"
            ]
          },
          "metadata": {
            "needs_background": "light"
          },
          "output_type": "display_data"
        },
        {
          "name": "stdout",
          "output_type": "stream",
          "text": [
            "torch.Size([10, 50257])\n",
            "tensor([[2.4791],\n",
            "        [9.5224],\n",
            "        [3.4257],\n",
            "        [0.3617],\n",
            "        [8.1424],\n",
            "        [2.3662],\n",
            "        [1.4056],\n",
            "        [0.9438],\n",
            "        [3.3717],\n",
            "        [1.9530]], device='cuda:0', grad_fn=<NegBackward0>)\n",
            "['<|endoftext|>', 'The', 'Ġfl', 'or', 'ist', 'Ġsent', 'Ġthe', 'Ġflowers', 'Ġto', 'Ġme', '.']\n"
          ]
        },
        {
          "data": {
            "image/png": "[encoded data removed]",
            "text/plain": [
              "<Figure size 432x288 with 1 Axes>"
            ]
          },
          "metadata": {
            "needs_background": "light"
          },
          "output_type": "display_data"
        }
      ],
      "source": [
        "def plot_gpt_probs(sentence):\n",
        "  words = sentence.split()\n",
        "  probs = get_gpt_probs(sentence)\n",
        "  assert len(words) == len(probs)\n",
        "  probs = np.asarray([probs[0][1]] + [prob[1] for prob in probs])\n",
        "  x = np.arange(len(probs))\n",
        "  plt.step(x, probs, where=\"pre\", color=\"black\", linestyle=\"dashed\")\n",
        "  text_x = (x[1:] + x[:-1])/2\n",
        "  text_y = probs[1:] + 0.25\n",
        "  for idx in range(len(words)):\n",
        "      plt.text(text_x[idx], text_y[idx], words[idx], ha=\"center\")\n",
        "  plt.ylim([min(probs)-1, max(probs)+1])\n",
        "  plt.xticks()\n",
        "  plt.ylabel(\"Log Likelihood (GPT-2)\")\n",
        "  plt.tick_params(\n",
        "      axis='x', \n",
        "      which='both', \n",
        "      bottom=False, \n",
        "      top=False,\n",
        "      labelbottom=False)\n",
        "  plt.show()\n",
        "\n",
        "plot_gpt_probs(\"The florist sent the flowers was pleased.\")\n",
        "plot_gpt_probs(\"The florist sent the flowers to me.\")"
      ]
    },
    {
      "cell_type": "markdown",
      "metadata": {
        "id": "sKwBKt3VtSCy"
      },
      "source": [
        "The first sentence above is an example of a [garden-path sentence](https://en.wikipedia.org/wiki/Garden-path_sentence). Even though it's a fairly common word, \"was\" is assigned low probability because it's unlikely in the context; other words like \"florist\" and \"pleased\" are also low probability, but they're rarer across all contexts they appear in (i.e., lower unigram probability). The second sentence shows a non-garden-path continuation with much higher probability.\n",
        "\n",
        "One downside of transformer language models is that they have a fixed length, so [computing perplexity can be expensive](https://huggingface.co/transformers/v3.2.0/perplexity.html). Although using a sliding window is the most principled way to compute perplexity with GPT-2, [striding can also provide good results with faster inference](https://arxiv.org/pdf/2012.15832.pdf). Next, we'll modify our existing function to handle longer sequences. Our model has an effective context length of 1024 tokens, and we'll use a stride of 512. This means that every token will be predicted with at least 512 tokens in the context."
      ]
    },
    {
      "cell_type": "code",
      "execution_count": 5,
      "metadata": {
        "id": "ZKeL7Jtoi9VX"
      },
      "outputs": [
        {
          "name": "stdout",
          "output_type": "stream",
          "text": [
            "Context length: 1024\n"
          ]
        }
      ],
      "source": [
        "stride = 512\n",
        "print(\"Context length: {}\".format(model.config.n_positions))\n",
        "import math"
      ]
    },
    {
      "cell_type": "code",
      "execution_count": 12,
      "metadata": {
        "id": "WsZDbz-6yqJE"
      },
      "outputs": [],
      "source": [
        "def get_gpt_probs(document, stride=512):\n",
        "    # YOUR CODE HERE\n",
        "    a = torch.cuda.memory_allocated(0)\n",
        "    print(a)\n",
        "    encodings = tokenizer(document, return_tensors='pt')\n",
        "    print(encodings)\n",
        "    encod_ids = encodings[\"input_ids\"][0]\n",
        "    a = torch.cuda.memory_allocated(0)\n",
        "    print(a)\n",
        "    #print(encodings)\n",
        "    words = [\"\"]\n",
        "    probs = [0]\n",
        "\n",
        "    # BEGIN SOLUTION\n",
        "\n",
        "    doc_len = len(encodings[\"input_ids\"][0])\n",
        "    encode_len = 1024\n",
        "    stride = 512\n",
        "    num_sentence = math.ceil((doc_len - encode_len)/stride) + 1\n",
        "    print(num_sentence)\n",
        "\n",
        "    sentences = []\n",
        "    \n",
        "    for i in range(num_sentence):\n",
        "        print(i)\n",
        "        start_idx = i*stride\n",
        "        end_idx = min(start_idx + encode_len, doc_len - 1)\n",
        "        idx = encod_ids[start_idx: end_idx].cuda()\n",
        "        \n",
        "        print(len(idx))\n",
        "        \n",
        "        # idx = encod[\"input_ids\"][0].cuda()\n",
        "        #print(idx, encod)\n",
        "        input_id = idx[:-1]\n",
        "        if i == 0:\n",
        "            output_id = idx[1:]\n",
        "        else:\n",
        "            output_id = idx[min(512, len(idx)):]\n",
        "        logits = model(input_id).logits\n",
        "        \n",
        "        #print(logits)\n",
        "        after_softmax = torch.softmax(logits, 1)\n",
        "        #print(max(after_softmax[0]))\n",
        "        #print(after_softmax.size())\n",
        "        gathered_logits = -torch.log(torch.gather(after_softmax, 1, output_id.unsqueeze(1)))\n",
        "        #print(gathered_logits)\n",
        "        subword = [vocab_map[int(idx)] for idx in output_id]\n",
        "    #print(subword)\n",
        "\n",
        "        for i in range(len(subword)):\n",
        "            prob = gathered_logits[i].item()\n",
        "\n",
        "            if subword[i][0] == \"Ġ\":\n",
        "\n",
        "                probs.append(prob)\n",
        "                words.append(subword[i])\n",
        "            else:\n",
        "                probs[-1] += prob\n",
        "                words[-1] += subword[i]\n",
        "    \n",
        "    \n",
        "    # END SOlUTION\n",
        "    result = [(word, prob) for word, prob in zip(words, probs)]\n",
        "    print(result)\n",
        "    \n",
        "    return result"
      ]
    },
    {
      "cell_type": "markdown",
      "metadata": {
        "id": "i4SHhy4N5ZfT"
      },
      "source": [
        "We'll now compute the probabilities of every word in *Pride and Prejudice* using GPT-2. Note that this will take a very long time to run with a small stride, so you're encouraged to get the implementation of striding correct. You'll submit the output probabilities as `word_probs.npy`."
      ]
    },
    {
      "cell_type": "code",
      "execution_count": 13,
      "metadata": {
        "id": "HXbHUzV50Ihn"
      },
      "outputs": [
        {
          "name": "stderr",
          "output_type": "stream",
          "text": [
            "'wget' is not recognized as an internal or external command,\n",
            "operable program or batch file.\n"
          ]
        },
        {
          "name": "stdout",
          "output_type": "stream",
          "text": [
            "4699031040\n",
            "{'input_ids': tensor([[171, 119, 123,  ...,  13, 628, 198]]), 'attention_mask': tensor([[1, 1, 1,  ..., 1, 1, 1]])}\n",
            "4699031040\n",
            "454\n",
            "0\n",
            "76175872\n",
            "1024\n"
          ]
        },
        {
          "ename": "RuntimeError",
          "evalue": "CUDA out of memory. Tried to allocate 20.00 MiB (GPU 0; 6.00 GiB total capacity; 4.38 GiB already allocated; 19.81 MiB free; 4.45 GiB reserved in total by PyTorch) If reserved memory is >> allocated memory try setting max_split_size_mb to avoid fragmentation.  See documentation for Memory Management and PYTORCH_CUDA_ALLOC_CONF",
          "output_type": "error",
          "traceback": [
            "\u001b[1;31m---------------------------------------------------------------------------\u001b[0m",
            "\u001b[1;31mRuntimeError\u001b[0m                              Traceback (most recent call last)",
            "\u001b[1;32m<ipython-input-13-35f61d435fb3>\u001b[0m in \u001b[0;36m<module>\u001b[1;34m\u001b[0m\n\u001b[0;32m      2\u001b[0m \u001b[1;32mwith\u001b[0m \u001b[0mopen\u001b[0m\u001b[1;33m(\u001b[0m\u001b[1;34m\"pride.txt\"\u001b[0m\u001b[1;33m,\u001b[0m \u001b[1;34m\"r\"\u001b[0m\u001b[1;33m,\u001b[0m \u001b[0mencoding\u001b[0m\u001b[1;33m=\u001b[0m\u001b[1;34m\"utf-8\"\u001b[0m\u001b[1;33m)\u001b[0m \u001b[1;32mas\u001b[0m \u001b[0minfile\u001b[0m\u001b[1;33m:\u001b[0m\u001b[1;33m\u001b[0m\u001b[1;33m\u001b[0m\u001b[0m\n\u001b[0;32m      3\u001b[0m   \u001b[0mtext\u001b[0m \u001b[1;33m=\u001b[0m \u001b[0minfile\u001b[0m\u001b[1;33m.\u001b[0m\u001b[0mread\u001b[0m\u001b[1;33m(\u001b[0m\u001b[1;33m)\u001b[0m\u001b[1;33m\u001b[0m\u001b[1;33m\u001b[0m\u001b[0m\n\u001b[1;32m----> 4\u001b[1;33m \u001b[0moutput\u001b[0m \u001b[1;33m=\u001b[0m \u001b[0mget_gpt_probs\u001b[0m\u001b[1;33m(\u001b[0m\u001b[0mtext\u001b[0m\u001b[1;33m,\u001b[0m \u001b[0mstride\u001b[0m\u001b[1;33m=\u001b[0m\u001b[1;36m512\u001b[0m\u001b[1;33m)\u001b[0m\u001b[1;33m\u001b[0m\u001b[1;33m\u001b[0m\u001b[0m\n\u001b[0m\u001b[0;32m      5\u001b[0m \u001b[0mprobs\u001b[0m \u001b[1;33m=\u001b[0m \u001b[0mnp\u001b[0m\u001b[1;33m.\u001b[0m\u001b[0masarray\u001b[0m\u001b[1;33m(\u001b[0m\u001b[1;33m[\u001b[0m\u001b[0mval\u001b[0m\u001b[1;33m[\u001b[0m\u001b[1;36m1\u001b[0m\u001b[1;33m]\u001b[0m \u001b[1;32mfor\u001b[0m \u001b[0mval\u001b[0m \u001b[1;32min\u001b[0m \u001b[0moutput\u001b[0m\u001b[1;33m]\u001b[0m\u001b[1;33m)\u001b[0m\u001b[1;33m\u001b[0m\u001b[1;33m\u001b[0m\u001b[0m\n\u001b[0;32m      6\u001b[0m \u001b[0mprint\u001b[0m\u001b[1;33m(\u001b[0m\u001b[0mprobs\u001b[0m\u001b[1;33m)\u001b[0m\u001b[1;33m\u001b[0m\u001b[1;33m\u001b[0m\u001b[0m\n",
            "\u001b[1;32m<ipython-input-12-1485e1512c91>\u001b[0m in \u001b[0;36mget_gpt_probs\u001b[1;34m(document, stride)\u001b[0m\n\u001b[0;32m     39\u001b[0m         \u001b[1;32melse\u001b[0m\u001b[1;33m:\u001b[0m\u001b[1;33m\u001b[0m\u001b[1;33m\u001b[0m\u001b[0m\n\u001b[0;32m     40\u001b[0m             \u001b[0moutput_id\u001b[0m \u001b[1;33m=\u001b[0m \u001b[0midx\u001b[0m\u001b[1;33m[\u001b[0m\u001b[0mmin\u001b[0m\u001b[1;33m(\u001b[0m\u001b[1;36m512\u001b[0m\u001b[1;33m,\u001b[0m \u001b[0mlen\u001b[0m\u001b[1;33m(\u001b[0m\u001b[0midx\u001b[0m\u001b[1;33m)\u001b[0m\u001b[1;33m)\u001b[0m\u001b[1;33m:\u001b[0m\u001b[1;33m]\u001b[0m\u001b[1;33m\u001b[0m\u001b[1;33m\u001b[0m\u001b[0m\n\u001b[1;32m---> 41\u001b[1;33m         \u001b[0mlogits\u001b[0m \u001b[1;33m=\u001b[0m \u001b[0mmodel\u001b[0m\u001b[1;33m(\u001b[0m\u001b[0minput_id\u001b[0m\u001b[1;33m)\u001b[0m\u001b[1;33m.\u001b[0m\u001b[0mlogits\u001b[0m\u001b[1;33m\u001b[0m\u001b[1;33m\u001b[0m\u001b[0m\n\u001b[0m\u001b[0;32m     42\u001b[0m \u001b[1;33m\u001b[0m\u001b[0m\n\u001b[0;32m     43\u001b[0m         \u001b[1;31m#print(logits)\u001b[0m\u001b[1;33m\u001b[0m\u001b[1;33m\u001b[0m\u001b[1;33m\u001b[0m\u001b[0m\n",
            "\u001b[1;32mc:\\Users\\yangh\\Anaconda3\\envs\\gluon\\lib\\site-packages\\torch\\nn\\modules\\module.py\u001b[0m in \u001b[0;36m_call_impl\u001b[1;34m(self, *input, **kwargs)\u001b[0m\n\u001b[0;32m   1100\u001b[0m         if not (self._backward_hooks or self._forward_hooks or self._forward_pre_hooks or _global_backward_hooks\n\u001b[0;32m   1101\u001b[0m                 or _global_forward_hooks or _global_forward_pre_hooks):\n\u001b[1;32m-> 1102\u001b[1;33m             \u001b[1;32mreturn\u001b[0m \u001b[0mforward_call\u001b[0m\u001b[1;33m(\u001b[0m\u001b[1;33m*\u001b[0m\u001b[0minput\u001b[0m\u001b[1;33m,\u001b[0m \u001b[1;33m**\u001b[0m\u001b[0mkwargs\u001b[0m\u001b[1;33m)\u001b[0m\u001b[1;33m\u001b[0m\u001b[1;33m\u001b[0m\u001b[0m\n\u001b[0m\u001b[0;32m   1103\u001b[0m         \u001b[1;31m# Do not call functions when jit is used\u001b[0m\u001b[1;33m\u001b[0m\u001b[1;33m\u001b[0m\u001b[1;33m\u001b[0m\u001b[0m\n\u001b[0;32m   1104\u001b[0m         \u001b[0mfull_backward_hooks\u001b[0m\u001b[1;33m,\u001b[0m \u001b[0mnon_full_backward_hooks\u001b[0m \u001b[1;33m=\u001b[0m \u001b[1;33m[\u001b[0m\u001b[1;33m]\u001b[0m\u001b[1;33m,\u001b[0m \u001b[1;33m[\u001b[0m\u001b[1;33m]\u001b[0m\u001b[1;33m\u001b[0m\u001b[1;33m\u001b[0m\u001b[0m\n",
            "\u001b[1;32mc:\\Users\\yangh\\Anaconda3\\envs\\gluon\\lib\\site-packages\\transformers\\models\\gpt2\\modeling_gpt2.py\u001b[0m in \u001b[0;36mforward\u001b[1;34m(self, input_ids, past_key_values, attention_mask, token_type_ids, position_ids, head_mask, inputs_embeds, encoder_hidden_states, encoder_attention_mask, labels, use_cache, output_attentions, output_hidden_states, return_dict)\u001b[0m\n\u001b[0;32m   1055\u001b[0m             \u001b[0moutput_attentions\u001b[0m\u001b[1;33m=\u001b[0m\u001b[0moutput_attentions\u001b[0m\u001b[1;33m,\u001b[0m\u001b[1;33m\u001b[0m\u001b[1;33m\u001b[0m\u001b[0m\n\u001b[0;32m   1056\u001b[0m             \u001b[0moutput_hidden_states\u001b[0m\u001b[1;33m=\u001b[0m\u001b[0moutput_hidden_states\u001b[0m\u001b[1;33m,\u001b[0m\u001b[1;33m\u001b[0m\u001b[1;33m\u001b[0m\u001b[0m\n\u001b[1;32m-> 1057\u001b[1;33m             \u001b[0mreturn_dict\u001b[0m\u001b[1;33m=\u001b[0m\u001b[0mreturn_dict\u001b[0m\u001b[1;33m,\u001b[0m\u001b[1;33m\u001b[0m\u001b[1;33m\u001b[0m\u001b[0m\n\u001b[0m\u001b[0;32m   1058\u001b[0m         )\n\u001b[0;32m   1059\u001b[0m         \u001b[0mhidden_states\u001b[0m \u001b[1;33m=\u001b[0m \u001b[0mtransformer_outputs\u001b[0m\u001b[1;33m[\u001b[0m\u001b[1;36m0\u001b[0m\u001b[1;33m]\u001b[0m\u001b[1;33m\u001b[0m\u001b[1;33m\u001b[0m\u001b[0m\n",
            "\u001b[1;32mc:\\Users\\yangh\\Anaconda3\\envs\\gluon\\lib\\site-packages\\torch\\nn\\modules\\module.py\u001b[0m in \u001b[0;36m_call_impl\u001b[1;34m(self, *input, **kwargs)\u001b[0m\n\u001b[0;32m   1100\u001b[0m         if not (self._backward_hooks or self._forward_hooks or self._forward_pre_hooks or _global_backward_hooks\n\u001b[0;32m   1101\u001b[0m                 or _global_forward_hooks or _global_forward_pre_hooks):\n\u001b[1;32m-> 1102\u001b[1;33m             \u001b[1;32mreturn\u001b[0m \u001b[0mforward_call\u001b[0m\u001b[1;33m(\u001b[0m\u001b[1;33m*\u001b[0m\u001b[0minput\u001b[0m\u001b[1;33m,\u001b[0m \u001b[1;33m**\u001b[0m\u001b[0mkwargs\u001b[0m\u001b[1;33m)\u001b[0m\u001b[1;33m\u001b[0m\u001b[1;33m\u001b[0m\u001b[0m\n\u001b[0m\u001b[0;32m   1103\u001b[0m         \u001b[1;31m# Do not call functions when jit is used\u001b[0m\u001b[1;33m\u001b[0m\u001b[1;33m\u001b[0m\u001b[1;33m\u001b[0m\u001b[0m\n\u001b[0;32m   1104\u001b[0m         \u001b[0mfull_backward_hooks\u001b[0m\u001b[1;33m,\u001b[0m \u001b[0mnon_full_backward_hooks\u001b[0m \u001b[1;33m=\u001b[0m \u001b[1;33m[\u001b[0m\u001b[1;33m]\u001b[0m\u001b[1;33m,\u001b[0m \u001b[1;33m[\u001b[0m\u001b[1;33m]\u001b[0m\u001b[1;33m\u001b[0m\u001b[1;33m\u001b[0m\u001b[0m\n",
            "\u001b[1;32mc:\\Users\\yangh\\Anaconda3\\envs\\gluon\\lib\\site-packages\\transformers\\models\\gpt2\\modeling_gpt2.py\u001b[0m in \u001b[0;36mforward\u001b[1;34m(self, input_ids, past_key_values, attention_mask, token_type_ids, position_ids, head_mask, inputs_embeds, encoder_hidden_states, encoder_attention_mask, use_cache, output_attentions, output_hidden_states, return_dict)\u001b[0m\n\u001b[0;32m    829\u001b[0m         \u001b[1;32mif\u001b[0m \u001b[0minputs_embeds\u001b[0m \u001b[1;32mis\u001b[0m \u001b[1;32mNone\u001b[0m\u001b[1;33m:\u001b[0m\u001b[1;33m\u001b[0m\u001b[1;33m\u001b[0m\u001b[0m\n\u001b[0;32m    830\u001b[0m             \u001b[0minputs_embeds\u001b[0m \u001b[1;33m=\u001b[0m \u001b[0mself\u001b[0m\u001b[1;33m.\u001b[0m\u001b[0mwte\u001b[0m\u001b[1;33m(\u001b[0m\u001b[0minput_ids\u001b[0m\u001b[1;33m)\u001b[0m\u001b[1;33m\u001b[0m\u001b[1;33m\u001b[0m\u001b[0m\n\u001b[1;32m--> 831\u001b[1;33m         \u001b[0mposition_embeds\u001b[0m \u001b[1;33m=\u001b[0m \u001b[0mself\u001b[0m\u001b[1;33m.\u001b[0m\u001b[0mwpe\u001b[0m\u001b[1;33m(\u001b[0m\u001b[0mposition_ids\u001b[0m\u001b[1;33m)\u001b[0m\u001b[1;33m\u001b[0m\u001b[1;33m\u001b[0m\u001b[0m\n\u001b[0m\u001b[0;32m    832\u001b[0m         \u001b[0mhidden_states\u001b[0m \u001b[1;33m=\u001b[0m \u001b[0minputs_embeds\u001b[0m \u001b[1;33m+\u001b[0m \u001b[0mposition_embeds\u001b[0m\u001b[1;33m\u001b[0m\u001b[1;33m\u001b[0m\u001b[0m\n\u001b[0;32m    833\u001b[0m \u001b[1;33m\u001b[0m\u001b[0m\n",
            "\u001b[1;32mc:\\Users\\yangh\\Anaconda3\\envs\\gluon\\lib\\site-packages\\torch\\nn\\modules\\module.py\u001b[0m in \u001b[0;36m_call_impl\u001b[1;34m(self, *input, **kwargs)\u001b[0m\n\u001b[0;32m   1100\u001b[0m         if not (self._backward_hooks or self._forward_hooks or self._forward_pre_hooks or _global_backward_hooks\n\u001b[0;32m   1101\u001b[0m                 or _global_forward_hooks or _global_forward_pre_hooks):\n\u001b[1;32m-> 1102\u001b[1;33m             \u001b[1;32mreturn\u001b[0m \u001b[0mforward_call\u001b[0m\u001b[1;33m(\u001b[0m\u001b[1;33m*\u001b[0m\u001b[0minput\u001b[0m\u001b[1;33m,\u001b[0m \u001b[1;33m**\u001b[0m\u001b[0mkwargs\u001b[0m\u001b[1;33m)\u001b[0m\u001b[1;33m\u001b[0m\u001b[1;33m\u001b[0m\u001b[0m\n\u001b[0m\u001b[0;32m   1103\u001b[0m         \u001b[1;31m# Do not call functions when jit is used\u001b[0m\u001b[1;33m\u001b[0m\u001b[1;33m\u001b[0m\u001b[1;33m\u001b[0m\u001b[0m\n\u001b[0;32m   1104\u001b[0m         \u001b[0mfull_backward_hooks\u001b[0m\u001b[1;33m,\u001b[0m \u001b[0mnon_full_backward_hooks\u001b[0m \u001b[1;33m=\u001b[0m \u001b[1;33m[\u001b[0m\u001b[1;33m]\u001b[0m\u001b[1;33m,\u001b[0m \u001b[1;33m[\u001b[0m\u001b[1;33m]\u001b[0m\u001b[1;33m\u001b[0m\u001b[1;33m\u001b[0m\u001b[0m\n",
            "\u001b[1;32mc:\\Users\\yangh\\Anaconda3\\envs\\gluon\\lib\\site-packages\\torch\\nn\\modules\\sparse.py\u001b[0m in \u001b[0;36mforward\u001b[1;34m(self, input)\u001b[0m\n\u001b[0;32m    158\u001b[0m         return F.embedding(\n\u001b[0;32m    159\u001b[0m             \u001b[0minput\u001b[0m\u001b[1;33m,\u001b[0m \u001b[0mself\u001b[0m\u001b[1;33m.\u001b[0m\u001b[0mweight\u001b[0m\u001b[1;33m,\u001b[0m \u001b[0mself\u001b[0m\u001b[1;33m.\u001b[0m\u001b[0mpadding_idx\u001b[0m\u001b[1;33m,\u001b[0m \u001b[0mself\u001b[0m\u001b[1;33m.\u001b[0m\u001b[0mmax_norm\u001b[0m\u001b[1;33m,\u001b[0m\u001b[1;33m\u001b[0m\u001b[1;33m\u001b[0m\u001b[0m\n\u001b[1;32m--> 160\u001b[1;33m             self.norm_type, self.scale_grad_by_freq, self.sparse)\n\u001b[0m\u001b[0;32m    161\u001b[0m \u001b[1;33m\u001b[0m\u001b[0m\n\u001b[0;32m    162\u001b[0m     \u001b[1;32mdef\u001b[0m \u001b[0mextra_repr\u001b[0m\u001b[1;33m(\u001b[0m\u001b[0mself\u001b[0m\u001b[1;33m)\u001b[0m \u001b[1;33m->\u001b[0m \u001b[0mstr\u001b[0m\u001b[1;33m:\u001b[0m\u001b[1;33m\u001b[0m\u001b[1;33m\u001b[0m\u001b[0m\n",
            "\u001b[1;32mc:\\Users\\yangh\\Anaconda3\\envs\\gluon\\lib\\site-packages\\torch\\nn\\functional.py\u001b[0m in \u001b[0;36membedding\u001b[1;34m(input, weight, padding_idx, max_norm, norm_type, scale_grad_by_freq, sparse)\u001b[0m\n\u001b[0;32m   2042\u001b[0m         \u001b[1;31m# remove once script supports set_grad_enabled\u001b[0m\u001b[1;33m\u001b[0m\u001b[1;33m\u001b[0m\u001b[1;33m\u001b[0m\u001b[0m\n\u001b[0;32m   2043\u001b[0m         \u001b[0m_no_grad_embedding_renorm_\u001b[0m\u001b[1;33m(\u001b[0m\u001b[0mweight\u001b[0m\u001b[1;33m,\u001b[0m \u001b[0minput\u001b[0m\u001b[1;33m,\u001b[0m \u001b[0mmax_norm\u001b[0m\u001b[1;33m,\u001b[0m \u001b[0mnorm_type\u001b[0m\u001b[1;33m)\u001b[0m\u001b[1;33m\u001b[0m\u001b[1;33m\u001b[0m\u001b[0m\n\u001b[1;32m-> 2044\u001b[1;33m     \u001b[1;32mreturn\u001b[0m \u001b[0mtorch\u001b[0m\u001b[1;33m.\u001b[0m\u001b[0membedding\u001b[0m\u001b[1;33m(\u001b[0m\u001b[0mweight\u001b[0m\u001b[1;33m,\u001b[0m \u001b[0minput\u001b[0m\u001b[1;33m,\u001b[0m \u001b[0mpadding_idx\u001b[0m\u001b[1;33m,\u001b[0m \u001b[0mscale_grad_by_freq\u001b[0m\u001b[1;33m,\u001b[0m \u001b[0msparse\u001b[0m\u001b[1;33m)\u001b[0m\u001b[1;33m\u001b[0m\u001b[1;33m\u001b[0m\u001b[0m\n\u001b[0m\u001b[0;32m   2045\u001b[0m \u001b[1;33m\u001b[0m\u001b[0m\n\u001b[0;32m   2046\u001b[0m \u001b[1;33m\u001b[0m\u001b[0m\n",
            "\u001b[1;31mRuntimeError\u001b[0m: CUDA out of memory. Tried to allocate 20.00 MiB (GPU 0; 6.00 GiB total capacity; 4.38 GiB already allocated; 19.81 MiB free; 4.45 GiB reserved in total by PyTorch) If reserved memory is >> allocated memory try setting max_split_size_mb to avoid fragmentation.  See documentation for Memory Management and PYTORCH_CUDA_ALLOC_CONF"
          ]
        }
      ],
      "source": [
        "!wget https://cal-cs288.github.io/sp22/project_files/hw1/pride.txt\n",
        "with open(\"pride.txt\", \"r\", encoding=\"utf-8\") as infile:\n",
        "  text = infile.read()\n",
        "output = get_gpt_probs(text, stride=512)\n",
        "probs = np.asarray([val[1] for val in output])\n",
        "print(probs)\n",
        "np.save(\"word_probs.npy\", probs)"
      ]
    },
    {
      "cell_type": "markdown",
      "metadata": {
        "id": "8VibM4aB54IK"
      },
      "source": [
        "### Prompting with Language Models\n",
        "\n",
        "Language models can be coerced into performing a variety of different tasks via *prompting*, as shown in the [GPT-3 paper](https://arxiv.org/abs/2005.14165). At a high level, prompting involves putting a few training examples into the context of a model and then using next word prediction to predict labels. In this assignment, we'll use prompting and the GPT-2 Large model on the sentiment task SST-2. But first, we'll download the dataset:"
      ]
    },
    {
      "cell_type": "code",
      "execution_count": null,
      "metadata": {
        "id": "lc80b6BX1iR0"
      },
      "outputs": [],
      "source": [
        "!pip install datasets\n",
        "from datasets import load_dataset\n",
        "dataset = load_dataset(\"glue\", \"sst2\")"
      ]
    },
    {
      "cell_type": "markdown",
      "metadata": {
        "id": "DtmhDp_PT8EC"
      },
      "source": [
        "Now, it's time to write a prompt for sentiment prediction. Here's an example what a prompt might look like for the task of machine translation:\n",
        "\n",
        "\n",
        "```\n",
        "The French \"Le Tea Party est atterré.\" in English is \"The tea party is aghast\"\n",
        "The French \"Cela est vraiment indispensable pour notre nation.\" in English is \"This really is a must for our nation.\"\n",
        "The French \"Il va y avoir du changement dans la façon dont nous payons ces taxes.\" in English is \"There is going to be a change in how we pay these taxes.\"\n",
        "The French \"La technologie est là pour le faire.\" in English is\n",
        "```\n",
        "The model would then predict the next tokens, hopefully resulting in an English translation of the final sentence. Note that these examples are all taken from the `wmt14` translation dataset. In our case, however, we'll be predicting sentiment, which is represented by a binary value in the Stanford Sentiment Treebank. To convert next-word predictions into a binary decision, we'll compute the probability of two words (e.g., \"yes\" vs. \"no\") and then choose our label based on whichever one has the highest probability. "
      ]
    },
    {
      "cell_type": "code",
      "execution_count": null,
      "metadata": {
        "id": "byloT-Sz8mQF"
      },
      "outputs": [],
      "source": [
        "def predict_sentiment(sentence):\n",
        "  # YOUR CODE HERE\n",
        "  # - Write a prompt using 3-5 example sentences\n",
        "  # - Append the current example to the prompt, with a template\n",
        "  # - Compare probabilities of possible next tokens to get a predicted label\n",
        "  # - Warning: DO NOT TRAIN OR FINE-TUNE A MODEL FOR THIS ASSIGNMENT\n",
        "  # BEGIN SOLUTION\n",
        "\n",
        "  # END SOLUTION\n",
        "\n",
        "num_correct = 0\n",
        "for idx in tqdm.tqdm(range(1000)):\n",
        "  example = dataset[\"train\"][idx]\n",
        "  predicted_label = predict_sentiment(example[\"sentence\"])\n",
        "  if predicted_label == example[\"label\"]:\n",
        "    num_correct += 1\n",
        "print()\n",
        "print(\"Accuracy: {}\".format(num_correct / 1000))"
      ]
    },
    {
      "cell_type": "markdown",
      "metadata": {
        "id": "iRSLyI4hWk9F"
      },
      "source": [
        "Our best performing model gets 85% accuracy on this task, and our template-only baseline (i.e., without any training examples in the context) gets 69%. We'll assign full credit to any solutions that score above 70%, but we encourage you to try to beat our scores! Please be aware that prompting can lead to high variance results, and checkout the following paper for additional tips and details: https://arxiv.org/pdf/2102.09690.pdf"
      ]
    },
    {
      "cell_type": "code",
      "execution_count": null,
      "metadata": {
        "id": "ocRqxldcNY4k"
      },
      "outputs": [],
      "source": [
        "num_correct = 0\n",
        "predictions = []\n",
        "for example in dataset[\"validation\"]:\n",
        "  predicted_label = predict_sentiment(example[\"sentence\"])\n",
        "  predictions.append(predicted_label)\n",
        "np.save(\"sst_predictions.npy\", predictions)"
      ]
    },
    {
      "cell_type": "markdown",
      "metadata": {
        "id": "qTlwnboWigBF"
      },
      "source": [
        "Congratulations! You've now finished the programming components of HW1. "
      ]
    },
    {
      "cell_type": "markdown",
      "metadata": {
        "id": "tJsliV9WiRHB"
      },
      "source": [
        "### Gradescope\n",
        "\n",
        "To download this notebook, go to `File->Download .ipynb`.  Please rename the file to match the name in our file list.  You can download other outputs by clicking the > arrow near the top left and finding it under `Files`. When submitting your ipython notebooks, make sure everything runs correctly if the cells are executed in order starting from a fresh session.  Note that just because a cell runs in your current session doesn't mean it doesn't rely on code that you have already changed or deleted.  If the code doesn't take too long to run, we recommend re-running everything with `Runtime->Restart and run all...`."
      ]
    }
  ],
  "metadata": {
    "accelerator": "GPU",
    "colab": {
      "collapsed_sections": [],
      "name": "hw1c.ipynb",
      "provenance": []
    },
    "kernelspec": {
      "display_name": "Python 3",
      "name": "python3"
    },
    "language_info": {
      "codemirror_mode": {
        "name": "ipython",
        "version": 3
      },
      "file_extension": ".py",
      "mimetype": "text/x-python",
      "name": "python",
      "nbconvert_exporter": "python",
      "pygments_lexer": "ipython3",
      "version": "3.6.13"
    }
  },
  "nbformat": 4,
  "nbformat_minor": 0
}
