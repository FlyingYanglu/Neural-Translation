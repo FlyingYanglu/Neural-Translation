{
  "cells": [
    {
      "cell_type": "markdown",
      "metadata": {
        "id": "_Zg1qMBn7YQk"
      },
      "source": [
        "## Homework 1b: Training Language Models\n",
        "\n",
        "In this assignment, you will implement several different types of language models for text.  We'll start with n-gram models. Then we'll build some neural n-gram and LSTM language models. Our primary dataset for this project will be the WikiText2 language modeling dataset.  This dataset comes with some of the basic preprocessing done for us, such as tokenization and rare word filtering (using the `<unk>` token). Therefore, we can assume that all word types in the test set also appear at least once in the training set. We'll also use the `torchtext` library to help with some of the data preprocessing, such as converting tokens into id numbers. **Warning: Do not start this project the day before it is due!  Some parts require 20 minutes or more to run, so debugging and tuning can take a significant amount of time.**"
      ]
    },
    {
      "cell_type": "code",
      "execution_count": 1,
      "metadata": {
        "id": "X1ATX-_J7SjQ"
      },
      "outputs": [
        {
          "name": "stdout",
          "output_type": "stream",
          "text": [
            "Number of words in the vocabulary: 33279\n",
            "Example text: ['<eos>', '=', 'Homarus', 'gammarus', '=', '<eos>', '<eos>', 'Homarus', 'gammarus', ',', 'known', 'as', 'the', 'European', 'lobster', 'or', 'common', 'lobster', ',', 'is', 'a', 'species', 'of', '<unk>', 'lobster', 'from', 'the', 'eastern', 'Atlantic', 'Ocean']\n"
          ]
        }
      ],
      "source": [
        "# This block handles some basic setup and data loading.  \n",
        "# You shouldn't need to edit this, but if you want to \n",
        "# import other standard python packages, that is fine.\n",
        "\n",
        "# imports\n",
        "from collections import defaultdict, Counter\n",
        "import numpy as np\n",
        "import math\n",
        "import tqdm\n",
        "import random\n",
        "import pdb\n",
        "\n",
        "import torch\n",
        "from torch import nn\n",
        "import torch.nn.functional as F\n",
        "import torchtext.legacy as torchtext\n",
        "\n",
        "# download and load the data\n",
        "text_field = torchtext.data.Field()\n",
        "datasets = torchtext.datasets.WikiText2.splits(root='.', text_field=text_field)\n",
        "train_dataset, validation_dataset, test_dataset = datasets\n",
        "\n",
        "text_field.build_vocab(train_dataset, validation_dataset, test_dataset)\n",
        "vocab = text_field.vocab\n",
        "vocab_size = len(vocab)\n",
        "\n",
        "train_text = train_dataset.examples[0].text # a list of tokens (strings)\n",
        "validation_text = validation_dataset.examples[0].text\n",
        "\n",
        "print(\"Number of words in the vocabulary: {}\".format(vocab_size))\n",
        "print(\"Example text: {}\".format(validation_text[:30]))"
      ]
    },
    {
      "cell_type": "markdown",
      "metadata": {
        "id": "g10PLGiZn0XY"
      },
      "source": [
        "We've implemented a unigram model here as a demonstration."
      ]
    },
    {
      "cell_type": "code",
      "execution_count": 2,
      "metadata": {
        "id": "B7ZHMVZzoPEH"
      },
      "outputs": [
        {
          "name": "stdout",
          "output_type": "stream",
          "text": [
            "unigram validation perplexity: 965.0860734119312\n",
            "0\n",
            "1\n",
            "2\n",
            "3\n",
            "4\n",
            "5\n",
            "6\n",
            "7\n",
            "8\n",
            "9\n"
          ]
        }
      ],
      "source": [
        "class UnigramModel:\n",
        "    def __init__(self, train_text):\n",
        "        self.counts = Counter(train_text)\n",
        "        self.total_count = len(train_text)\n",
        "\n",
        "    def probability(self, word):\n",
        "        return self.counts[word] / self.total_count\n",
        "\n",
        "    def next_word_probabilities(self, text_prefix):\n",
        "        \"\"\"Return a list of probabilities for each word in the vocabulary.\"\"\"\n",
        "        return [self.probability(word) for word in vocab.itos]\n",
        "\n",
        "    def perplexity(self, full_text):\n",
        "        \"\"\"Return the perplexity of the model on a text as a float.\n",
        "        \n",
        "        full_text -- a list of string tokens\n",
        "        \"\"\"\n",
        "        log_probabilities = []\n",
        "        for word in full_text:\n",
        "            # Note that the base of the log doesn't matter \n",
        "            # as long as the log and exp use the same base.\n",
        "            log_probabilities.append(math.log(self.probability(word), 2))\n",
        "        return 2 ** -np.mean(log_probabilities)\n",
        "\n",
        "unigram_demonstration_model = UnigramModel(train_text)\n",
        "print('unigram validation perplexity:', \n",
        "      unigram_demonstration_model.perplexity(validation_text))\n",
        "\n",
        "def check_validity(model):\n",
        "    \"\"\"Performs several sanity checks on your model:\n",
        "    1) That next_word_probabilities returns a valid distribution\n",
        "    2) That perplexity matches a perplexity calculated from next_word_probabilities\n",
        "\n",
        "    Although it is possible to calculate perplexity from next_word_probabilities, \n",
        "    it is still good to have a separate more efficient method that only computes \n",
        "    the probabilities of observed words.\n",
        "    \"\"\"\n",
        "\n",
        "    log_probabilities = []\n",
        "    for i in range(10):\n",
        "        print(i)\n",
        "        prefix = validation_text[:i]\n",
        "        probs = model.next_word_probabilities(prefix)\n",
        "        assert min(probs) >= 0, \"Negative value in next_word_probabilities\"\n",
        "        assert max(probs) <= 1 + 1e-8, \"Value larger than 1 in next_word_probabilities\"\n",
        "        assert abs(sum(probs)-1) < 1e-4, \"next_word_probabilities do not sum to 1\"\n",
        "\n",
        "        word_id = vocab.stoi[validation_text[i]]\n",
        "        selected_prob = probs[word_id]\n",
        "        log_probabilities.append(math.log(selected_prob))\n",
        "\n",
        "    perplexity = math.exp(-np.mean(log_probabilities))\n",
        "    your_perplexity = model.perplexity(validation_text[:10])\n",
        "    assert abs(perplexity-your_perplexity) < 0.1, \"your perplexity does not \" + \\\n",
        "    \"match the one we calculated from `next_word_probabilities`,\\n\" + \\\n",
        "    \"at least one of `perplexity` or `next_word_probabilities` is incorrect.\\n\" + \\\n",
        "    f\"we calcuated {perplexity} from `next_word_probabilities`,\\n\" + \\\n",
        "    f\"but your perplexity function returned {your_perplexity} (on a small sample).\"\n",
        "\n",
        "\n",
        "check_validity(unigram_demonstration_model)"
      ]
    },
    {
      "cell_type": "markdown",
      "metadata": {
        "id": "U4esz5XrEpNo"
      },
      "source": [
        "To generate from a language model, we can sample one word at a time conditioning on the words we have generated so far."
      ]
    },
    {
      "cell_type": "code",
      "execution_count": 3,
      "metadata": {
        "id": "bfNj5nl4E7Zn"
      },
      "outputs": [
        {
          "name": "stdout",
          "output_type": "stream",
          "text": [
            "<eos> <eos> top manager a The been military arrangement Evans body the Saigon <eos> is the thinking <unk> t much <unk> the\n"
          ]
        }
      ],
      "source": [
        "# Note: the prefix tokens will be used by our trigram language model\n",
        "def generate_text(model, n=20, prefix=('<eos>', '<eos>')):\n",
        "    prefix = list(prefix)\n",
        "    for _ in range(n):\n",
        "        probs = model.next_word_probabilities(prefix)\n",
        "        word = random.choices(vocab.itos, probs)[0]\n",
        "        prefix.append(word)\n",
        "    return ' '.join(prefix)\n",
        "\n",
        "print(generate_text(unigram_demonstration_model))"
      ]
    },
    {
      "cell_type": "markdown",
      "metadata": {
        "id": "wq-WtaM6F6kN"
      },
      "source": [
        "In fact there are many strategies to get better-sounding samples, such as only sampling from the top-k words or sharpening the distribution with a temperature.  You can read more about sampling from a language model in this paper: https://arxiv.org/pdf/1904.09751.pdf."
      ]
    },
    {
      "cell_type": "markdown",
      "metadata": {
        "id": "uuopg4rYjf2O"
      },
      "source": [
        "You will need to submit some outputs from the models you implement for us to grade.  The following function will be used to generate the required output files."
      ]
    },
    {
      "cell_type": "code",
      "execution_count": 4,
      "metadata": {
        "id": "ZB6MKPbm4z9s"
      },
      "outputs": [
        {
          "name": "stderr",
          "output_type": "stream",
          "text": [
            "'wget' is not recognized as an internal or external command,\n",
            "operable program or batch file.\n",
            "'wget' is not recognized as an internal or external command,\n",
            "operable program or batch file.\n",
            "'wget' is not recognized as an internal or external command,\n",
            "operable program or batch file.\n",
            "'wget' is not recognized as an internal or external command,\n",
            "operable program or batch file.\n"
          ]
        }
      ],
      "source": [
        "!wget https://cal-cs288.github.io/sp21/project_files/proj_1/eval_prefixes.txt\n",
        "!wget https://cal-cs288.github.io/sp21/project_files/proj_1/eval_output_vocab.txt\n",
        "!wget https://cal-cs288.github.io/sp21/project_files/proj_1/eval_prefixes_short.txt\n",
        "!wget https://cal-cs288.github.io/sp21/project_files/proj_1/eval_output_vocab_short.txt\n",
        "\n",
        "def save_truncated_distribution(model, filename, short=True):\n",
        "    \"\"\"Generate a file of truncated distributions.\n",
        "    \n",
        "    Probability distributions over the full vocabulary are large,\n",
        "    so we will truncate the distribution to a smaller vocabulary.\n",
        "\n",
        "    Please do not edit this function\n",
        "    \"\"\"\n",
        "    vocab_name = 'eval_output_vocab'\n",
        "    prefixes_name = 'eval_prefixes'\n",
        "\n",
        "    if short: \n",
        "      vocab_name += '_short'\n",
        "      prefixes_name += '_short'\n",
        "\n",
        "    with open('{}.txt'.format(vocab_name), 'r', encoding= 'utf-8') as eval_vocab_file:\n",
        "        eval_vocab = [w.strip() for w in eval_vocab_file]\n",
        "    eval_vocab_ids = [vocab.stoi[s] for s in eval_vocab]\n",
        "\n",
        "    all_selected_probabilities = []\n",
        "    with open('{}.txt'.format(prefixes_name), 'r', encoding= 'utf-8') as eval_prefixes_file:\n",
        "        lines = eval_prefixes_file.readlines()\n",
        "        for line in tqdm.tqdm_notebook(lines, leave=False):\n",
        "            prefix = line.strip().split(' ')\n",
        "            probs = model.next_word_probabilities(prefix)\n",
        "            selected_probs = np.array([probs[i] for i in eval_vocab_ids], dtype=np.float32)\n",
        "            all_selected_probabilities.append(selected_probs)\n",
        "\n",
        "    all_selected_probabilities = np.stack(all_selected_probabilities)\n",
        "    np.save(filename, all_selected_probabilities)\n",
        "    print('saved', filename)"
      ]
    },
    {
      "cell_type": "code",
      "execution_count": 5,
      "metadata": {
        "id": "_nzVrTWcH67Q"
      },
      "outputs": [
        {
          "name": "stderr",
          "output_type": "stream",
          "text": [
            "c:\\Users\\yangh\\Anaconda3\\envs\\gluon\\lib\\site-packages\\ipykernel_launcher.py:28: TqdmDeprecationWarning: This function will be removed in tqdm==5.0.0\n",
            "Please use `tqdm.notebook.tqdm` instead of `tqdm.tqdm_notebook`\n"
          ]
        },
        {
          "data": {
            "application/vnd.jupyter.widget-view+json": {
              "model_id": "9d81dd75af52414fabfc4b283cf278da",
              "version_major": 2,
              "version_minor": 0
            },
            "text/plain": [
              "  0%|          | 0/1000 [00:00<?, ?it/s]"
            ]
          },
          "metadata": {},
          "output_type": "display_data"
        },
        {
          "name": "stdout",
          "output_type": "stream",
          "text": [
            "saved unigram_demonstration_predictions.npy\n"
          ]
        }
      ],
      "source": [
        "save_truncated_distribution(unigram_demonstration_model, 'unigram_demonstration_predictions.npy')"
      ]
    },
    {
      "cell_type": "markdown",
      "metadata": {
        "id": "MEfUwbbS9vy0"
      },
      "source": [
        "### N-gram Model\n",
        "\n",
        "Now it's time to implement an n-gram language model.\n",
        "\n",
        "Because not every n-gram will have been observed in training, use add-alpha smoothing to make sure no output word has probability 0.\n",
        "\n",
        "$$P(w_2|w_1)=\\frac{C(w_1,w_2)+\\alpha}{C(w_1)+\\alpha\\cdot|V|}$$\n",
        "\n",
        "where $|V|$ is the vocab size and $C$ is the count for the given bigram.  An alpha value around `3e-3`  should work.  Later, we'll replace this smoothing with model backoff. One edge case you will need to handle is at the beginning of the text where you don't have `n-1` prior words.  You can handle this however you like as long as you produce a valid probability distribution, but just using a uniform distribution over the vocabulary is reasonable for the purposes of this project.\n",
        "\n",
        "A properly implemented bi-gram model should get a perplexity below 510 on the validation set. Please note that the trigram model will probably have a very high perplexity at this point, due to sparsity issues. We'll correct this below.\n",
        "\n",
        "**Note**: Do not change the signature of the `next_word_probabilities` and `perplexity` functions.  We will use these as a common interface for all of the different model types.  Make sure these two functions call `n_gram_probability`, because later we are going to override `n_gram_probability` in a subclass. \n",
        "Also, we suggest pre-computing and caching the counts $C$ when you initialize `NGramModel` for efficiency. "
      ]
    },
    {
      "cell_type": "code",
      "execution_count": 5,
      "metadata": {},
      "outputs": [],
      "source": [
        "def seq_sentence(xs, n):\n",
        "    return [tuple(xs[i:i+n]) for i in range(len(xs)-n+1)]"
      ]
    },
    {
      "cell_type": "code",
      "execution_count": null,
      "metadata": {
        "id": "YGnGpnPIXpTW"
      },
      "outputs": [],
      "source": [
        "class NGramModel:\n",
        "    def __init__(self, train_text, n=2, alpha=3e-3):\n",
        "        # get counts and perform any other setup\n",
        "        self.n = n\n",
        "        self.smoothing = alpha\n",
        "        \n",
        "        # YOUR CODE HERE\n",
        "        \n",
        "        # BEGIN SOLUTION``\n",
        "        self.counts = Counter(train_text)\n",
        "        self.sub_sentence_tuple = seq_sentence(train_text, n)\n",
        "        self.head_sentence_tuple = seq_sentence(train_text, n-1)\n",
        "        self.sub_counts = Counter(self.sub_sentence_tuple)\n",
        "        self.head_counts = Counter(self.head_sentence_tuple)\n",
        "        self.total_count = len(train_text)\n",
        "        # END SOLUTION\n",
        "\n",
        "    def n_gram_probability(self, n_gram):\n",
        "        \"\"\"Return the probability of the last word in an n-gram.\n",
        "        \n",
        "        n_gram -- a list of string tokens\n",
        "        returns the conditional probability of the last token given the rest.\n",
        "        \"\"\"\n",
        "        assert len(n_gram) == self.n\n",
        "\n",
        "        # YOUR CODE HERE\n",
        "        \n",
        "        # BEGIN SOLUTION\n",
        "        n_gram = tuple(n_gram)  \n",
        "         \n",
        "        prob = (self.sub_counts[n_gram] + self.smoothing)/(self.head_counts[n_gram[:-1]]+ self.smoothing * vocab_size)\n",
        "        return prob \n",
        "\n",
        "        # END SOLUTION\n",
        "\n",
        "    def next_word_probabilities(self, text_prefix):\n",
        "        \"\"\"Return a list of probabilities for each word in the vocabulary.\"\"\"\n",
        "\n",
        "        # YOUR CODE HERE\n",
        "        # use your function n_gram_probability\n",
        "        # vocab.itos contains a list of words to return probabilities for\n",
        "\n",
        "        # BEGIN SOLUTION\n",
        "        probs = []\n",
        "        \n",
        "\n",
        "        for word in vocab.itos:\n",
        "            sentence = text_prefix + [word]\n",
        "            #print(self.probability(sentence))\n",
        "            probs.append(self.probability(sentence))\n",
        "        #print(sum(probs))\n",
        "        #print(probs)\n",
        "        return probs\n",
        "        # END SOLUTION\n",
        "\n",
        "    def probability(self, sentence):\n",
        "        #print(len(sentence), self.n)\n",
        "        #print(self.n)\n",
        "        if len(sentence) < self.n:\n",
        "            return 1/len(vocab.itos)\n",
        "            #return self.counts[sentence[-1]]/ self.total_count\n",
        "        else:\n",
        "            # subsentences = seq_ngrams(sentence, self.n)\n",
        "            # #print(sentence, subsentences)\n",
        "            # total_prob = 1\n",
        "            # for sent in subsentences:\n",
        "            #      total_prob *= self.n_gram_probability(sent)\n",
        "            # #print(sent, total_prob)\n",
        "            sentence = sentence[-self.n:]\n",
        "            return self.n_gram_probability(sentence)\n",
        "\n",
        "    def perplexity(self, full_text):\n",
        "        \"\"\" full_text is a list of string tokens\n",
        "        return perplexity as a float \"\"\"\n",
        "\n",
        "        # YOUR CODE HERE\n",
        "        # use your function n_gram_probability\n",
        "        # This method should differ a bit from the example unigram model because \n",
        "        # the first n-1 words of full_text must be handled as a special case.\n",
        "\n",
        "        # BEGIN SOLUTION\n",
        "        log_probabilities = []\n",
        "        for i in range(1, len(full_text)+1):\n",
        "            \n",
        "            # Note that the base of the log doesn't matter \n",
        "            # as long as the log and exp use the same base.\n",
        "            if i < self.n:\n",
        "                # prob  = self.counts(word)/self.total_count\n",
        "                # log_probabilities.append(math.log(prob, 2))\n",
        "                sentence = full_text[:i]\n",
        "            else:\n",
        "                sentence = full_text[i-self.n:i]\n",
        "            log_probabilities.append(math.log(self.probability(sentence), 2))\n",
        "        return 2 ** -np.mean(log_probabilities)\n",
        "        # END SOLUTION\n",
        "\n",
        "unigram_model = NGramModel(train_text, 1)\n",
        "check_validity(unigram_model)\n",
        "print('unigram validation perplexity:', unigram_model.perplexity(validation_text)) # this should be the almost the same as our unigram model perplexity above\n",
        "\n",
        "bigram_model = NGramModel(train_text, n=2)\n",
        "check_validity(bigram_model)\n",
        "print('bigram validation perplexity:', bigram_model.perplexity(validation_text))\n",
        "\n",
        "trigram_model = NGramModel(train_text, n=3)\n",
        "check_validity(trigram_model)\n",
        "print('trigram validation perplexity:', trigram_model.perplexity(validation_text)) # this won't do very well...\n",
        "\n",
        "save_truncated_distribution(bigram_model, 'bigram_predictions.npy') # this might take a few minutes"
      ]
    },
    {
      "cell_type": "markdown",
      "metadata": {
        "id": "TzRRLnk73-r9"
      },
      "source": [
        "Please download `bigram_predictions.npy` once you finish this section so that you can submit it.\n",
        "\n",
        "In the block below, please report your bigram validation perplexity.  (We will use this to help us calibrate our scoring on the test set.)"
      ]
    },
    {
      "cell_type": "markdown",
      "metadata": {
        "id": "DEcUK27xVTcK"
      },
      "source": [
        "<!-- Do not remove this comment, it is used by the autograder: RqYJKsoTS6 -->\n",
        "\n",
        "Bigram validation perplexity: ***504.42962119011565***"
      ]
    },
    {
      "cell_type": "markdown",
      "metadata": {
        "id": "qs6zgYw9VTx1"
      },
      "source": [
        "We can also generate samples from the model to get an idea of how it is doing."
      ]
    },
    {
      "cell_type": "code",
      "execution_count": null,
      "metadata": {
        "id": "m2V-qHxB4yhS"
      },
      "outputs": [],
      "source": [
        "print(generate_text(bigram_model))"
      ]
    },
    {
      "cell_type": "markdown",
      "metadata": {
        "id": "VsR8_Ch7AXAZ"
      },
      "source": [
        "We now free up some RAM, **it is important to run the cell below, otherwise you will likely run out of RAM in the Colab runtime.**"
      ]
    },
    {
      "cell_type": "code",
      "execution_count": null,
      "metadata": {
        "id": "EjKt1ncf_ypz"
      },
      "outputs": [],
      "source": [
        "# Free up some RAM. \n",
        "del bigram_model\n",
        "del trigram_model"
      ]
    },
    {
      "cell_type": "markdown",
      "metadata": {
        "id": "SWXNlsEKb3Mz"
      },
      "source": [
        "This basic model works okay for bigrams, but a better strategy (especially for higher-order models) is to use backoff.  Implement backoff with absolute discounting: \n",
        "$$\n",
        "\\begin{align}\n",
        "P\\left(w_i|w_{i-n+1}^{i-1}\\right)&=\\frac{max\\left\\{C(w_{i-n+1}^i)-\\delta,0\\right\\}}{\\sum_{w_i} C\\left(w_{i-n+1}^i\\right)} + \\alpha\\left(w_{i-n+1}^{i-1}\\right) P\\left(w_i|w_{i-n+2}^{i-1}\\right) \\\\\n",
        "\\alpha\\left(w_{i-n+1}^{i-1}\\right)&=\\frac{\\delta N_{1+}\\left(w_{i-n+1}^{i-1}\\right)}{{\\sum_{w_i} C\\left(w_{i-n+1}^i\\right)}}\n",
        "\\end{align}\n",
        "$$\n",
        "where $N_{1+}$ is the number of words that appear after the previous $n-1$ words (the number of times the max will select something other than 0 in the first equation).  If $\\sum_{w_i} C(w_{i-n+1}^i)=0$, use the lower order model probability directly (the above equations would have a division by 0). We found a discount $\\delta$ of 0.9 to work well based on validation performance.  A trigram model with this discount value should get a validation perplexity below 275."
      ]
    },
    {
      "cell_type": "code",
      "execution_count": null,
      "metadata": {
        "id": "BV4e4_mEc7VY"
      },
      "outputs": [],
      "source": [
        "class DiscountBackoffModel(NGramModel):\n",
        "    def __init__(self, train_text, lower_order_model, n=2, delta=0.9):\n",
        "        super().__init__(train_text, n=n)\n",
        "        self.lower_order_model = lower_order_model\n",
        "        self.discount = delta\n",
        "        # BEGIN SOLUTION\n",
        "        self.n_sub_sent = seq_sentence(train_text, n)\n",
        "        self.n_sub_sent_counts = Counter(self.n_sub_sent)\n",
        "        self.n_1_sub_sentence = seq_sentence(train_text, n-1)\n",
        "        self.n_1_sub_sentence_counts = Counter(self.n_1_sub_sentence)\n",
        "        self.N_dict = {}\n",
        "        self.C_sum_dict = {}\n",
        "        for gram in self.n_sub_sent_counts.keys():\n",
        "            prefix = gram[:-1]\n",
        "            if prefix in self.N_dict:\n",
        "                self.N_dict[prefix] += 1\n",
        "                self.C_sum_dict[prefix] += self.n_sub_sent_counts[gram]\n",
        "            else:\n",
        "                self.N_dict[prefix] = 1\n",
        "                self.C_sum_dict[prefix] = self.n_sub_sent_counts[gram]\n",
        "        \n",
        "        \n",
        "\n",
        "        # END SOLUTION\n",
        "    def count_prob(self, n_gram):\n",
        "        probs = [] \n",
        "        for key in self.n_sub_sent_counts.keys():\n",
        "            if key[:-1] == tuple(n_gram[:-1]):\n",
        "                probs.append(self.n_sub_sent_counts[key])\n",
        "        return probs\n",
        "\n",
        "    # def find_N(self, n_gram):\n",
        "    #     count = 0 \n",
        "    #     sub_sent = seq_sentence(train_text, len(n_gram))\n",
        "    #     sub_sent_counts = Counter(sub_sent)\n",
        "    #     #print(sub_sent_counts)\n",
        "    #     for key in sub_sent_counts.keys():\n",
        "    #         if key[:-1] == tuple(n_gram[:-1]):\n",
        "    #             count += 1\n",
        "    #     return count\n",
        "    def new_probability(self, n_gram):\n",
        "        #print(\"Yang\")\n",
        "        N = self.N_dict.get(tuple(n_gram[:-1]), 0)\n",
        "        C = self.n_sub_sent_counts.get(tuple(n_gram), 0)\n",
        "        sum_C = self.C_sum_dict.get(tuple(n_gram[:-1]), 0)\n",
        "        if sum_C == 0:\n",
        "            #print(n_gram, self.n)\n",
        "            return self.lower_order_model.probability(n_gram)\n",
        "        else:\n",
        "            #print(\"Luke\")\n",
        "            return max(C-self.discount, 0) / sum_C + (self.discount*N)/sum_C*self.lower_order_model.probability(n_gram[1:])\n",
        "         \n",
        "    def n_gram_probability(self, n_gram):\n",
        "        assert len(n_gram) == self.n\n",
        "\n",
        "        # YOUR CODE HERE\n",
        "        # back off to the lower_order model with n'=n-1 using its n_gram_probability function\n",
        "        # BEGIN SOLUTION\n",
        "        \n",
        "        # N = self.find_N(n_gram)\n",
        "        # C = self.count_prob(n_gram)\n",
        "        # sum_C = sum(C)\n",
        "        # if sum_C == 0:\n",
        "        #     return self.lower_order_model(n_gram)\n",
        "        # else:\n",
        "        #     max(self.n_sub_sent_counts[n_gram]-self.discount, 0) / sum_C + N/sum_C*self.n_gram_probability(self, n_gram[1:])\n",
        "        return self.new_probability(n_gram)\n",
        "        # END SOLUTION\n",
        "\n",
        "\n",
        "bigram_backoff_model = DiscountBackoffModel(train_text, unigram_model, 2)\n",
        "trigram_backoff_model = DiscountBackoffModel(train_text, bigram_backoff_model, 3)\n",
        "check_validity(trigram_backoff_model)\n",
        "print('trigram backoff validation perplexity:', trigram_backoff_model.perplexity(validation_text))"
      ]
    },
    {
      "cell_type": "markdown",
      "metadata": {
        "id": "LVrWYSMsBRSV"
      },
      "source": [
        "Free up RAM. "
      ]
    },
    {
      "cell_type": "code",
      "execution_count": null,
      "metadata": {
        "id": "_WJe_trXBTjN"
      },
      "outputs": [],
      "source": [
        "# Release models we don't need any more. \n",
        "del unigram_model\n",
        "del bigram_backoff_model\n",
        "del trigram_backoff_model"
      ]
    },
    {
      "cell_type": "markdown",
      "metadata": {
        "id": "U5Xwrx8eO8i-"
      },
      "source": [
        "Now, implement Kneser-Ney to replace the unigram base model.\n",
        "$$P(w)\\propto |\\{w':c(w',w) > 0\\}|$$\n",
        "A Kneser-Ney trigram model should get a validation perplexity below 260."
      ]
    },
    {
      "cell_type": "code",
      "execution_count": null,
      "metadata": {
        "id": "g35KkB5ZBUW8"
      },
      "outputs": [],
      "source": [
        "class KneserNeyBaseModel(NGramModel):\n",
        "    def __init__(self, train_text):\n",
        "        super().__init__(train_text, n=1)\n",
        "\n",
        "        # YOUR CODE HERE\n",
        "\n",
        "        # BEGIN SOLUTION\n",
        "        self.bigram = seq_sentence(train_text, 2)\n",
        "        self.bigram_counts = Counter(self.bigram)\n",
        "        self.pair_dict = {} \n",
        "        for gram in self.bigram_counts.keys():\n",
        "            end = gram[1]\n",
        "            if end in self.pair_dict:\n",
        "                self.pair_dict[end] += 1\n",
        "            else:\n",
        "                self.pair_dict[end] = 1\n",
        "        # END SOLUTION\n",
        "        #print(self.pair_dict)\n",
        "    def n_gram_probability(self, n_gram):\n",
        "        assert len(n_gram) == 1\n",
        "\n",
        "        # YOUR CODE HERE\n",
        "        #print(tuple(n_gram), self.pair_dict.get(tuple(n_gram), 0))\n",
        "\n",
        "        # BEGIN SOLUTION\n",
        "        return self.pair_dict.get(n_gram[0], 0) / len(self.bigram_counts.keys())\n",
        "        # END SOLUTION\n",
        "\n",
        "kn_base = KneserNeyBaseModel(train_text)\n",
        "check_validity(kn_base)\n",
        "bigram_kn_backoff_model = DiscountBackoffModel(train_text, kn_base, 2)\n",
        "trigram_kn_backoff_model = DiscountBackoffModel(train_text, bigram_kn_backoff_model, 3)\n",
        "print('trigram Kneser-Ney backoff validation perplexity:', trigram_kn_backoff_model.perplexity(validation_text))\n",
        "\n",
        "save_truncated_distribution(trigram_kn_backoff_model, 'trigram_kn_predictions.npy') # this might take a few minutes"
      ]
    },
    {
      "cell_type": "code",
      "execution_count": null,
      "metadata": {
        "id": "OXcHXAjL43kd"
      },
      "outputs": [],
      "source": [
        "print(generate_text(trigram_kn_backoff_model))\n",
        "print(generate_text(trigram_kn_backoff_model, prefix=['What','about']))"
      ]
    },
    {
      "cell_type": "markdown",
      "metadata": {
        "id": "DPecL2jMXQ3y"
      },
      "source": [
        "Fill in your trigram backoff perplexities with and without Kneser Ney."
      ]
    },
    {
      "cell_type": "markdown",
      "metadata": {
        "id": "AIBVAMe0WV_1"
      },
      "source": [
        "<!-- Do not remove this comment, it is used by the autograder: RqYJKsoTS6 -->\n",
        "\n",
        "Trigram backoff validation perplexity: ***271.12170911169744***\n",
        "\n",
        "Trigram backoff with Kneser Ney perplexity: ***256.6133433729492***"
      ]
    },
    {
      "cell_type": "markdown",
      "metadata": {
        "id": "s3TFBf1CBiwp"
      },
      "source": [
        "Free up RAM. "
      ]
    },
    {
      "cell_type": "code",
      "execution_count": null,
      "metadata": {
        "id": "XGprSePzBpLW"
      },
      "outputs": [],
      "source": [
        "# Delete models we don't need. \n",
        "del kn_base\n",
        "del bigram_kn_backoff_model\n",
        "del trigram_kn_backoff_model"
      ]
    },
    {
      "cell_type": "markdown",
      "metadata": {
        "id": "fbGzQwppf9P5"
      },
      "source": [
        "If you want to learn more about n-gram language models and smoothing techniques, checkout the following paper: https://people.eecs.berkeley.edu/~klein/cs294-5/chen_goodman.pdf"
      ]
    },
    {
      "cell_type": "markdown",
      "metadata": {
        "id": "e5Y0S6XbB1iZ"
      },
      "source": [
        "### Neural N-gram Model\n",
        "\n",
        "In this section, you will implement a neural version of an n-gram model.  The model will use a simple feedforward neural network that takes the previous `n-1` words and outputs a distribution over the next word.\n",
        "\n",
        "You will use PyTorch to implement the model.  We've provided a little bit of code to help with the data loading using PyTorch's data loaders (https://pytorch.org/docs/stable/data.html)\n",
        "\n",
        "A model with the following architecture and hyperparameters should reach a validation perplexity below 226.\n",
        "* embed the words with dimension 128, then flatten into a single embedding for $n-1$ words (with size $(n-1)*128$)\n",
        "* run 2 hidden layers with 1024 hidden units, then project down to size 128 before the final layer (ie. 4 layers total). \n",
        "* use weight tying for the embedding and final linear layer (this made a very large difference in our experiments); you can do this by creating the output layer with `nn.Linear`, then using `F.embedding` with the linear layer's `.weight` to embed the input\n",
        "* rectified linear activation (ReLU) and dropout 0.1 after first 2 hidden layers. **Note: You will likely find a performance drop if you add a nonlinear activation function after the dimension reduction layer.**\n",
        "* train for 10 epochs with the Adam optimizer (should take around 15-20 minutes)\n",
        "* do early stopping based on validation set perplexity (see HW1A)\n",
        "\n",
        "\n",
        "We encourage you to try other architectures and hyperparameters, and you will likely find some that work better than the ones listed above.  A proper implementation with these should be enough to receive full credit on the assignment, though."
      ]
    },
    {
      "cell_type": "code",
      "execution_count": 10,
      "metadata": {},
      "outputs": [],
      "source": [
        "def ids(tokens):\n",
        "    return [vocab.stoi[t] for t in tokens]"
      ]
    },
    {
      "cell_type": "code",
      "execution_count": null,
      "metadata": {
        "id": "jokaz820Fk1h"
      },
      "outputs": [],
      "source": [
        "\n",
        "assert torch.cuda.is_available(), \"no GPU found, in Colab go to 'Edit->Notebook settings' and choose a GPU hardware accelerator\"\n",
        "\n",
        "class NeuralNgramDataset(torch.utils.data.Dataset):\n",
        "    def __init__(self, text_token_ids, n):\n",
        "        self.text_token_ids = text_token_ids\n",
        "        self.n = n\n",
        "\n",
        "    def __len__(self):\n",
        "        return len(self.text_token_ids)\n",
        "\n",
        "    def __getitem__(self, i):\n",
        "        if i < self.n-1:\n",
        "            prev_token_ids = [vocab.stoi['<eos>']] * (self.n-i-1) + self.text_token_ids[:i]\n",
        "        else:\n",
        "            prev_token_ids = self.text_token_ids[i-self.n+1:i]\n",
        "\n",
        "        assert len(prev_token_ids) == self.n-1\n",
        "\n",
        "        x = torch.tensor(prev_token_ids)\n",
        "        y = torch.tensor(self.text_token_ids[i])\n",
        "        return x, y\n",
        "\n",
        "class NeuralNGramNetwork(nn.Module):\n",
        "    # a PyTorch Module that holds the neural network for your model\n",
        "\n",
        "    def __init__(self, n):\n",
        "        super().__init__()\n",
        "        self.n = n\n",
        "\n",
        "        # YOUR CODE HERE\n",
        "\n",
        "        # BEGIN SOLUTION\n",
        "        self.net = nn.Sequential(\n",
        "            nn.Linear((n-1)*128, 1024),\n",
        "            nn.Linear(1024, 1024),\n",
        "            nn.ReLU(),\n",
        "            nn.Dropout(0.1),\n",
        "            nn.Linear(1024, 128)\n",
        "        )\n",
        "        self.final_layer = nn.Linear(128, vocab_size)\n",
        "        # END SOLUTION\n",
        "\n",
        "    def forward(self, x):\n",
        "        # x is a tensor of inputs with shape (batch, n-1)\n",
        "        # this function returns a tensor of log probabilities with shape (batch, vocab_size)\n",
        "\n",
        "        # YOUR CODE HERE\n",
        "\n",
        "        # BEGIN SOLUTION\n",
        "        embeded = F.embedding(x, self.final_layer.weight)\n",
        "        #print(embeded.size())\n",
        "        flattened  = embeded.flatten(1, 2)\n",
        "        #print(flattened.size())\n",
        "        hidden_out = self.net(flattened)\n",
        "        final = self.final_layer(hidden_out)\n",
        "        return final\n",
        "        # END SOLUTION\n",
        "\n",
        "class NeuralNGramModel:\n",
        "    # a class that wraps NeuralNGramNetwork to handle training and evaluation\n",
        "    # it's ok if this doesn't work for unigram modeling\n",
        "    def __init__(self, n):\n",
        "        self.n = n\n",
        "        self.network = NeuralNGramNetwork(n).cuda()\n",
        "\n",
        "    def train(self):\n",
        "        dataset = NeuralNgramDataset(ids(train_text), self.n)\n",
        "        train_loader = torch.utils.data.DataLoader(dataset, batch_size=128, shuffle=True)\n",
        "        # iterating over train_loader with a for loop will return a 2-tuple of batched tensors\n",
        "        # the first tensor will be previous token ids with size (batch, n-1),\n",
        "        # and the second will be the current token id with size (batch, )\n",
        "        # you will need to move these tensors to GPU, e.g. by using the Tensor.cuda() function.\n",
        "\n",
        "        # this will take some time to run; use tqdm.tqdm_notebook to get a progress bar \n",
        "        # (see Project 0 for example)\n",
        "\n",
        "        # YOUR CODE HERE\n",
        "        self.network.train()\n",
        "        # BEGIN SOLUTION\n",
        "        optimizer = torch.optim.Adam(list(self.network.parameters()))\n",
        "        best_score = float('inf')\n",
        "        check_point = self.network\n",
        "        PATH = \"model1b\"\n",
        "        n_epochs = 10\n",
        "        for epoch in range(n_epochs):\n",
        "            print('Epoch', epoch)\n",
        "            for batch_tensors in tqdm.notebook.tqdm(train_loader):\n",
        "                    \n",
        "                batch_tensors[0], batch_tensors[1] = batch_tensors[0].cuda(), batch_tensors[1].cuda()\n",
        "                assert self.network.training, 'make sure your network is in train mode with `.train()`'\n",
        "                optimizer.zero_grad()\n",
        "                logits = self.network(batch_tensors[0])\n",
        "                loss = F.cross_entropy(logits, batch_tensors[1])\n",
        "                loss.backward()\n",
        "                optimizer.step()\n",
        "            validation_score = self.perplexity(validation_text)\n",
        "            if validation_score < best_score:\n",
        "                check_point = torch.save(self.network.state_dict(), PATH)\n",
        "                best_score = validation_score\n",
        "            print(validation_score)\n",
        "        self.network.load_state_dict(torch.load(PATH))\n",
        "        return self.network\n",
        "        # END SOLUTION\n",
        "\n",
        "    def next_word_probabilities(self, text_prefix):\n",
        "        # YOUR CODE HERE\n",
        "        # don't forget self.network.eval()\n",
        "        # you will need to convert text_prefix from strings to numbers with the `ids` function\n",
        "        # if your `perplexity` function below is based on a NeuralNgramDataset DataLoader, you will need to use the same strategy for prefixes with less than n-1 tokens to pass the validity check\n",
        "        #   the data loader appends extra \"<eos>\" (end of sentence) tokens to the start of the input so there are always enough to run the network\n",
        "\n",
        "        # BEGIN SOLUTION\n",
        "        self.network.eval()\n",
        "        \n",
        "        if len(text_prefix) < self.n -1:\n",
        "            new_prefix = [\"<eos>\" for i in range(self.n - 1 - len(text_prefix))] + text_prefix\n",
        "        else:\n",
        "            new_prefix = text_prefix[len(text_prefix)-(self.n-1):]\n",
        "        #print(new_prefix)\n",
        "        idlized = ids(new_prefix)\n",
        "        #print(torch.tensor(idlized).cuda().unsqueeze(0).size())\n",
        "        out = self.network(torch.tensor(idlized).cuda().unsqueeze(0))\n",
        "        #print(out.size())\n",
        "        output = torch.softmax(out[0], 0)\n",
        "        #print(output)\n",
        "        return output.tolist()\n",
        "\n",
        "        self.network.train()\n",
        "        # END SOLUTION\n",
        "\n",
        "    def perplexity(self, text):\n",
        "        # you may want to use a DataLoader here with a NeuralNgramDataset\n",
        "        # don't forget self.network.eval()\n",
        "\n",
        "        # YOUR CODE HERE\n",
        "\n",
        "        # BEGIN SOLUTION\n",
        "        dataset = NeuralNgramDataset(ids(text), self.n)\n",
        "        data_loader = torch.utils.data.DataLoader(dataset, batch_size=128, shuffle=True)\n",
        "\n",
        "        log_probabilities = []\n",
        "        for x, y in data_loader:\n",
        "            x = x.cuda()\n",
        "            y = y.cuda()\n",
        "            #print(x.size())\n",
        "            # Note that the base of the log doesn't matter \n",
        "            # as long as the log and exp use the same base.\n",
        "            out = self.network(x)\n",
        "            #print(out.size(), y.size())\n",
        "            res = torch.log2(torch.gather(torch.softmax(out, dim=1), 1, y.unsqueeze(1)))\n",
        "            #print(res.tolist())\n",
        "            log_probabilities.extend(res.tolist())\n",
        "        #print(log_probabilities)\n",
        "        return 2 ** -np.mean(log_probabilities)\n",
        "        # END SOLUTION\n",
        "\n",
        "\n",
        "neural_trigram_model = NeuralNGramModel(3)\n",
        "check_validity(neural_trigram_model)\n",
        "neural_trigram_model.train()\n",
        "print('neural trigram validation perplexity:', neural_trigram_model.perplexity(validation_text))\n",
        "\n",
        "save_truncated_distribution(neural_trigram_model, 'neural_trigram_predictions.npy', short=False)"
      ]
    },
    {
      "cell_type": "code",
      "execution_count": null,
      "metadata": {},
      "outputs": [],
      "source": []
    },
    {
      "cell_type": "markdown",
      "metadata": {
        "id": "sm-xW4FGXYYi"
      },
      "source": [
        "Fill in your neural trigram perplexity."
      ]
    },
    {
      "cell_type": "markdown",
      "metadata": {
        "id": "Q0cX0k2IW88k"
      },
      "source": [
        "<!-- Do not remove this comment, it is used by the autograder: RqYJKsoTS6 -->\n",
        "\n",
        "Neural trigram validation perplexity: ***231.931557143433***"
      ]
    },
    {
      "cell_type": "markdown",
      "metadata": {
        "id": "8t5PCZnkB1r5"
      },
      "source": [
        "Free up RAM."
      ]
    },
    {
      "cell_type": "code",
      "execution_count": null,
      "metadata": {
        "id": "x1yH0lGOB1-S"
      },
      "outputs": [],
      "source": [
        "# Delete model we don't need. \n",
        "del neural_trigram_model"
      ]
    },
    {
      "cell_type": "markdown",
      "metadata": {
        "id": "qOp1Gb_0WjlE"
      },
      "source": [
        "### LSTM Model\n",
        "\n",
        "For this stage of the project, you will implement an LSTM language model.\n",
        "\n",
        "For recurrent language modeling, the data batching strategy is a bit different from what is used in some other tasks.  Sentences are concatenated together so that one sentence starts right after the other, and an unfinished sentence will be continued in the next batch.  We'll use the `torchtext` library to manage this batching for you.  To properly deal with this input format, you should save the last state of the LSTM from a batch to feed in as the first state of the next batch.  When you save state across different batches, you should call `.detach()` on the state tensors before the next batch to tell PyTorch not to backpropagate gradients through the state into the batch you have already finished (which will cause a runtime error).\n",
        "\n",
        "We expect your model to reach a validation perplexity below 130.  The following architecture and hyperparameters should be sufficient to get there.\n",
        "* 3 LSTM layers with 512 units\n",
        "* dropout of 0.5 after each LSTM layer\n",
        "* instead of projecting directly from the last LSTM output to the vocabulary size for softmax, project down to a smaller size first (e.g. 512->128->vocab_size). **NOTE: You may find that adding nonlinearities between these layers can hurt performance, try without first.**\n",
        "* use the same weights for the embedding layer and the pre-softmax layer; dimension 128\n",
        "* train with Adam (using default learning rates) for at least 20 epochs\n"
      ]
    },
    {
      "cell_type": "code",
      "execution_count": 8,
      "metadata": {},
      "outputs": [],
      "source": [
        "def init_state(layer, batch_size, hidden_size):\n",
        "    return (torch.zeros((layer, batch_size, hidden_size)).cuda(), torch.zeros((layer, batch_size, hidden_size)).cuda())"
      ]
    },
    {
      "cell_type": "code",
      "execution_count": 11,
      "metadata": {},
      "outputs": [],
      "source": []
    },
    {
      "cell_type": "code",
      "execution_count": 7,
      "metadata": {
        "id": "0qOLXKKoc7If"
      },
      "outputs": [
        {
          "name": "stderr",
          "output_type": "stream",
          "text": [
            "c:\\Users\\yangh\\Anaconda3\\envs\\gluon\\lib\\site-packages\\ipykernel_launcher.py:145: TqdmDeprecationWarning: This function will be removed in tqdm==5.0.0\n",
            "Please use `tqdm.notebook.tqdm` instead of `tqdm.tqdm_notebook`\n"
          ]
        },
        {
          "data": {
            "application/vnd.jupyter.widget-view+json": {
              "model_id": "6dcd33f908184e00a613e5d8af7b5358",
              "version_major": 2,
              "version_minor": 0
            },
            "text/plain": [
              "  0%|          | 0/107 [00:00<?, ?it/s]"
            ]
          },
          "metadata": {},
          "output_type": "display_data"
        },
        {
          "name": "stdout",
          "output_type": "stream",
          "text": [
            "-3271099.4580078125\n",
            "33517.48282403616\n",
            "Epoch 0\n"
          ]
        },
        {
          "name": "stderr",
          "output_type": "stream",
          "text": [
            "c:\\Users\\yangh\\Anaconda3\\envs\\gluon\\lib\\site-packages\\ipykernel_launcher.py:85: TqdmDeprecationWarning: This function will be removed in tqdm==5.0.0\n",
            "Please use `tqdm.notebook.tqdm` instead of `tqdm.tqdm_notebook`\n"
          ]
        },
        {
          "data": {
            "application/vnd.jupyter.widget-view+json": {
              "model_id": "5c28751113844c6bb7ab9262d835d41d",
              "version_major": 2,
              "version_minor": 0
            },
            "text/plain": [
              "  0%|          | 0/1020 [00:00<?, ?it/s]"
            ]
          },
          "metadata": {},
          "output_type": "display_data"
        },
        {
          "data": {
            "application/vnd.jupyter.widget-view+json": {
              "model_id": "28678f508f1f44d880b821fd2c18ab94",
              "version_major": 2,
              "version_minor": 0
            },
            "text/plain": [
              "  0%|          | 0/107 [00:00<?, ?it/s]"
            ]
          },
          "metadata": {},
          "output_type": "display_data"
        },
        {
          "name": "stdout",
          "output_type": "stream",
          "text": [
            "-1924012.607421875\n",
            "458.87891356435415\n",
            "458.87891356435415\n",
            "Epoch 1\n"
          ]
        },
        {
          "data": {
            "application/vnd.jupyter.widget-view+json": {
              "model_id": "7221115e1f6e4ce6a4d9589bbc4e0c9f",
              "version_major": 2,
              "version_minor": 0
            },
            "text/plain": [
              "  0%|          | 0/1020 [00:00<?, ?it/s]"
            ]
          },
          "metadata": {},
          "output_type": "display_data"
        },
        {
          "data": {
            "application/vnd.jupyter.widget-view+json": {
              "model_id": "e4ad145aec3940a4bd6b273e5c22231c",
              "version_major": 2,
              "version_minor": 0
            },
            "text/plain": [
              "  0%|          | 0/107 [00:00<?, ?it/s]"
            ]
          },
          "metadata": {},
          "output_type": "display_data"
        },
        {
          "name": "stdout",
          "output_type": "stream",
          "text": [
            "-1763173.400390625\n",
            "274.9106401116174\n",
            "274.9106401116174\n",
            "Epoch 2\n"
          ]
        },
        {
          "data": {
            "application/vnd.jupyter.widget-view+json": {
              "model_id": "5ee5a26966204527b00e764fbe5366e4",
              "version_major": 2,
              "version_minor": 0
            },
            "text/plain": [
              "  0%|          | 0/1020 [00:00<?, ?it/s]"
            ]
          },
          "metadata": {},
          "output_type": "display_data"
        },
        {
          "data": {
            "application/vnd.jupyter.widget-view+json": {
              "model_id": "3d6bfd54ff5e49d3959fc5ff818000c3",
              "version_major": 2,
              "version_minor": 0
            },
            "text/plain": [
              "  0%|          | 0/107 [00:00<?, ?it/s]"
            ]
          },
          "metadata": {},
          "output_type": "display_data"
        },
        {
          "name": "stdout",
          "output_type": "stream",
          "text": [
            "-1689003.2822265625\n",
            "217.06203626292464\n",
            "217.06203626292464\n",
            "Epoch 3\n"
          ]
        },
        {
          "data": {
            "application/vnd.jupyter.widget-view+json": {
              "model_id": "fdc91fa1189d4376adf5e75c55e2043f",
              "version_major": 2,
              "version_minor": 0
            },
            "text/plain": [
              "  0%|          | 0/1020 [00:00<?, ?it/s]"
            ]
          },
          "metadata": {},
          "output_type": "display_data"
        },
        {
          "data": {
            "application/vnd.jupyter.widget-view+json": {
              "model_id": "c9df47d04a914055a127b33a2761d4af",
              "version_major": 2,
              "version_minor": 0
            },
            "text/plain": [
              "  0%|          | 0/107 [00:00<?, ?it/s]"
            ]
          },
          "metadata": {},
          "output_type": "display_data"
        },
        {
          "name": "stdout",
          "output_type": "stream",
          "text": [
            "-1648492.7143554688\n",
            "190.78364939281684\n",
            "190.78364939281684\n",
            "Epoch 4\n"
          ]
        },
        {
          "data": {
            "application/vnd.jupyter.widget-view+json": {
              "model_id": "48219ccffd904f37ab06231f64bdeb57",
              "version_major": 2,
              "version_minor": 0
            },
            "text/plain": [
              "  0%|          | 0/1020 [00:00<?, ?it/s]"
            ]
          },
          "metadata": {},
          "output_type": "display_data"
        },
        {
          "data": {
            "application/vnd.jupyter.widget-view+json": {
              "model_id": "a4cc1f80ae864653938586b718f4c3c7",
              "version_major": 2,
              "version_minor": 0
            },
            "text/plain": [
              "  0%|          | 0/107 [00:00<?, ?it/s]"
            ]
          },
          "metadata": {},
          "output_type": "display_data"
        },
        {
          "name": "stdout",
          "output_type": "stream",
          "text": [
            "-1623134.24609375\n",
            "175.97865565676642\n",
            "175.97865565676642\n",
            "Epoch 5\n"
          ]
        },
        {
          "data": {
            "application/vnd.jupyter.widget-view+json": {
              "model_id": "b1923602dc344e3ca67ffcfb37dfe1b6",
              "version_major": 2,
              "version_minor": 0
            },
            "text/plain": [
              "  0%|          | 0/1020 [00:00<?, ?it/s]"
            ]
          },
          "metadata": {},
          "output_type": "display_data"
        },
        {
          "data": {
            "application/vnd.jupyter.widget-view+json": {
              "model_id": "a1cedad78a524d8b80f43968a59135a9",
              "version_major": 2,
              "version_minor": 0
            },
            "text/plain": [
              "  0%|          | 0/107 [00:00<?, ?it/s]"
            ]
          },
          "metadata": {},
          "output_type": "display_data"
        },
        {
          "name": "stdout",
          "output_type": "stream",
          "text": [
            "-1613655.3696289062\n",
            "170.74453968967538\n",
            "170.74453968967538\n",
            "Epoch 6\n"
          ]
        },
        {
          "data": {
            "application/vnd.jupyter.widget-view+json": {
              "model_id": "02818963be6442c2ab26953f5793a571",
              "version_major": 2,
              "version_minor": 0
            },
            "text/plain": [
              "  0%|          | 0/1020 [00:00<?, ?it/s]"
            ]
          },
          "metadata": {},
          "output_type": "display_data"
        },
        {
          "data": {
            "application/vnd.jupyter.widget-view+json": {
              "model_id": "f021eb1c2dee4242bb026b70f18d4662",
              "version_major": 2,
              "version_minor": 0
            },
            "text/plain": [
              "  0%|          | 0/107 [00:00<?, ?it/s]"
            ]
          },
          "metadata": {},
          "output_type": "display_data"
        },
        {
          "name": "stdout",
          "output_type": "stream",
          "text": [
            "-1596043.1337890625\n",
            "161.42912121032074\n",
            "161.42912121032074\n",
            "Epoch 7\n"
          ]
        },
        {
          "data": {
            "application/vnd.jupyter.widget-view+json": {
              "model_id": "8f9ee68026f64c43bdebefbab865ba15",
              "version_major": 2,
              "version_minor": 0
            },
            "text/plain": [
              "  0%|          | 0/1020 [00:00<?, ?it/s]"
            ]
          },
          "metadata": {},
          "output_type": "display_data"
        },
        {
          "data": {
            "application/vnd.jupyter.widget-view+json": {
              "model_id": "dfb24c7f9a08411b855065ff84004d65",
              "version_major": 2,
              "version_minor": 0
            },
            "text/plain": [
              "  0%|          | 0/107 [00:00<?, ?it/s]"
            ]
          },
          "metadata": {},
          "output_type": "display_data"
        },
        {
          "name": "stdout",
          "output_type": "stream",
          "text": [
            "-1581058.8474121094\n",
            "153.9049089615385\n",
            "153.9049089615385\n",
            "Epoch 8\n"
          ]
        },
        {
          "data": {
            "application/vnd.jupyter.widget-view+json": {
              "model_id": "3396aedc51514affbb03faa44959b5f9",
              "version_major": 2,
              "version_minor": 0
            },
            "text/plain": [
              "  0%|          | 0/1020 [00:00<?, ?it/s]"
            ]
          },
          "metadata": {},
          "output_type": "display_data"
        },
        {
          "data": {
            "application/vnd.jupyter.widget-view+json": {
              "model_id": "bb5f93b99b1e4d4f9424ae2aca625358",
              "version_major": 2,
              "version_minor": 0
            },
            "text/plain": [
              "  0%|          | 0/107 [00:00<?, ?it/s]"
            ]
          },
          "metadata": {},
          "output_type": "display_data"
        },
        {
          "name": "stdout",
          "output_type": "stream",
          "text": [
            "-1572527.15625\n",
            "149.77855840881142\n",
            "149.77855840881142\n",
            "Epoch 9\n"
          ]
        },
        {
          "data": {
            "application/vnd.jupyter.widget-view+json": {
              "model_id": "6f8dbb5ddabd426eb43d360e1564d807",
              "version_major": 2,
              "version_minor": 0
            },
            "text/plain": [
              "  0%|          | 0/1020 [00:00<?, ?it/s]"
            ]
          },
          "metadata": {},
          "output_type": "display_data"
        },
        {
          "data": {
            "application/vnd.jupyter.widget-view+json": {
              "model_id": "87d5f81584c54a3088fc7d3d2663ad69",
              "version_major": 2,
              "version_minor": 0
            },
            "text/plain": [
              "  0%|          | 0/107 [00:00<?, ?it/s]"
            ]
          },
          "metadata": {},
          "output_type": "display_data"
        },
        {
          "name": "stdout",
          "output_type": "stream",
          "text": [
            "-1560522.4411621094\n",
            "144.15914719813688\n",
            "144.15914719813688\n",
            "Epoch 10\n"
          ]
        },
        {
          "data": {
            "application/vnd.jupyter.widget-view+json": {
              "model_id": "280f233678ec4985a1d6f99c3e1e117c",
              "version_major": 2,
              "version_minor": 0
            },
            "text/plain": [
              "  0%|          | 0/1020 [00:00<?, ?it/s]"
            ]
          },
          "metadata": {},
          "output_type": "display_data"
        },
        {
          "data": {
            "application/vnd.jupyter.widget-view+json": {
              "model_id": "e7c5e66430b54065923047c1b2262fb1",
              "version_major": 2,
              "version_minor": 0
            },
            "text/plain": [
              "  0%|          | 0/107 [00:00<?, ?it/s]"
            ]
          },
          "metadata": {},
          "output_type": "display_data"
        },
        {
          "name": "stdout",
          "output_type": "stream",
          "text": [
            "-1555163.3181152344\n",
            "141.71908529310673\n",
            "141.71908529310673\n",
            "Epoch 11\n"
          ]
        },
        {
          "data": {
            "application/vnd.jupyter.widget-view+json": {
              "model_id": "ce1bc512d6e14ab290581b4efab493f7",
              "version_major": 2,
              "version_minor": 0
            },
            "text/plain": [
              "  0%|          | 0/1020 [00:00<?, ?it/s]"
            ]
          },
          "metadata": {},
          "output_type": "display_data"
        },
        {
          "data": {
            "application/vnd.jupyter.widget-view+json": {
              "model_id": "a4e05408149343d8b2751e0ba7188a96",
              "version_major": 2,
              "version_minor": 0
            },
            "text/plain": [
              "  0%|          | 0/107 [00:00<?, ?it/s]"
            ]
          },
          "metadata": {},
          "output_type": "display_data"
        },
        {
          "name": "stdout",
          "output_type": "stream",
          "text": [
            "-1547973.81640625\n",
            "138.5103774287543\n",
            "138.5103774287543\n",
            "Epoch 12\n"
          ]
        },
        {
          "data": {
            "application/vnd.jupyter.widget-view+json": {
              "model_id": "8725f07f665c46fe872f34f6ab2a449e",
              "version_major": 2,
              "version_minor": 0
            },
            "text/plain": [
              "  0%|          | 0/1020 [00:00<?, ?it/s]"
            ]
          },
          "metadata": {},
          "output_type": "display_data"
        },
        {
          "data": {
            "application/vnd.jupyter.widget-view+json": {
              "model_id": "5570d0116e2644898c43de4876b3fc13",
              "version_major": 2,
              "version_minor": 0
            },
            "text/plain": [
              "  0%|          | 0/107 [00:00<?, ?it/s]"
            ]
          },
          "metadata": {},
          "output_type": "display_data"
        },
        {
          "name": "stdout",
          "output_type": "stream",
          "text": [
            "-1544866.1508789062\n",
            "137.14599744755347\n",
            "137.14599744755347\n",
            "Epoch 13\n"
          ]
        },
        {
          "data": {
            "application/vnd.jupyter.widget-view+json": {
              "model_id": "73c7ebfb1114408a97182abd1d74769b",
              "version_major": 2,
              "version_minor": 0
            },
            "text/plain": [
              "  0%|          | 0/1020 [00:00<?, ?it/s]"
            ]
          },
          "metadata": {},
          "output_type": "display_data"
        },
        {
          "data": {
            "application/vnd.jupyter.widget-view+json": {
              "model_id": "f3ad6387295840958d7d8ab34d24272e",
              "version_major": 2,
              "version_minor": 0
            },
            "text/plain": [
              "  0%|          | 0/107 [00:00<?, ?it/s]"
            ]
          },
          "metadata": {},
          "output_type": "display_data"
        },
        {
          "name": "stdout",
          "output_type": "stream",
          "text": [
            "-1547970.5344238281\n",
            "138.50892938107077\n",
            "138.50892938107077\n",
            "Epoch 14\n"
          ]
        },
        {
          "data": {
            "application/vnd.jupyter.widget-view+json": {
              "model_id": "3193b2c68f4f46bea250dad3f060d0d4",
              "version_major": 2,
              "version_minor": 0
            },
            "text/plain": [
              "  0%|          | 0/1020 [00:00<?, ?it/s]"
            ]
          },
          "metadata": {},
          "output_type": "display_data"
        },
        {
          "data": {
            "application/vnd.jupyter.widget-view+json": {
              "model_id": "4816e98caf6d48a5bf461a96eee821b9",
              "version_major": 2,
              "version_minor": 0
            },
            "text/plain": [
              "  0%|          | 0/107 [00:00<?, ?it/s]"
            ]
          },
          "metadata": {},
          "output_type": "display_data"
        },
        {
          "name": "stdout",
          "output_type": "stream",
          "text": [
            "-1537953.8110351562\n",
            "134.15922413029412\n",
            "134.15922413029412\n",
            "Epoch 15\n"
          ]
        },
        {
          "data": {
            "application/vnd.jupyter.widget-view+json": {
              "model_id": "e6041ebdcd0742c08537631e50087621",
              "version_major": 2,
              "version_minor": 0
            },
            "text/plain": [
              "  0%|          | 0/1020 [00:00<?, ?it/s]"
            ]
          },
          "metadata": {},
          "output_type": "display_data"
        },
        {
          "data": {
            "application/vnd.jupyter.widget-view+json": {
              "model_id": "885476c55ae74eecbaae8a64b61c1e70",
              "version_major": 2,
              "version_minor": 0
            },
            "text/plain": [
              "  0%|          | 0/107 [00:00<?, ?it/s]"
            ]
          },
          "metadata": {},
          "output_type": "display_data"
        },
        {
          "name": "stdout",
          "output_type": "stream",
          "text": [
            "-1539382.8452148438\n",
            "134.77131876029347\n",
            "134.77131876029347\n",
            "Epoch 16\n"
          ]
        },
        {
          "data": {
            "application/vnd.jupyter.widget-view+json": {
              "model_id": "cb4092c8d0d34b4b985a5ef85ede16b4",
              "version_major": 2,
              "version_minor": 0
            },
            "text/plain": [
              "  0%|          | 0/1020 [00:00<?, ?it/s]"
            ]
          },
          "metadata": {},
          "output_type": "display_data"
        },
        {
          "data": {
            "application/vnd.jupyter.widget-view+json": {
              "model_id": "c55271aa10bf44dfbe4b5d985d024c16",
              "version_major": 2,
              "version_minor": 0
            },
            "text/plain": [
              "  0%|          | 0/107 [00:00<?, ?it/s]"
            ]
          },
          "metadata": {},
          "output_type": "display_data"
        },
        {
          "name": "stdout",
          "output_type": "stream",
          "text": [
            "-1534215.6584472656\n",
            "132.57118572942898\n",
            "132.57118572942898\n",
            "Epoch 17\n"
          ]
        },
        {
          "data": {
            "application/vnd.jupyter.widget-view+json": {
              "model_id": "7736ee16e247441a8bd688b1c08cf225",
              "version_major": 2,
              "version_minor": 0
            },
            "text/plain": [
              "  0%|          | 0/1020 [00:00<?, ?it/s]"
            ]
          },
          "metadata": {},
          "output_type": "display_data"
        },
        {
          "data": {
            "application/vnd.jupyter.widget-view+json": {
              "model_id": "2b0d7c39142649e8b81a08e787711ec1",
              "version_major": 2,
              "version_minor": 0
            },
            "text/plain": [
              "  0%|          | 0/107 [00:00<?, ?it/s]"
            ]
          },
          "metadata": {},
          "output_type": "display_data"
        },
        {
          "name": "stdout",
          "output_type": "stream",
          "text": [
            "-1531031.0673828125\n",
            "131.23314772900804\n",
            "131.23314772900804\n",
            "Epoch 18\n"
          ]
        },
        {
          "data": {
            "application/vnd.jupyter.widget-view+json": {
              "model_id": "b46f92f543e844358418baad3678e72a",
              "version_major": 2,
              "version_minor": 0
            },
            "text/plain": [
              "  0%|          | 0/1020 [00:00<?, ?it/s]"
            ]
          },
          "metadata": {},
          "output_type": "display_data"
        },
        {
          "data": {
            "application/vnd.jupyter.widget-view+json": {
              "model_id": "7a80af00026e4374a9fc9d21f953351a",
              "version_major": 2,
              "version_minor": 0
            },
            "text/plain": [
              "  0%|          | 0/107 [00:00<?, ?it/s]"
            ]
          },
          "metadata": {},
          "output_type": "display_data"
        },
        {
          "name": "stdout",
          "output_type": "stream",
          "text": [
            "-1527191.3930664062\n",
            "129.6378149452193\n",
            "129.6378149452193\n",
            "Epoch 19\n"
          ]
        },
        {
          "data": {
            "application/vnd.jupyter.widget-view+json": {
              "model_id": "1542de0472c6400c8fd3833d5396204e",
              "version_major": 2,
              "version_minor": 0
            },
            "text/plain": [
              "  0%|          | 0/1020 [00:00<?, ?it/s]"
            ]
          },
          "metadata": {},
          "output_type": "display_data"
        },
        {
          "data": {
            "application/vnd.jupyter.widget-view+json": {
              "model_id": "ac26e0f584eb4770b8cb8ae7881ee6e0",
              "version_major": 2,
              "version_minor": 0
            },
            "text/plain": [
              "  0%|          | 0/107 [00:00<?, ?it/s]"
            ]
          },
          "metadata": {},
          "output_type": "display_data"
        },
        {
          "name": "stdout",
          "output_type": "stream",
          "text": [
            "-1525947.2236328125\n",
            "129.12505099338287\n",
            "129.12505099338287\n"
          ]
        },
        {
          "data": {
            "text/plain": [
              "LSTMNetwork(\n",
              "  (lstm): LSTM(128, 512, num_layers=3, dropout=0.5)\n",
              "  (dropout): Dropout(p=0.5, inplace=False)\n",
              "  (linear): Linear(in_features=512, out_features=128, bias=True)\n",
              "  (final_layer): Linear(in_features=128, out_features=33279, bias=True)\n",
              ")"
            ]
          },
          "execution_count": 7,
          "metadata": {},
          "output_type": "execute_result"
        }
      ],
      "source": [
        "LSTM_perplexity = []\n",
        "class LSTMNetwork(nn.Module):\n",
        "    # a PyTorch Module that holds the neural network for your model\n",
        "\n",
        "    def __init__(self):\n",
        "        super().__init__()\n",
        "\n",
        "        # YOUR CODE HERE\n",
        "        embedding_dim = 128\n",
        "        self.lstm = nn.LSTM(embedding_dim, 512, num_layers = 3, dropout = 0.5)\n",
        "        self.dropout = nn.Dropout()\n",
        "        self.linear = nn.Linear(512, 128)\n",
        "        self.final_layer = nn.Linear(128, vocab_size)\n",
        "        # BEGIN SOLUTION\n",
        "        \n",
        "        # END SOLUTION\n",
        "\n",
        "    def forward(self, x, state):\n",
        "        \"\"\"Compute the output of the network.\n",
        "        \n",
        "        Note: In the Pytorch LSTM tutorial, the state variable is named \"hidden\":\n",
        "        https://pytorch.org/tutorials/beginner/nlp/sequence_models_tutorial.html\n",
        "\n",
        "        The torch.nn.LSTM documentation is quite helpful:\n",
        "        https://pytorch.org/docs/stable/nn.html#lstm\n",
        "    \n",
        "        x - a tensor of int64 inputs with shape (seq_len, batch)\n",
        "        state - a tuple of two tensors with shape (num_layers, batch, hidden_size)\n",
        "                representing the hidden state and cell state of the of the LSTM.\n",
        "        returns a tuple with two elements:\n",
        "          - a tensor of log probabilities with shape (seq_len, batch, vocab_size)\n",
        "          - a state tuple returned by applying the LSTM.\n",
        "        \"\"\"\n",
        "\n",
        "        # Note that the nn.LSTM module expects inputs with the sequence \n",
        "        # dimension before the batch by default.\n",
        "        # In this case the dimensions are already in the right order, \n",
        "        # but watch out for this since sometimes people put the batch first\n",
        "\n",
        "        # YOUR CODE HERE\n",
        "\n",
        "        # BEGIN SOLUTION\n",
        "        \n",
        "\n",
        "        embeded = F.embedding(x, self.final_layer.weight)\n",
        "        #print(embeded.size())\n",
        "        \n",
        "        out, state = self.lstm(embeded, state)\n",
        "        #print(flattened.size())\n",
        "        #hidden_out = self.lstm(embeded)\n",
        "        final = self.final_layer(self.linear(self.dropout(out)))\n",
        "        state = (state[0].detach(), state[1].detach())\n",
        "        return final, state\n",
        "        # END SOLUTION\n",
        "\n",
        "class LSTMModel:\n",
        "    \"A class that wraps LSTMNetwork to handle training and evaluation.\"\n",
        "\n",
        "    def __init__(self):\n",
        "        self.network = LSTMNetwork().cuda()\n",
        "\n",
        "    def train(self):\n",
        "        train_iterator = torchtext.data.BPTTIterator(train_dataset, batch_size=64, \n",
        "                                                     bptt_len=32, device='cuda')\n",
        "        # Iterate over train_iterator with a for loop to get batches\n",
        "        # each batch object has a .text and .target attribute with\n",
        "        # token id tensors for the input and output respectively.\n",
        "\n",
        "        # The initial state passed into the LSTM should be set to zero.\n",
        "\n",
        "        # YOUR CODE HERE\n",
        "\n",
        "        # BEGIN SOLUTION\n",
        "        self.network.train()\n",
        "        # BEGIN SOLUTION\n",
        "        optimizer = torch.optim.Adam(list(self.network.parameters()))\n",
        "        \n",
        "        best_score = self.dataset_perplexity(validation_dataset)\n",
        "        print(best_score)\n",
        "        check_point = self.network\n",
        "        PATH = \"model1b2\"\n",
        "        n_epochs = 20\n",
        "        for epoch in range(n_epochs):\n",
        "            print('Epoch', epoch)\n",
        "            state = init_state(3, 64, 512)\n",
        "            for batch_tensors in tqdm.tqdm_notebook(train_iterator):\n",
        "                    \n",
        "                x = batch_tensors.text.cuda()\n",
        "                y = batch_tensors.target.cuda()\n",
        "                \n",
        "                assert self.network.training, 'make sure your network is in train mode with `.train()`'\n",
        "                optimizer.zero_grad()\n",
        "                logits, state = self.network(x, state)\n",
        "                \n",
        "                #print(torch.transpose(logits, 1,2).size(), y.size())\n",
        "                loss = F.cross_entropy( logits.view(-1, logits.size()[2]), y.view(-1))\n",
        "                \n",
        "                loss.backward()\n",
        "                optimizer.step()\n",
        "                \n",
        "                \n",
        "                \n",
        "            validation_score = self.dataset_perplexity(validation_dataset)\n",
        "            LSTM_perplexity.append(validation_score)\n",
        "            print(validation_score)\n",
        "            if validation_score < best_score:\n",
        "                check_point = torch.save(self.network.state_dict(), PATH)\n",
        "                best_score = validation_score\n",
        "            print(validation_score)\n",
        "        self.network.load_state_dict(torch.load(PATH))\n",
        "        return self.network\n",
        "        # END SOLUTION\n",
        "\n",
        "    def next_word_probabilities(self, text_prefix):\n",
        "        \"Return a list of probabilities for each word in the vocabulary.\"\n",
        "\n",
        "        prefix_token_tensor = torch.tensor(ids(text_prefix), device='cuda').view(-1, 1)\n",
        "        \n",
        "        # YOUR CODE HERE\n",
        "        self.network.eval()\n",
        "        state = init_state(3, 1, 512)\n",
        "        out, state = self.network(prefix_token_tensor, state)\n",
        "        out = out[-1]\n",
        "        out = out.view(-1)\n",
        "        return out.tolist()\n",
        "        # BEGIN SOLUTION\n",
        "        \n",
        "        # END SOLUTION\n",
        "\n",
        "    def dataset_perplexity(self, torchtext_dataset):\n",
        "        \"Return perplexity as a float.\"\n",
        "        # Your code should be very similar to next_word_probabilities, but\n",
        "        # run in a loop over batches. Use torch.no_grad() for extra speed.\n",
        "\n",
        "        iterator = torchtext.data.BPTTIterator(torchtext_dataset, batch_size=64, bptt_len=32, device='cuda')\n",
        "\n",
        "        # YOUR CODE HERE\n",
        "\n",
        "        # BEGIN SOLUTION\n",
        "        self.network.eval()\n",
        "        \n",
        "        with torch.no_grad():\n",
        "            total_prob = 0        \n",
        "            count = 0\n",
        "            state = init_state(3, 64, 512)\n",
        "            for batch_tensors in tqdm.tqdm_notebook(iterator):\n",
        "                    x = batch_tensors.text.cuda()\n",
        "                    y = batch_tensors.target.cuda()\n",
        "                    \n",
        "                    assert not self.network.training, 'make sure your network is in train mode with `.train()`'\n",
        "                    output, state = self.network(x, state)\n",
        "                    #print(output.size())\n",
        "                    logits = F.softmax(output, -1)\n",
        "                    #print(logits.size())\n",
        "                    logits, y = logits.view(-1, logits.size()[2]), y.view(-1)\n",
        "                    probs = torch.gather(logits, -1, y.unsqueeze(1)).squeeze()\n",
        "                    #print(probs)\n",
        "                    total_prob += torch.sum(torch.log2(probs)).item()\n",
        "                    count += x.size()[1]*x.size()[0]\n",
        "            print(total_prob)\n",
        "            total_prob = total_prob/count\n",
        "        total_prob = 2**(-total_prob)\n",
        "        self.network.train()\n",
        "        return total_prob\n",
        "        \n",
        "        # END SOLUTION\n",
        "lstm_model = LSTMModel()\n",
        "lstm_model.train()\n"
      ]
    },
    {
      "cell_type": "code",
      "execution_count": 12,
      "metadata": {},
      "outputs": [
        {
          "name": "stderr",
          "output_type": "stream",
          "text": [
            "c:\\Users\\yangh\\Anaconda3\\envs\\gluon\\lib\\site-packages\\ipykernel_launcher.py:144: TqdmDeprecationWarning: This function will be removed in tqdm==5.0.0\n",
            "Please use `tqdm.notebook.tqdm` instead of `tqdm.tqdm_notebook`\n"
          ]
        },
        {
          "data": {
            "application/vnd.jupyter.widget-view+json": {
              "model_id": "6eafd94ba9ad4b36a0b3ed157944eb29",
              "version_major": 2,
              "version_minor": 0
            },
            "text/plain": [
              "  0%|          | 0/107 [00:00<?, ?it/s]"
            ]
          },
          "metadata": {},
          "output_type": "display_data"
        },
        {
          "name": "stdout",
          "output_type": "stream",
          "text": [
            "-1521735.4780273438\n",
            "lstm validation perplexity: 127.40425581998542\n"
          ]
        },
        {
          "name": "stderr",
          "output_type": "stream",
          "text": [
            "c:\\Users\\yangh\\Anaconda3\\envs\\gluon\\lib\\site-packages\\ipykernel_launcher.py:28: TqdmDeprecationWarning: This function will be removed in tqdm==5.0.0\n",
            "Please use `tqdm.notebook.tqdm` instead of `tqdm.tqdm_notebook`\n"
          ]
        },
        {
          "data": {
            "application/vnd.jupyter.widget-view+json": {
              "model_id": "853f7917ed114f2fb43244aba4ed513b",
              "version_major": 2,
              "version_minor": 0
            },
            "text/plain": [
              "  0%|          | 0/5000 [00:00<?, ?it/s]"
            ]
          },
          "metadata": {},
          "output_type": "display_data"
        },
        {
          "name": "stdout",
          "output_type": "stream",
          "text": [
            "saved lstm_predictions.npy\n"
          ]
        }
      ],
      "source": [
        "\n",
        "print('lstm validation perplexity:', lstm_model.dataset_perplexity(validation_dataset))\n",
        "save_truncated_distribution(lstm_model, 'lstm_predictions.npy', short=False)"
      ]
    },
    {
      "cell_type": "code",
      "execution_count": 7,
      "metadata": {},
      "outputs": [],
      "source": [
        "del lstm_model\n",
        " "
      ]
    },
    {
      "cell_type": "code",
      "execution_count": 8,
      "metadata": {},
      "outputs": [],
      "source": [
        "torch.cuda.empty_cache() "
      ]
    },
    {
      "cell_type": "markdown",
      "metadata": {
        "id": "7pGhdPQqHx9v"
      },
      "source": [
        "<!-- Do not remove this comment, it is used by the autograder: RqYJKsoTS6 -->\n",
        "\n",
        "Fill in your LSTM perplexity. \n",
        "\n",
        "LSTM validation perplexity: ***127.40425581998542***"
      ]
    },
    {
      "cell_type": "markdown",
      "metadata": {
        "id": "kLoiXBWMaSPc"
      },
      "source": [
        "# Experimentation\n",
        "\n",
        "Now it's time for you to experiment.  Try to reach a validation perplexity below 120. You may either modify the LSTM class above, or copy it down to the code cell below and modify it there. Just **be sure to run code cell below to generate results with your improved LSTM**.  \n",
        "\n",
        "It is okay if the bulk of your improvements are due to hyperparameter tuning (such as changing number or sizes of layers), but implement at least one more substantial change to the model.  Here are some ideas (several of which come from https://arxiv.org/pdf/1708.02182.pdf):\n",
        "* activation regularization - add a l2 regularization penalty on the activation of the LSTM output (standard l2 regularization is on the weights)\n",
        "* weight-drop regularization - apply dropout to the weight matrices instead of activations\n",
        "* learning rate scheduling - decrease the learning rate during training\n",
        "* embedding dropout - zero out the entire embedding for a random set of words in the embedding matrix\n",
        "* ensembling - average the predictions of several models trained with different initialization random seeds\n",
        "* temporal activation regularization - add l2 regularization on the difference between the LSTM output activations at adjacent timesteps\n",
        "\n",
        "You may notice that most of these suggestions are regularization techniques.  This dataset is considered fairly small, so regularization is one of the best ways to improve performance.\n"
      ]
    },
    {
      "cell_type": "markdown",
      "metadata": {
        "id": "i4fxj-BQTDgU"
      },
      "source": [
        "Run the cell below in order to train your improved LSTM and evaluate it.  "
      ]
    },
    {
      "cell_type": "code",
      "execution_count": 5,
      "metadata": {
        "id": "Z_244hhNP9PO"
      },
      "outputs": [],
      "source": [
        "## Feel free to copy your original LSTM solution down here to modify for your report if you'd like. \n",
        "# YOUR CODE [optionally] HERE\n",
        "##\n",
        "IPLSTM_perplexity = []\n",
        "class LSTMNetwork(nn.Module):\n",
        "    # a PyTorch Module that holds the neural network for your model\n",
        "\n",
        "    def __init__(self):\n",
        "        super().__init__()\n",
        "\n",
        "        # YOUR CODE HERE\n",
        "        embedding_dim = 128\n",
        "        self.lstm = nn.LSTM(embedding_dim, 512, num_layers = 3, dropout = 0.5)\n",
        "        self.act = nn.ReLU()\n",
        "        self.dropout = nn.Dropout()\n",
        "        self.linear = nn.Linear(512, 128)\n",
        "        self.final_layer = nn.Linear(128, vocab_size)\n",
        "        # BEGIN SOLUTION\n",
        "        \n",
        "        # END SOLUTION\n",
        "\n",
        "    def forward(self, x, state):\n",
        "        \"\"\"Compute the output of the network.\n",
        "        \n",
        "        Note: In the Pytorch LSTM tutorial, the state variable is named \"hidden\":\n",
        "        https://pytorch.org/tutorials/beginner/nlp/sequence_models_tutorial.html\n",
        "\n",
        "        The torch.nn.LSTM documentation is quite helpful:\n",
        "        https://pytorch.org/docs/stable/nn.html#lstm\n",
        "    \n",
        "        x - a tensor of int64 inputs with shape (seq_len, batch)\n",
        "        state - a tuple of two tensors with shape (num_layers, batch, hidden_size)\n",
        "                representing the hidden state and cell state of the of the LSTM.\n",
        "        returns a tuple with two elements:\n",
        "          - a tensor of log probabilities with shape (seq_len, batch, vocab_size)\n",
        "          - a state tuple returned by applying the LSTM.\n",
        "        \"\"\"\n",
        "\n",
        "        # Note that the nn.LSTM module expects inputs with the sequence \n",
        "        # dimension before the batch by default.\n",
        "        # In this case the dimensions are already in the right order, \n",
        "        # but watch out for this since sometimes people put the batch first\n",
        "\n",
        "        # YOUR CODE HERE\n",
        "\n",
        "        # BEGIN SOLUTION\n",
        "        \n",
        "\n",
        "        embeded = F.embedding(x, self.final_layer.weight)\n",
        "        #print(embeded.size())\n",
        "        \n",
        "        out, state = self.lstm(embeded, state)\n",
        "        #print(flattened.size())\n",
        "        #hidden_out = self.lstm(embeded)\n",
        "        final = self.final_layer(self.linear(self.dropout(self.act(out))))\n",
        "        state = (state[0].detach(), state[1].detach())\n",
        "        return final, state\n",
        "        # END SOLUTION\n",
        "\n",
        "class LSTMModel:\n",
        "    \"A class that wraps LSTMNetwork to handle training and evaluation.\"\n",
        "\n",
        "    def __init__(self):\n",
        "        self.network = LSTMNetwork().cuda()\n",
        "\n",
        "    def train(self):\n",
        "        train_iterator = torchtext.data.BPTTIterator(train_dataset, batch_size=64, \n",
        "                                                     bptt_len=32, device='cuda')\n",
        "        # Iterate over train_iterator with a for loop to get batches\n",
        "        # each batch object has a .text and .target attribute with\n",
        "        # token id tensors for the input and output respectively.\n",
        "\n",
        "        # The initial state passed into the LSTM should be set to zero.\n",
        "\n",
        "        # YOUR CODE HERE\n",
        "\n",
        "        # BEGIN SOLUTION\n",
        "        self.network.train()\n",
        "        # BEGIN SOLUTION\n",
        "        optimizer = torch.optim.Adam(list(self.network.parameters()), weight_decay=0.0001)\n",
        "        \n",
        "        best_score = self.dataset_perplexity(validation_dataset)\n",
        "        print(best_score)\n",
        "        check_point = self.network\n",
        "        PATH = \"model1b3\"\n",
        "        n_epochs = 20\n",
        "        for epoch in range(n_epochs):\n",
        "            print('Epoch', epoch)\n",
        "            state = init_state(3, 64, 512)\n",
        "            for batch_tensors in tqdm.tqdm_notebook(train_iterator):\n",
        "                    \n",
        "                x = batch_tensors.text.cuda()\n",
        "                y = batch_tensors.target.cuda()\n",
        "                \n",
        "                assert self.network.training, 'make sure your network is in train mode with `.train()`'\n",
        "                optimizer.zero_grad()\n",
        "                logits, state = self.network(x, state)\n",
        "                \n",
        "                #print(torch.transpose(logits, 1,2).size(), y.size())\n",
        "                loss = F.cross_entropy( logits.view(-1, logits.size()[2]), y.view(-1))\n",
        "                \n",
        "                l2_lambda = 0.00001\n",
        "                l2_reg = torch.tensor(0.).cuda()\n",
        "                l2_reg += torch.norm(self.network.final_layer.weight, p=2)\n",
        "                loss += l2_lambda * l2_reg\n",
        "\n",
        "                loss.backward()\n",
        "                optimizer.step()\n",
        "                \n",
        "                \n",
        "                \n",
        "            validation_score = self.dataset_perplexity(validation_dataset)\n",
        "            IPLSTM_perplexity.append(validation_score)\n",
        "            print(validation_score)\n",
        "            if validation_score < best_score:\n",
        "                check_point = torch.save(self.network.state_dict(), PATH)\n",
        "                best_score = validation_score\n",
        "            print(validation_score)\n",
        "        self.network.load_state_dict(torch.load(PATH))\n",
        "        return self.network\n",
        "        # END SOLUTION\n",
        "\n",
        "    def next_word_probabilities(self, text_prefix):\n",
        "        \"Return a list of probabilities for each word in the vocabulary.\"\n",
        "\n",
        "        prefix_token_tensor = torch.tensor(ids(text_prefix), device='cuda').view(-1, 1)\n",
        "        \n",
        "        # YOUR CODE HERE\n",
        "        self.network.eval()\n",
        "        state = init_state(3, 1, 512)\n",
        "        out, state = self.network(prefix_token_tensor, state)\n",
        "        out = F.softmax(out, -1)\n",
        "        out = out[-1]\n",
        "        out = out.view(-1)\n",
        "        return out.tolist()\n",
        "        # BEGIN SOLUTION\n",
        "        \n",
        "        # END SOLUTION\n",
        "\n",
        "    def dataset_perplexity(self, torchtext_dataset):\n",
        "        \"Return perplexity as a float.\"\n",
        "        # Your code should be very similar to next_word_probabilities, but\n",
        "        # run in a loop over batches. Use torch.no_grad() for extra speed.\n",
        "\n",
        "        iterator = torchtext.data.BPTTIterator(torchtext_dataset, batch_size=64, bptt_len=32, device='cuda')\n",
        "\n",
        "        # YOUR CODE HERE\n",
        "\n",
        "        # BEGIN SOLUTION\n",
        "        self.network.eval()\n",
        "        \n",
        "        with torch.no_grad():\n",
        "            total_prob = 0        \n",
        "            count = 0\n",
        "            state = init_state(3, 64, 512)\n",
        "            for batch_tensors in tqdm.tqdm_notebook(iterator):\n",
        "                    x = batch_tensors.text.cuda()\n",
        "                    y = batch_tensors.target.cuda()\n",
        "                    \n",
        "                    assert not self.network.training, 'make sure your network is in train mode with `.train()`'\n",
        "                    output, state = self.network(x, state)\n",
        "                    #print(output.size())\n",
        "                    logits = F.softmax(output, -1)\n",
        "                    #print(logits.size())\n",
        "                    logits, y = logits.view(-1, logits.size()[2]), y.view(-1)\n",
        "                    probs = torch.gather(logits, -1, y.unsqueeze(1)).squeeze()\n",
        "                    #print(probs)\n",
        "                    total_prob += torch.sum(torch.log2(probs)).item()\n",
        "                    count += x.size()[1]*x.size()[0]\n",
        "            print(total_prob)\n",
        "            total_prob = total_prob/count\n",
        "        total_prob = 2**(-total_prob)\n",
        "        self.network.train()\n",
        "        return total_prob\n",
        "        \n",
        "        # END SOLUTION\n"
      ]
    },
    {
      "cell_type": "code",
      "execution_count": 11,
      "metadata": {},
      "outputs": [
        {
          "name": "stderr",
          "output_type": "stream",
          "text": [
            "c:\\Users\\yangh\\Anaconda3\\envs\\gluon\\lib\\site-packages\\ipykernel_launcher.py:156: TqdmDeprecationWarning: This function will be removed in tqdm==5.0.0\n",
            "Please use `tqdm.notebook.tqdm` instead of `tqdm.tqdm_notebook`\n"
          ]
        },
        {
          "data": {
            "application/vnd.jupyter.widget-view+json": {
              "model_id": "e28055afdf134a8588d7b948b5a19884",
              "version_major": 2,
              "version_minor": 0
            },
            "text/plain": [
              "  0%|          | 0/107 [00:00<?, ?it/s]"
            ]
          },
          "metadata": {},
          "output_type": "display_data"
        },
        {
          "name": "stdout",
          "output_type": "stream",
          "text": [
            "-1623355.3774414062\n",
            "lstm validation perplexity: 176.1026579865959\n"
          ]
        },
        {
          "name": "stderr",
          "output_type": "stream",
          "text": [
            "c:\\Users\\yangh\\Anaconda3\\envs\\gluon\\lib\\site-packages\\ipykernel_launcher.py:28: TqdmDeprecationWarning: This function will be removed in tqdm==5.0.0\n",
            "Please use `tqdm.notebook.tqdm` instead of `tqdm.tqdm_notebook`\n"
          ]
        },
        {
          "data": {
            "application/vnd.jupyter.widget-view+json": {
              "model_id": "6b05f838e31d485a89cdaaf095b6ecec",
              "version_major": 2,
              "version_minor": 0
            },
            "text/plain": [
              "  0%|          | 0/5000 [00:00<?, ?it/s]"
            ]
          },
          "metadata": {},
          "output_type": "display_data"
        },
        {
          "name": "stdout",
          "output_type": "stream",
          "text": [
            "saved lstm_predictions.npy\n"
          ]
        }
      ],
      "source": [
        "lstm_model = LSTMModel()\n",
        "lstm_model.network.load_state_dict(torch.load(\"model1b3\"))\n",
        "print('lstm validation perplexity:', lstm_model.dataset_perplexity(validation_dataset))\n",
        "save_truncated_distribution(lstm_model, 'lstm_predictions.npy', short=False)"
      ]
    },
    {
      "cell_type": "code",
      "execution_count": null,
      "metadata": {},
      "outputs": [],
      "source": [
        "lstm_model = LSTMModel()\n",
        "lstm_model.train()\n",
        "\n",
        "print('lstm validation perplexity:', lstm_model.dataset_perplexity(validation_dataset))\n",
        "save_truncated_distribution(lstm_model, 'lstm_predictions.npy', short=False)"
      ]
    },
    {
      "cell_type": "markdown",
      "metadata": {
        "id": "BHTOfrCG8CRF"
      },
      "source": [
        "### Gradescope\n",
        "\n",
        "To download this notebook, go to `File->Download .ipynb`.  Please rename the file to match the name in our file list.  You can download other outputs by clicking the > arrow near the top left and finding it under `Files`. When submitting your ipython notebooks, make sure everything runs correctly if the cells are executed in order starting from a fresh session.  Note that just because a cell runs in your current session doesn't mean it doesn't rely on code that you have already changed or deleted.  If the code doesn't take too long to run, we recommend re-running everything with `Runtime->Restart and run all...`.\n",
        "\n",
        "Be sure to check the output of the autograder after it runs.  It should confirm that no files are missing and that the output files have the correct format.  Note that the test set perplexities shown by the autograder are on a completely different scale from your validation set perplexities due to truncating the distribution and selecting different text.  Don't worry if the values seem much worse."
      ]
    },
    {
      "cell_type": "code",
      "execution_count": 1,
      "metadata": {},
      "outputs": [
        {
          "ename": "NameError",
          "evalue": "name 'np' is not defined",
          "output_type": "error",
          "traceback": [
            "\u001b[1;31m---------------------------------------------------------------------------\u001b[0m",
            "\u001b[1;31mNameError\u001b[0m                                 Traceback (most recent call last)",
            "\u001b[1;32m<ipython-input-1-82a08934b18a>\u001b[0m in \u001b[0;36m<module>\u001b[1;34m\u001b[0m\n\u001b[0;32m      1\u001b[0m \u001b[1;32mfrom\u001b[0m \u001b[0mmatplotlib\u001b[0m \u001b[1;32mimport\u001b[0m \u001b[0mpyplot\u001b[0m \u001b[1;32mas\u001b[0m \u001b[0mplt\u001b[0m\u001b[1;33m\u001b[0m\u001b[1;33m\u001b[0m\u001b[0m\n\u001b[1;32m----> 2\u001b[1;33m \u001b[0mepochs\u001b[0m \u001b[1;33m=\u001b[0m \u001b[0mnp\u001b[0m\u001b[1;33m.\u001b[0m\u001b[0marange\u001b[0m\u001b[1;33m(\u001b[0m\u001b[1;36m0\u001b[0m\u001b[1;33m,\u001b[0m \u001b[1;36m20\u001b[0m\u001b[1;33m,\u001b[0m \u001b[1;36m1\u001b[0m\u001b[1;33m)\u001b[0m\u001b[1;33m\u001b[0m\u001b[1;33m\u001b[0m\u001b[0m\n\u001b[0m\u001b[0;32m      3\u001b[0m \u001b[0mplt\u001b[0m\u001b[1;33m.\u001b[0m\u001b[0mplot\u001b[0m\u001b[1;33m(\u001b[0m\u001b[0mepochs\u001b[0m\u001b[1;33m,\u001b[0m \u001b[0mLSTM_perplexity\u001b[0m\u001b[1;33m,\u001b[0m \u001b[0mlabel\u001b[0m \u001b[1;33m=\u001b[0m \u001b[1;34m\"LSTM\"\u001b[0m\u001b[1;33m)\u001b[0m\u001b[1;33m\u001b[0m\u001b[1;33m\u001b[0m\u001b[0m\n\u001b[0;32m      4\u001b[0m \u001b[0mplt\u001b[0m\u001b[1;33m.\u001b[0m\u001b[0mplot\u001b[0m\u001b[1;33m(\u001b[0m\u001b[0mepochs\u001b[0m\u001b[1;33m,\u001b[0m \u001b[0mIPLSTM_perplexity\u001b[0m\u001b[1;33m,\u001b[0m \u001b[0mlabel\u001b[0m \u001b[1;33m=\u001b[0m \u001b[1;34m\"improved_LSTM\"\u001b[0m\u001b[1;33m)\u001b[0m\u001b[1;33m\u001b[0m\u001b[1;33m\u001b[0m\u001b[0m\n\u001b[0;32m      5\u001b[0m \u001b[0mplt\u001b[0m\u001b[1;33m.\u001b[0m\u001b[0mlegend\u001b[0m\u001b[1;33m(\u001b[0m\u001b[1;33m)\u001b[0m\u001b[1;33m\u001b[0m\u001b[1;33m\u001b[0m\u001b[0m\n",
            "\u001b[1;31mNameError\u001b[0m: name 'np' is not defined"
          ]
        }
      ],
      "source": [
        "from matplotlib import pyplot as plt\n",
        "epochs = np.arange(0, 20, 1)\n",
        "plt.plot(epochs, LSTM_perplexity, label = \"LSTM\")\n",
        "plt.plot(epochs, IPLSTM_perplexity, label = \"improved_LSTM\")\n",
        "plt.legend()\n",
        "plt.show()"
      ]
    },
    {
      "cell_type": "code",
      "execution_count": null,
      "metadata": {},
      "outputs": [],
      "source": []
    }
  ],
  "metadata": {
    "accelerator": "GPU",
    "colab": {
      "collapsed_sections": [],
      "name": "hw1b.ipynb",
      "provenance": []
    },
    "kernelspec": {
      "display_name": "Python 3",
      "name": "python3"
    },
    "language_info": {
      "codemirror_mode": {
        "name": "ipython",
        "version": 3
      },
      "file_extension": ".py",
      "mimetype": "text/x-python",
      "name": "python",
      "nbconvert_exporter": "python",
      "pygments_lexer": "ipython3",
      "version": "3.6.13"
    }
  },
  "nbformat": 4,
  "nbformat_minor": 0
}
